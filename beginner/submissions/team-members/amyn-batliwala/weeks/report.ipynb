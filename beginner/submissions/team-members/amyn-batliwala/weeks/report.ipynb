{
 "cells": [
  {
   "cell_type": "code",
   "execution_count": null,
   "id": "9dea7a5d",
   "metadata": {
    "vscode": {
     "languageId": "plaintext"
    }
   },
   "outputs": [],
   "source": [
    "## 📝 Data Processing Report\n",
    "\n",
    "### 1. Data Overview\n",
    "- **Source:** `diabetes_binary_health_indicators_BRFSS2015.csv`\n",
    "- **Rows & Columns:** After loading, the dataset contains `{df.shape[0]}` rows and `{df.shape[1]}` columns.\n",
    "- **Sample Data:**\n",
    "    - The first few rows show health indicators such as HighBP, HighChol, BMI, Smoker, Stroke, HeartDiseaseorAttack, PhysActivity, GenHlth, Age, Education, Income, and Diabetes_binary.\n",
    "\n",
    "### 2. Feature Engineering\n",
    "- **Binary Features:** Encoded columns like Smoker, HighBP, Stroke, HighChol, HeartDiseaseorAttack, PhysActivity to 0/1.\n",
    "- **Ordinal Features:** GenHlth is already numeric; no further encoding needed.\n",
    "- **Nominal Features:** Age, Education, and Income were one-hot encoded.\n",
    "- **New Features:** Created BMI_Category (Underweight, Normal, Overweight, Obese) and one-hot encoded it.\n",
    "\n",
    "### 3. Data Imbalance Handling\n",
    "- **Technique:** SMOTE was applied to balance the target variable (`Diabetes_binary`).\n",
    "- **Result:** The number of diabetic and non-diabetic samples is now equal in the resampled data.\n",
    "\n",
    "### 4. Feature Scaling\n",
    "- **Numerical Features:** All numerical columns were normalized using StandardScaler.\n",
    "\n",
    "### 5. Data Splitting\n",
    "- **Train/Validation/Test Split:** \n",
    "    - Training set: `{X_train.shape[0]}` samples\n",
    "    - Validation set: `{X_val.shape[0]}` samples\n",
    "    - Test set: `{X_test.shape[0]}` samples\n",
    "- **Stratification:** Ensured class balance in all splits.\n",
    "\n",
    "### 6. Insights\n",
    "- The dataset is now clean, balanced, and ready for modeling.\n",
    "- Feature engineering added interpretable categories for BMI.\n",
    "- All categorical and numerical features are in machine-learning-ready format.\n",
    "\n",
    "---\n",
    "\n",
    "**Next Steps:**  \n",
    "Proceed to model development and experimentation using the processed data splits."
   ]
  },
  {
   "cell_type": "markdown",
   "id": "b84a1225",
   "metadata": {},
   "source": []
  }
 ],
 "metadata": {
  "language_info": {
   "name": "python"
  }
 },
 "nbformat": 4,
 "nbformat_minor": 5
}
