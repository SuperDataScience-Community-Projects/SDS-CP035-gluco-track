{
 "cells": [
  {
   "cell_type": "markdown",
   "id": "33fce36c",
   "metadata": {},
   "source": [
    "# Feture Engineering & Processing\n"
   ]
  },
  {
   "cell_type": "markdown",
   "id": "5abcb2ec",
   "metadata": {},
   "source": [
    "### Imports\n"
   ]
  },
  {
   "cell_type": "code",
   "execution_count": 66,
   "id": "365e5fe3",
   "metadata": {},
   "outputs": [],
   "source": [
    "import pandas as pd\n",
    "from sklearn.model_selection import train_test_split\n",
    "from sklearn.preprocessing import StandardScaler, LabelEncoder, OneHotEncoder, OrdinalEncoder\n",
    "from imblearn.over_sampling import SMOTE\n",
    "from sklearn.linear_model import LogisticRegression\n",
    "from sklearn.tree import DecisionTreeClassifier\n",
    "from sklearn.naive_bayes import GaussianNB\n",
    "from sklearn.metrics import accuracy_score, precision_score, recall_score, f1_score, confusion_matrix, classification_report\n",
    "import mlflow"
   ]
  },
  {
   "cell_type": "markdown",
   "id": "ae4060ce",
   "metadata": {},
   "source": [
    "### Load data"
   ]
  },
  {
   "cell_type": "code",
   "execution_count": 67,
   "id": "4be8e07e",
   "metadata": {},
   "outputs": [
    {
     "name": "stdout",
     "output_type": "stream",
     "text": [
      "   Diabetes_binary  HighBP  HighChol  CholCheck   BMI  Smoker  Stroke  \\\n",
      "0              0.0     1.0       1.0        1.0  40.0     1.0     0.0   \n",
      "1              0.0     0.0       0.0        0.0  25.0     1.0     0.0   \n",
      "2              0.0     1.0       1.0        1.0  28.0     0.0     0.0   \n",
      "3              0.0     1.0       0.0        1.0  27.0     0.0     0.0   \n",
      "4              0.0     1.0       1.0        1.0  24.0     0.0     0.0   \n",
      "\n",
      "   HeartDiseaseorAttack  PhysActivity  Fruits  ...  AnyHealthcare  \\\n",
      "0                   0.0           0.0     0.0  ...            1.0   \n",
      "1                   0.0           1.0     0.0  ...            0.0   \n",
      "2                   0.0           0.0     1.0  ...            1.0   \n",
      "3                   0.0           1.0     1.0  ...            1.0   \n",
      "4                   0.0           1.0     1.0  ...            1.0   \n",
      "\n",
      "   NoDocbcCost  GenHlth  MentHlth  PhysHlth  DiffWalk  Sex   Age  Education  \\\n",
      "0          0.0      5.0      18.0      15.0       1.0  0.0   9.0        4.0   \n",
      "1          1.0      3.0       0.0       0.0       0.0  0.0   7.0        6.0   \n",
      "2          1.0      5.0      30.0      30.0       1.0  0.0   9.0        4.0   \n",
      "3          0.0      2.0       0.0       0.0       0.0  0.0  11.0        3.0   \n",
      "4          0.0      2.0       3.0       0.0       0.0  0.0  11.0        5.0   \n",
      "\n",
      "   Income  \n",
      "0     3.0  \n",
      "1     1.0  \n",
      "2     8.0  \n",
      "3     6.0  \n",
      "4     4.0  \n",
      "\n",
      "[5 rows x 22 columns]\n"
     ]
    }
   ],
   "source": [
    "df = pd.read_csv('../data/diabetes_binary_health_indicators_BRFSS2015.csv')\n",
    "print(df.head())"
   ]
  },
  {
   "cell_type": "markdown",
   "id": "22106177",
   "metadata": {},
   "source": [
    "### Encode binary, ordinal, and nominal features"
   ]
  },
  {
   "cell_type": "code",
   "execution_count": 68,
   "id": "d765a5b8",
   "metadata": {},
   "outputs": [],
   "source": [
    "binary_cols = ['Smoker', 'HighBP', 'Stroke', 'HighChol', 'BMI', 'HeartDiseaseorAttack', 'PhysActivity']\n",
    "for col in binary_cols:\n",
    "    if df[col].dtype == 'object':\n",
    "        df[col] = df[col].map({'Yes': 1, 'No': 0, 'Male': 1, 'Female': 0})\n"
   ]
  },
  {
   "cell_type": "code",
   "execution_count": 69,
   "id": "5492b0ec",
   "metadata": {},
   "outputs": [
    {
     "name": "stdout",
     "output_type": "stream",
     "text": [
      "[5. 3. 2. 4. 1.]\n"
     ]
    }
   ],
   "source": [
    "print(df['GenHlth'].unique())"
   ]
  },
  {
   "cell_type": "code",
   "execution_count": 70,
   "id": "c9c0ef11",
   "metadata": {},
   "outputs": [
    {
     "name": "stdout",
     "output_type": "stream",
     "text": [
      "0    5.0\n",
      "1    3.0\n",
      "2    5.0\n",
      "3    2.0\n",
      "4    2.0\n",
      "Name: GenHlth, dtype: float64\n"
     ]
    }
   ],
   "source": [
    "# GenHlth is already numeric, nothing else needed\n",
    "print(df['GenHlth'].head())"
   ]
  },
  {
   "cell_type": "code",
   "execution_count": 71,
   "id": "6fc1dad5",
   "metadata": {},
   "outputs": [],
   "source": [
    "# Nominal columns\n",
    "nominal_cols = ['Age', 'Education', 'Income']\n",
    "df = pd.get_dummies(df, columns=nominal_cols)"
   ]
  },
  {
   "cell_type": "code",
   "execution_count": 72,
   "id": "f757fc3f",
   "metadata": {},
   "outputs": [],
   "source": [
    "# Create new features (BMI categories)\n",
    "def bmi_category(bmi):\n",
    "    if bmi < 18.5:\n",
    "        return 'Underweight'\n",
    "    elif bmi < 25:\n",
    "        return 'Normal'\n",
    "    elif bmi < 30:\n",
    "        return 'Overweight'\n",
    "    else:\n",
    "        return 'Obese'\n",
    "df['BMI_Category'] = df['BMI'].apply(bmi_category)\n",
    "df = pd.get_dummies(df, columns=['BMI_Category'])"
   ]
  },
  {
   "cell_type": "markdown",
   "id": "255419a7",
   "metadata": {},
   "source": [
    "#### Handle data imbalance using SMOTE"
   ]
  },
  {
   "cell_type": "code",
   "execution_count": 73,
   "id": "97cacc3a",
   "metadata": {},
   "outputs": [],
   "source": [
    "target_col = 'Diabetes_binary' \n",
    "X = df.drop(target_col, axis=1)\n",
    "y = df[target_col]\n",
    "\n",
    "smote = SMOTE(random_state=42)\n",
    "X_res, y_res = smote.fit_resample(X, y)"
   ]
  },
  {
   "cell_type": "markdown",
   "id": "d9c28b0d",
   "metadata": {},
   "source": [
    "#### Normalize numerical features"
   ]
  },
  {
   "cell_type": "code",
   "execution_count": 74,
   "id": "8e496f00",
   "metadata": {},
   "outputs": [],
   "source": [
    "num_cols = X_res.select_dtypes(include='number').columns\n",
    "scaler = StandardScaler()\n",
    "X_res[num_cols] = scaler.fit_transform(X_res[num_cols])"
   ]
  },
  {
   "cell_type": "markdown",
   "id": "971e928d",
   "metadata": {},
   "source": [
    "#### Split data using stratified train/validation/test sets"
   ]
  },
  {
   "cell_type": "code",
   "execution_count": 75,
   "id": "a452f03e",
   "metadata": {},
   "outputs": [],
   "source": [
    "X_train, X_temp, y_train, y_temp = train_test_split(\n",
    "    X_res, y_res, test_size=0.3, stratify=y_res, random_state=42\n",
    ")\n",
    "X_val, X_test, y_val, y_test = train_test_split(\n",
    "    X_temp, y_temp, test_size=0.5, stratify=y_temp, random_state=42\n",
    ")"
   ]
  },
  {
   "cell_type": "markdown",
   "id": "efe491b1",
   "metadata": {},
   "source": [
    "#### Print results"
   ]
  },
  {
   "cell_type": "code",
   "execution_count": 76,
   "id": "4caea2f8",
   "metadata": {},
   "outputs": [
    {
     "name": "stdout",
     "output_type": "stream",
     "text": [
      "Train shape: (305667, 49)\n",
      "Validation shape: (65500, 49)\n",
      "Test shape: (65501, 49)\n"
     ]
    }
   ],
   "source": [
    "print(\"Train shape:\", X_train.shape)\n",
    "print(\"Validation shape:\", X_val.shape)\n",
    "print(\"Test shape:\", X_test.shape)"
   ]
  },
  {
   "cell_type": "markdown",
   "id": "9dd69cf9",
   "metadata": {},
   "source": [
    "# Week 3 : Model Development & Experimentation"
   ]
  },
  {
   "cell_type": "markdown",
   "id": "d6a1d7d2",
   "metadata": {},
   "source": []
  },
  {
   "cell_type": "code",
   "execution_count": 77,
   "id": "3ad6df5a",
   "metadata": {},
   "outputs": [
    {
     "name": "stdout",
     "output_type": "stream",
     "text": [
      "\n",
      "Logistic Regression Results:\n",
      "              precision    recall  f1-score   support\n",
      "\n",
      "         0.0       0.81      0.90      0.85     32750\n",
      "         1.0       0.88      0.80      0.84     32750\n",
      "\n",
      "    accuracy                           0.85     65500\n",
      "   macro avg       0.85      0.85      0.85     65500\n",
      "weighted avg       0.85      0.85      0.85     65500\n",
      "\n",
      "Confusion Matrix:\n",
      " [[29364  3386]\n",
      " [ 6705 26045]]\n",
      "\n",
      "Decision Tree Results:\n",
      "              precision    recall  f1-score   support\n",
      "\n",
      "         0.0       0.88      0.87      0.88     32750\n",
      "         1.0       0.87      0.88      0.88     32750\n",
      "\n",
      "    accuracy                           0.88     65500\n",
      "   macro avg       0.88      0.88      0.88     65500\n",
      "weighted avg       0.88      0.88      0.88     65500\n",
      "\n",
      "Confusion Matrix:\n",
      " [[28581  4169]\n",
      " [ 3809 28941]]\n",
      "\n",
      "Naive Bayes Results:\n",
      "              precision    recall  f1-score   support\n",
      "\n",
      "         0.0       0.79      0.64      0.71     32750\n",
      "         1.0       0.70      0.83      0.76     32750\n",
      "\n",
      "    accuracy                           0.73     65500\n",
      "   macro avg       0.74      0.73      0.73     65500\n",
      "weighted avg       0.74      0.73      0.73     65500\n",
      "\n",
      "Confusion Matrix:\n",
      " [[20919 11831]\n",
      " [ 5545 27205]]\n"
     ]
    }
   ],
   "source": [
    "# Train baseline models\n",
    "models = {\n",
    "    \"Logistic Regression\": LogisticRegression(max_iter=1000, random_state=42),\n",
    "    \"Decision Tree\": DecisionTreeClassifier(random_state=42),\n",
    "    \"Naive Bayes\": GaussianNB()\n",
    "}\n",
    "\n",
    "\n",
    "results = {}\n",
    "\n",
    "for name, model in models.items():\n",
    "    with mlflow.start_run(run_name=name):\n",
    "        model.fit(X_train, y_train)\n",
    "        y_pred = model.predict(X_val)\n",
    "        acc = accuracy_score(y_val, y_pred)\n",
    "        prec = precision_score(y_val, y_pred)\n",
    "        rec = recall_score(y_val, y_pred)\n",
    "        f1 = f1_score(y_val, y_pred)\n",
    "        cm = confusion_matrix(y_val, y_pred)\n",
    "        mlflow.log_metric(\"accuracy\", acc)\n",
    "        mlflow.log_metric(\"precision\", prec)\n",
    "        mlflow.log_metric(\"recall\", rec)\n",
    "        mlflow.log_metric(\"f1_score\", f1)\n",
    "        results[name] = {\n",
    "            \"accuracy\": acc,\n",
    "            \"precision\": prec,\n",
    "            \"recall\": rec,\n",
    "            \"f1_score\": f1,\n",
    "            \"confusion_matrix\": cm\n",
    "        }\n",
    "        print(f\"\\n{name} Results:\")\n",
    "        print(classification_report(y_val, y_pred))\n",
    "        print(\"Confusion Matrix:\\n\", cm)"
   ]
  }
 ],
 "metadata": {
  "kernelspec": {
   "display_name": "SDS-CP035-gluco-track (3.11.4)",
   "language": "python",
   "name": "python3"
  },
  "language_info": {
   "codemirror_mode": {
    "name": "ipython",
    "version": 3
   },
   "file_extension": ".py",
   "mimetype": "text/x-python",
   "name": "python",
   "nbconvert_exporter": "python",
   "pygments_lexer": "ipython3",
   "version": "3.11.4"
  }
 },
 "nbformat": 4,
 "nbformat_minor": 5
}
