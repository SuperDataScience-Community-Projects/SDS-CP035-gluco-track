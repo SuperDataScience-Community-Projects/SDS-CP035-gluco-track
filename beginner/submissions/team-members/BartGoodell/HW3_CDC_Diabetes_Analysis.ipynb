{
 "cells": [
  {
   "cell_type": "markdown",
   "metadata": {
    "id": "f6s3hXAltabo"
   },
   "source": [
    "[![Open In Colab](https://colab.research.google.com/assets/colab-badge.svg)](https://colab.research.google.com/github/BartGoodell/SDS-CP035-gluco-track/blob/report/work/beginner/submissions/team-members/BartGoodell/CDC_Diabetes_Analysis.ipynb)\n",
    "&nbsp;•&nbsp;\n",
    "[View on GitHub](https://github.com/BartGoodell/SDS-CP035-gluco-track/blob/report/work/beginner/submissions/team-members/BartGoodell/CDC_Diabetes_Analysis.ipynb)\n"
   ]
  },
  {
   "cell_type": "markdown",
   "metadata": {
    "id": "_wht-wSoN5Mp"
   },
   "source": [
    "Load Packages for Processing"
   ]
  },
  {
   "cell_type": "code",
   "execution_count": null,
   "metadata": {
    "id": "Q0PdxmguNzVz"
   },
   "outputs": [],
   "source": [
    "import pandas as pd\n",
    "import numpy as np\n",
    "import matplotlib.pyplot as plt\n",
    "import seaborn as sns"
   ]
  },
  {
   "cell_type": "markdown",
   "metadata": {
    "id": "OZxMCfbVN05A"
   },
   "source": [
    "Import Libraries from UCI Github for data\n"
   ]
  },
  {
   "cell_type": "code",
   "execution_count": null,
   "metadata": {
    "colab": {
     "base_uri": "https://localhost:8080/"
    },
    "id": "YP1G-BSVOf_M",
    "outputId": "1a171ead-565a-4123-a4c1-8e68cec2876e"
   },
   "outputs": [],
   "source": [
    "!pip3 install -U ucimlrepo"
   ]
  },
  {
   "cell_type": "code",
   "execution_count": null,
   "metadata": {
    "colab": {
     "base_uri": "https://localhost:8080/"
    },
    "id": "0jJx86JVPEFu",
    "outputId": "6af4b1a7-59d5-439a-de8a-7383fc17d394"
   },
   "outputs": [],
   "source": [
    "from ucimlrepo import fetch_ucirepo\n",
    "\n",
    "# fetch dataset\n",
    "cdc_diabetes_health_indicators = fetch_ucirepo(id=891)\n",
    "\n",
    "# data (as pandas dataframes)\n",
    "X = cdc_diabetes_health_indicators.data.features\n",
    "y = cdc_diabetes_health_indicators.data.targets\n",
    "\n",
    "# metadata\n",
    "print(cdc_diabetes_health_indicators.metadata)\n",
    "\n",
    "# variable information\n",
    "print(cdc_diabetes_health_indicators.variables)\n"
   ]
  },
  {
   "cell_type": "code",
   "execution_count": null,
   "metadata": {
    "id": "17397b04"
   },
   "outputs": [],
   "source": [
    "from ucimlrepo import fetch_ucirepo\n",
    "\n",
    "# fetch dataset\n",
    "cdc_diabetes_health_indicators = fetch_ucirepo(id=891)\n",
    "\n",
    "# data (as pandas dataframes)\n",
    "X = cdc_diabetes_health_indicators.data.features\n",
    "y = cdc_diabetes_health_indicators.data.targets\n",
    "\n",
    "# Combine dataframes\n",
    "df = pd.concat([X, y], axis=1)"
   ]
  },
  {
   "cell_type": "markdown",
   "metadata": {
    "id": "091394b1"
   },
   "source": [
    "# Task\n",
    "Explain the error in the selected code, fix it if possible, and incorporate the changes into the existing code. If not, diagnose the error."
   ]
  },
  {
   "cell_type": "code",
   "execution_count": null,
   "metadata": {
    "colab": {
     "base_uri": "https://localhost:8080/"
    },
    "id": "5b1b1d36",
    "outputId": "7b9991fa-1b47-44b5-c111-1afe6038478a"
   },
   "outputs": [],
   "source": [
    "print(\"Justification for GenHlth Mapping:\")\n",
    "print(\"The dataset description for 'GenHlth' indicates that the integer values represent a subjective assessment of general health, where 1 is Excellent, 2 is Very Good, 3 is Good, 4 is Fair, and 5 is Poor. The chosen mapping preserves this inherent ordinal structure, assigning a numerical value to each level that reflects its position on a scale from best health (1) to worst health (5).\")\n",
    "\n",
    "print(\"\\nJustification for Education Mapping:\")\n",
    "print(\"The dataset description for 'Education' indicates that the integer values represent increasing levels of education, from Never attended school or only kindergarten (1) to College graduate (6). The chosen mapping preserves this inherent ordinal structure, assigning a numerical value to each level that reflects its position in the hierarchy of educational attainment.\")"
   ]
  },
  {
   "cell_type": "code",
   "execution_count": null,
   "metadata": {
    "colab": {
     "base_uri": "https://localhost:8080/",
     "height": 292
    },
    "id": "65e409c1",
    "outputId": "dbeeba9e-e14f-4531-8fba-71bff53a822f"
   },
   "outputs": [],
   "source": [
    "print(\"Justification for Education Mapping:\")\n",
    "print(\"The dataset description for 'Education' indicates that the integer values represent increasing levels of education, from no schooling (1) to college graduate (6). The chosen mapping preserves this inherent ordinal structure, assigning a numerical value to each level that reflects its position in the hierarchy of educational attainment.\")\n",
    "\n",
    "display(df.head())"
   ]
  },
  {
   "cell_type": "code",
   "execution_count": null,
   "metadata": {
    "colab": {
     "base_uri": "https://localhost:8080/"
    },
    "id": "8d3979df",
    "outputId": "d9825cbd-5bc7-49ad-db0e-eb42d820a0d2"
   },
   "outputs": [],
   "source": [
    "# Define the custom mapping for Education based on its description\n",
    "# 1 = Never attended school or only kindergarten, 2 = Grades 1 through 8 (Elementary),\n",
    "# 3 = Grades 9 through 11 (Some high school), 4 = Grade 12 (High school graduate),\n",
    "# 5 = Some college or technical school, 6 = College graduate\n",
    "education_mapping = {1: 1, 2: 2, 3: 3, 4: 4, 5: 5, 6: 6}\n",
    "\n",
    "# Apply the mapping to the 'Education' column\n",
    "df['Education'] = df['Education'].map(education_mapping)\n",
    "\n",
    "print(\"Education column mapped.\")"
   ]
  },
  {
   "cell_type": "code",
   "execution_count": null,
   "metadata": {
    "colab": {
     "base_uri": "https://localhost:8080/"
    },
    "id": "3b81cf98",
    "outputId": "39c7e025-0ccb-49d3-acae-f7d71ad0b9ef"
   },
   "outputs": [],
   "source": [
    "# Define the custom mapping for GenHlth based on its description\n",
    "# 1 = excellent, 2 = very good, 3 = good, 4 = fair, 5 = poor\n",
    "# The current integer values already represent the ordinal nature, so we keep them as is for the mapping.\n",
    "genhlth_mapping = {1: 1, 2: 2, 3: 3, 4: 4, 5: 5}\n",
    "\n",
    "# Apply the mapping to the 'GenHlth' column\n",
    "df['GenHlth'] = df['GenHlth'].map(genhlth_mapping)\n",
    "\n",
    "print(\"GenHlth column mapped.\")"
   ]
  },
  {
   "cell_type": "markdown",
   "metadata": {
    "id": "38c41bac"
   },
   "source": [
    "## Combine data\n",
    "\n",
    "### Subtask:\n",
    "Combine the features (`X`) and the target (`y`) DataFrames into a single DataFrame.\n"
   ]
  },
  {
   "cell_type": "markdown",
   "metadata": {
    "id": "a40989be"
   },
   "source": [
    "**Reasoning**:\n",
    "Concatenate the features and target dataframes into a single dataframe.\n",
    "\n"
   ]
  },
  {
   "cell_type": "code",
   "execution_count": null,
   "metadata": {
    "colab": {
     "base_uri": "https://localhost:8080/",
     "height": 255
    },
    "id": "48a7f8e6",
    "outputId": "b97bd90f-8867-4666-901f-b237f4a437f2"
   },
   "outputs": [],
   "source": [
    "df = pd.concat([X, y], axis=1)\n",
    "display(df.head())"
   ]
  },
  {
   "cell_type": "markdown",
   "metadata": {
    "id": "49884270"
   },
   "source": [
    "## Exploratory data analysis (eda)\n",
    "\n",
    "### Subtask:\n",
    "Perform basic EDA on the combined DataFrame, including checking for missing values, examining data types, and visualizing distributions.\n"
   ]
  },
  {
   "cell_type": "markdown",
   "metadata": {
    "id": "fb332e29"
   },
   "source": [
    "**Reasoning**:\n",
    "Perform basic EDA by checking for missing values, examining data types, and generating descriptive statistics.\n",
    "\n"
   ]
  },
  {
   "cell_type": "code",
   "execution_count": null,
   "metadata": {
    "colab": {
     "base_uri": "https://localhost:8080/",
     "height": 1000
    },
    "id": "df05f74f",
    "outputId": "411c9d52-9ece-43ee-9301-235fd82dc4fe"
   },
   "outputs": [],
   "source": [
    "# Check for missing values\n",
    "print(\"Missing values per column:\")\n",
    "print(df.isnull().sum())\n",
    "\n",
    "# Display data types\n",
    "print(\"\\nData types:\")\n",
    "df.info()\n",
    "\n",
    "# Generate descriptive statistics\n",
    "print(\"\\nDescriptive statistics:\")\n",
    "display(df.describe())"
   ]
  },
  {
   "cell_type": "markdown",
   "metadata": {
    "id": "88480fc8"
   },
   "source": [
    "**Reasoning**:\n",
    "Visualize the distributions of a few representative numerical features using histograms.\n",
    "\n"
   ]
  },
  {
   "cell_type": "code",
   "execution_count": null,
   "metadata": {
    "colab": {
     "base_uri": "https://localhost:8080/",
     "height": 739
    },
    "id": "642a097a",
    "outputId": "54bc7536-da28-43be-c356-72306f7782cb"
   },
   "outputs": [],
   "source": [
    "import matplotlib.pyplot as plt\n",
    "\n",
    "# Select a few numerical columns for visualization\n",
    "numerical_cols = ['BMI', 'GenHlth', 'MentHlth', 'PhysHlth', 'Age', 'Income']\n",
    "\n",
    "# Create histograms for the selected columns\n",
    "df[numerical_cols].hist(figsize=(15, 10))\n",
    "plt.tight_layout()\n",
    "plt.show()"
   ]
  },
  {
   "cell_type": "markdown",
   "metadata": {
    "id": "cb7d54c0"
   },
   "source": [
    "# Task\n",
    "Identify the binary categorical features in the dataframe, apply a simple mapping or encoder to them, and list the features that were encoded."
   ]
  },
  {
   "cell_type": "markdown",
   "metadata": {
    "id": "9c6a5de2"
   },
   "source": [
    "## Identify binary features\n",
    "\n",
    "### Subtask:\n",
    "Identify the columns in the DataFrame that are binary (containing only 0s and 1s).\n"
   ]
  },
  {
   "cell_type": "markdown",
   "metadata": {
    "id": "2645d288"
   },
   "source": [
    "**Reasoning**:\n",
    "Identify the columns in the DataFrame that are binary (containing only 0s and 1s) by iterating through columns and checking for two unique values that are 0 and 1.\n",
    "\n"
   ]
  },
  {
   "cell_type": "code",
   "execution_count": null,
   "metadata": {
    "colab": {
     "base_uri": "https://localhost:8080/"
    },
    "id": "caa81a78",
    "outputId": "f15fafa7-4353-45a1-99b4-cde2d767ec6b"
   },
   "outputs": [],
   "source": [
    "binary_cols = []\n",
    "for col in df.columns:\n",
    "    if df[col].nunique() == 2:\n",
    "        if set(df[col].unique()) == {0, 1}:\n",
    "            binary_cols.append(col)\n",
    "\n",
    "print(\"Binary columns:\")\n",
    "print(binary_cols)"
   ]
  },
  {
   "cell_type": "code",
   "execution_count": null,
   "metadata": {
    "colab": {
     "base_uri": "https://localhost:8080/",
     "height": 259
    },
    "id": "f5751063",
    "outputId": "8845cd2d-354a-4fff-82af-b7011be2832e"
   },
   "outputs": [],
   "source": [
    "# Define BMI categories and their corresponding bins\n",
    "bmi_bins = [0, 18.5, 25, 30, float('inf')]\n",
    "bmi_labels = ['Underweight', 'Normal', 'Overweight', 'Obese']\n",
    "\n",
    "# Create the new 'BMI_category' feature\n",
    "df['BMI_category'] = pd.cut(df['BMI'], bins=bmi_bins, labels=bmi_labels, right=False)\n",
    "\n",
    "# Display the value counts for the new 'BMI_category' feature\n",
    "print(\"Value counts for BMI categories:\")\n",
    "display(df['BMI_category'].value_counts())"
   ]
  },
  {
   "cell_type": "code",
   "execution_count": null,
   "metadata": {
    "colab": {
     "base_uri": "https://localhost:8080/"
    },
    "id": "abf83851",
    "outputId": "81fdd0f2-3823-495f-deae-dd94a3188f7b"
   },
   "outputs": [],
   "source": [
    "from ucimlrepo import fetch_ucirepo\n",
    "import pandas as pd\n",
    "from sklearn.model_selection import train_test_split\n",
    "\n",
    "# fetch dataset again to get the original data\n",
    "cdc_diabetes_health_indicators = fetch_ucirepo(id=891)\n",
    "\n",
    "# data (as pandas dataframes)\n",
    "X = cdc_diabetes_health_indicators.data.features\n",
    "y = cdc_diabetes_health_indicators.data.targets\n",
    "\n",
    "# Combine dataframes\n",
    "df = pd.concat([X, y], axis=1)\n",
    "\n",
    "# Recreate 'BMI_category' feature\n",
    "bmi_bins = [0, 18.5, 25, 30, float('inf')]\n",
    "bmi_labels = ['Underweight', 'Normal', 'Overweight', 'Obese']\n",
    "df['BMI_category'] = pd.cut(df['BMI'], bins=bmi_bins, labels=bmi_labels, right=False)\n",
    "\n",
    "# Recreate 'TotalHealthDays' feature\n",
    "df['TotalHealthDays'] = df['PhysHlth'] + df['MentHlth']\n",
    "\n",
    "# Define features (X) and target (y) from the corrected df\n",
    "X = df.drop('Diabetes_binary', axis=1)\n",
    "y = df['Diabetes_binary']\n",
    "\n",
    "# Split the dataset into training and testing sets with stratification\n",
    "X_train, X_test, y_train, y_test = train_test_split(X, y, test_size=0.2, stratify=y, random_state=42)\n",
    "\n",
    "print(\"Training set shape (X_train, y_train):\", X_train.shape, y_train.shape)\n",
    "print(\"Testing set shape (X_test, y_test):\", X_test.shape, y_test.shape)"
   ]
  },
  {
   "cell_type": "code",
   "execution_count": null,
   "metadata": {
    "colab": {
     "base_uri": "https://localhost:8080/",
     "height": 255
    },
    "id": "a3fdb581",
    "outputId": "5604d9c6-854a-48cd-dd89-fc3d4e40f8a6"
   },
   "outputs": [],
   "source": [
    "df['TotalHealthDays'] = df['PhysHlth'] + df['MentHlth']\n",
    "display(df.head())"
   ]
  },
  {
   "cell_type": "code",
   "execution_count": null,
   "metadata": {
    "colab": {
     "base_uri": "https://localhost:8080/"
    },
    "id": "cce2d792",
    "outputId": "0293c3b9-f9a9-46ec-8991-2c2b11cd2284"
   },
   "outputs": [],
   "source": [
    "print(\"Shape of X_train:\", X_train.shape)\n",
    "print(\"Shape of X_test:\", X_test.shape)\n",
    "print(\"Shape of y_train:\", y_train.shape)\n",
    "print(\"Shape of y_test:\", y_test.shape)"
   ]
  },
  {
   "cell_type": "code",
   "execution_count": null,
   "metadata": {
    "colab": {
     "base_uri": "https://localhost:8080/"
    },
    "id": "c6ab3131",
    "outputId": "72225637-7add-4cba-efea-f27ef63e5b02"
   },
   "outputs": [],
   "source": [
    "from imblearn.over_sampling import SMOTE\n",
    "from collections import Counter\n",
    "import pandas as pd\n",
    "\n",
    "# Display class distribution before SMOTE\n",
    "print(\"Class distribution before SMOTE:\", Counter(y_train))\n",
    "\n",
    "# Identify non-numerical columns in X_train\n",
    "non_numerical_cols = X_train.select_dtypes(exclude=['number']).columns\n",
    "\n",
    "# Apply one-hot encoding to non-numerical columns in X_train\n",
    "X_train_encoded = pd.get_dummies(X_train, columns=non_numerical_cols, drop_first=True)\n",
    "\n",
    "\n",
    "# Apply SMOTE to the training data\n",
    "smote = SMOTE(random_state=42)\n",
    "X_train_resampled, y_train_resampled = smote.fit_resample(X_train_encoded, y_train)\n",
    "\n",
    "# Display class distribution after SMOTE\n",
    "print(\"Class distribution after SMOTE:\", Counter(y_train_resampled))\n",
    "\n",
    "print(\"\\nShape of X_train_resampled:\", X_train_resampled.shape)\n",
    "print(\"Shape of y_train_resampled:\", y_train_resampled.shape)"
   ]
  },
  {
   "cell_type": "code",
   "execution_count": null,
   "metadata": {
    "colab": {
     "base_uri": "https://localhost:8080/",
     "height": 528
    },
    "id": "b5a9cd3c",
    "outputId": "231bf642-8bb5-45bf-98ef-90c01cf54e86"
   },
   "outputs": [],
   "source": [
    "from sklearn.preprocessing import StandardScaler\n",
    "import pandas as pd\n",
    "\n",
    "# Identify the original numerical columns from the DataFrame before one-hot encoding\n",
    "# Exclude the target and the BMI_category which was one-hot encoded\n",
    "original_numerical_cols = ['BMI', 'GenHlth', 'MentHlth', 'PhysHlth', 'Age', 'Education', 'Income', 'TotalHealthDays']\n",
    "\n",
    "\n",
    "# Initialize the StandardScaler\n",
    "scaler = StandardScaler()\n",
    "\n",
    "# Fit the scaler only on the numerical columns of the resampled training data\n",
    "# and transform it\n",
    "X_train_resampled_numerical = X_train_resampled[original_numerical_cols]\n",
    "X_train_scaled_numerical = scaler.fit_transform(X_train_resampled_numerical)\n",
    "X_train_scaled_numerical_df = pd.DataFrame(X_train_scaled_numerical, columns=original_numerical_cols, index=X_train_resampled_numerical.index)\n",
    "\n",
    "# Transform the numerical columns of the testing data using the *same* scaler fitted on the training data\n",
    "X_test_numerical = X_test[original_numerical_cols]\n",
    "X_test_scaled_numerical = scaler.transform(X_test_numerical)\n",
    "X_test_scaled_numerical_df = pd.DataFrame(X_test_scaled_numerical, columns=original_numerical_cols, index=X_test_numerical.index)\n",
    "\n",
    "# Now, combine the scaled numerical features with the one-hot encoded features for the training set\n",
    "# Identify the one-hot encoded columns (these are the columns in X_train_resampled that are not in original_numerical_cols)\n",
    "one_hot_cols = X_train_resampled.columns.difference(original_numerical_cols)\n",
    "\n",
    "# Ensure the index is aligned before concatenating\n",
    "X_train_scaled = pd.concat([X_train_scaled_numerical_df, X_train_resampled[one_hot_cols].reset_index(drop=True)], axis=1)\n",
    "\n",
    "\n",
    "# For the test set, apply the same logic but with the original X_test one-hot encoded columns\n",
    "# Need to re-apply one-hot encoding to X_test to ensure consistent columns\n",
    "X_test_encoded = pd.get_dummies(X_test, columns=X_test.select_dtypes(exclude=['number']).columns, drop_first=True)\n",
    "\n",
    "# Ensure the index is aligned and columns match after one-hot encoding X_test\n",
    "# Before concatenating, align columns - this is important if the test set is missing any categories present in the training set\n",
    "X_test_encoded = X_test_encoded.reindex(columns = X_train_resampled.columns, fill_value=0)\n",
    "# Drop original numerical columns from X_test_encoded before concatenating scaled numerical columns\n",
    "X_test_encoded = X_test_encoded.drop(columns=original_numerical_cols)\n",
    "\n",
    "\n",
    "# Ensure index is aligned before concatenating for X_test\n",
    "X_test_scaled = pd.concat([X_test_scaled_numerical_df, X_test_encoded[one_hot_cols].reset_index(drop=True)], axis=1)\n",
    "\n",
    "\n",
    "# Display the first few rows of the scaled data\n",
    "print(\"Scaled Training Data (first 5 rows):\")\n",
    "display(X_train_scaled.head())\n",
    "\n",
    "print(\"\\nScaled Testing Data (first 5 rows):\")\n",
    "display(X_test_scaled.head())"
   ]
  },
  {
   "cell_type": "code",
   "execution_count": null,
   "metadata": {
    "colab": {
     "base_uri": "https://localhost:8080/"
    },
    "id": "9841190d",
    "outputId": "d859bb21-6422-4c8f-975e-8a617899409a"
   },
   "outputs": [],
   "source": [
    "print(\"Shape of preprocessed training features (X_train_scaled):\", X_train_scaled.shape)\n",
    "print(\"Shape of preprocessed testing features (X_test_scaled):\", X_test_scaled.shape)"
   ]
  },
  {
   "cell_type": "markdown",
   "metadata": {
    "id": "2b8d5972"
   },
   "source": [
    "# Task\n",
    "Train and evaluate Naive Bayes, Decision Tree, and Logistic Regression models on the scaled training and testing data (`X_train_scaled`, `y_train_resampled`, `X_test_scaled`, `y_test`). Calculate and display a table of classification metrics (accuracy, precision, recall, F1-score, AUC) for each model."
   ]
  },
  {
   "cell_type": "markdown",
   "metadata": {
    "id": "b573a186"
   },
   "source": [
    "## Import necessary libraries\n",
    "\n",
    "### Subtask:\n",
    "Import the required modules for the models (Naive Bayes, Decision Tree, Logistic Regression), metrics (e.g., accuracy, precision, recall, F1-score, AUC), and potentially tools for creating a results table.\n"
   ]
  },
  {
   "cell_type": "markdown",
   "metadata": {
    "id": "e1e165e7"
   },
   "source": [
    "**Reasoning**:\n",
    "Import the necessary modules for model training and evaluation.\n",
    "\n"
   ]
  },
  {
   "cell_type": "code",
   "execution_count": null,
   "metadata": {
    "id": "2d493447"
   },
   "outputs": [],
   "source": [
    "from sklearn.naive_bayes import GaussianNB\n",
    "from sklearn.tree import DecisionTreeClassifier\n",
    "from sklearn.linear_model import LogisticRegression\n",
    "from sklearn.metrics import accuracy_score, precision_score, recall_score, f1_score, roc_auc_score\n",
    "import pandas as pd"
   ]
  },
  {
   "cell_type": "markdown",
   "metadata": {
    "id": "45e6fd49"
   },
   "source": [
    "## Initialize and train models\n",
    "\n",
    "### Subtask:\n",
    "Initialize and train Naive Bayes, Decision Tree, and Logistic Regression models on the resampled and scaled training data.\n"
   ]
  },
  {
   "cell_type": "markdown",
   "metadata": {
    "id": "497c3ac5"
   },
   "source": [
    "**Reasoning**:\n",
    "Initialize and train the Naive Bayes, Decision Tree, and Logistic Regression models using the resampled and scaled training data.\n",
    "\n"
   ]
  },
  {
   "cell_type": "code",
   "execution_count": null,
   "metadata": {
    "colab": {
     "base_uri": "https://localhost:8080/"
    },
    "id": "b59b5fde",
    "outputId": "2eb3873a-fedc-46fd-a876-2f9f946b7483"
   },
   "outputs": [],
   "source": [
    "# Initialize the models\n",
    "nb_model = GaussianNB()\n",
    "dt_model = DecisionTreeClassifier(random_state=42)\n",
    "lr_model = LogisticRegression(max_iter=1000)\n",
    "\n",
    "# Train the models\n",
    "nb_model.fit(X_train_scaled, y_train_resampled)\n",
    "dt_model.fit(X_train_scaled, y_train_resampled)\n",
    "lr_model.fit(X_train_scaled, y_train_resampled)\n",
    "\n",
    "print(\"Naive Bayes model trained.\")\n",
    "print(\"Decision Tree model trained.\")\n",
    "print(\"Logistic Regression model trained.\")"
   ]
  },
  {
   "cell_type": "markdown",
   "metadata": {
    "id": "7a0fd3b9"
   },
   "source": [
    "## Make predictions\n",
    "\n",
    "### Subtask:\n",
    "Use each trained model (Naive Bayes, Decision Tree, and Logistic Regression) to make predictions on the preprocessed testing data (`X_test_scaled`).\n"
   ]
  },
  {
   "cell_type": "markdown",
   "metadata": {
    "id": "bd4a39af"
   },
   "source": [
    "**Reasoning**:\n",
    "Use each trained model to make predictions on the preprocessed testing data.\n",
    "\n"
   ]
  },
  {
   "cell_type": "code",
   "execution_count": null,
   "metadata": {
    "colab": {
     "base_uri": "https://localhost:8080/"
    },
    "id": "6608f67e",
    "outputId": "449bac7e-5f5a-4822-af58-ab2850358d03"
   },
   "outputs": [],
   "source": [
    "print(\"Missing values in X_test_scaled:\", X_test_scaled.isnull().sum().sum())"
   ]
  },
  {
   "cell_type": "markdown",
   "metadata": {
    "id": "66e597a4"
   },
   "source": [
    "**Reasoning**:\n",
    "The error indicates that X_test_scaled contains NaN values. This is likely due to mismatches in columns after one-hot encoding and scaling. The previous scaling code attempted to address this with reindex and dropping columns, but it appears to have introduced NaNs. The fix is to ensure consistent columns between the training and testing data after one-hot encoding and before scaling and making predictions. I will first identify the columns in the training set after one-hot encoding, and then reindex the test set to match these columns, filling missing values with 0 before scaling.\n",
    "\n"
   ]
  },
  {
   "cell_type": "code",
   "execution_count": null,
   "metadata": {
    "colab": {
     "base_uri": "https://localhost:8080/"
    },
    "id": "w9tU_xIZZfHE",
    "outputId": "8da80f50-42b5-4612-9da8-0a87be565a71"
   },
   "outputs": [],
   "source": [
    "# Recreate X_train_encoded to get the correct columns after one-hot encoding\n",
    "non_numerical_cols_train = X_train.select_dtypes(exclude=['number']).columns\n",
    "X_train_encoded = pd.get_dummies(X_train, columns=non_numerical_cols_train, drop_first=True)\n",
    "\n",
    "# Identify the columns in the resampled and encoded training data\n",
    "train_cols = X_train_encoded.columns\n",
    "\n",
    "# Re-apply one-hot encoding to X_test to ensure consistent columns with the training data\n",
    "non_numerical_cols_test = X_test.select_dtypes(exclude=['number']).columns\n",
    "X_test_encoded = pd.get_dummies(X_test, columns=non_numerical_cols_test, drop_first=True)\n",
    "\n",
    "# Reindex X_test_encoded to match the columns of the training data, filling missing values with 0\n",
    "X_test_encoded = X_test_encoded.reindex(columns=train_cols, fill_value=0)\n",
    "\n",
    "# Identify the original numerical columns\n",
    "original_numerical_cols = ['BMI', 'GenHlth', 'MentHlth', 'PhysHlth', 'Age', 'Education', 'Income', 'TotalHealthDays']\n",
    "\n",
    "# Initialize the StandardScaler\n",
    "scaler = StandardScaler()\n",
    "\n",
    "# Scale the numerical columns of the training and testing data separately\n",
    "X_train_scaled_numerical = scaler.fit_transform(X_train_encoded[original_numerical_cols])\n",
    "X_test_scaled_numerical = scaler.transform(X_test_encoded[original_numerical_cols])\n",
    "\n",
    "# Create DataFrames from the scaled numerical data\n",
    "X_train_scaled_numerical_df = pd.DataFrame(X_train_scaled_numerical, columns=original_numerical_cols, index=X_train_encoded.index)\n",
    "X_test_scaled_numerical_df = pd.DataFrame(X_test_scaled_numerical, columns=original_numerical_cols, index=X_test_encoded.index)\n",
    "\n",
    "# Identify the one-hot encoded columns (these are the columns in X_train_encoded that are not in original_numerical_cols)\n",
    "one_hot_cols = X_train_encoded.columns.difference(original_numerical_cols)\n",
    "\n",
    "# Combine the scaled numerical features with the one-hot encoded features for the training set\n",
    "# Use the resampled one-hot encoded data for the training set\n",
    "X_train_scaled = pd.concat([X_train_scaled_numerical_df.reset_index(drop=True), X_train_resampled[one_hot_cols].reset_index(drop=True)], axis=1)\n",
    "\n",
    "\n",
    "# Combine the scaled numerical features with the one-hot encoded features for the testing set\n",
    "X_test_scaled = pd.concat([X_test_scaled_numerical_df.reset_index(drop=True), X_test_encoded[one_hot_cols].reset_index(drop=True)], axis=1)\n",
    "\n",
    "\n",
    "# Make predictions on the testing data\n",
    "nb_pred = nb_model.predict(X_test_scaled)\n",
    "dt_pred = dt_model.predict(X_test_scaled)\n",
    "lr_pred = lr_model.predict(X_test_scaled)\n",
    "\n",
    "print(\"Predictions made for Naive Bayes, Decision Tree, and Logistic Regression models on the testing data.\")"
   ]
  },
  {
   "cell_type": "markdown",
   "metadata": {
    "id": "7ea46c5e"
   },
   "source": [
    "## Evaluate models\n",
    "\n",
    "### Subtask:\n",
    "Calculate relevant classification metrics (accuracy, precision, recall, F1-score, and AUC) for each model's predictions using the true test labels (`y_test`).\n"
   ]
  },
  {
   "cell_type": "markdown",
   "metadata": {
    "id": "b5b46041"
   },
   "source": [
    "**Reasoning**:\n",
    "Calculate accuracy, precision, recall, F1-score, and AUC for each model's predictions and store them in a dictionary.\n",
    "\n"
   ]
  },
  {
   "cell_type": "code",
   "execution_count": null,
   "metadata": {
    "colab": {
     "base_uri": "https://localhost:8080/"
    },
    "id": "17ff22f1",
    "outputId": "2940da2e-4c6f-4ae6-9b54-bb2fe3c6e6a8"
   },
   "outputs": [],
   "source": [
    "# Calculate metrics for Naive Bayes\n",
    "nb_accuracy = accuracy_score(y_test, nb_pred)\n",
    "nb_precision = precision_score(y_test, nb_pred)\n",
    "nb_recall = recall_score(y_test, nb_pred)\n",
    "nb_f1 = f1_score(y_test, nb_pred)\n",
    "nb_auc = roc_auc_score(y_test, nb_pred)\n",
    "\n",
    "# Calculate metrics for Decision Tree\n",
    "dt_accuracy = accuracy_score(y_test, dt_pred)\n",
    "dt_precision = precision_score(y_test, dt_pred)\n",
    "dt_recall = recall_score(y_test, dt_pred)\n",
    "dt_f1 = f1_score(y_test, dt_pred)\n",
    "dt_auc = roc_auc_score(y_test, dt_pred)\n",
    "\n",
    "# Calculate metrics for Logistic Regression\n",
    "lr_accuracy = accuracy_score(y_test, lr_pred)\n",
    "lr_precision = precision_score(y_test, lr_pred)\n",
    "lr_recall = recall_score(y_test, lr_pred)\n",
    "lr_f1 = f1_score(y_test, lr_pred)\n",
    "lr_auc = roc_auc_score(y_test, lr_pred)\n",
    "\n",
    "# Store metrics in a dictionary\n",
    "metrics_results = {\n",
    "    'Naive Bayes': {\n",
    "        'Accuracy': nb_accuracy,\n",
    "        'Precision': nb_precision,\n",
    "        'Recall': nb_recall,\n",
    "        'F1-score': nb_f1,\n",
    "        'AUC': nb_auc\n",
    "    },\n",
    "    'Decision Tree': {\n",
    "        'Accuracy': dt_accuracy,\n",
    "        'Precision': dt_precision,\n",
    "        'Recall': dt_recall,\n",
    "        'F1-score': dt_f1,\n",
    "        'AUC': dt_auc\n",
    "    },\n",
    "    'Logistic Regression': {\n",
    "        'Accuracy': lr_accuracy,\n",
    "        'Precision': lr_precision,\n",
    "        'Recall': lr_recall,\n",
    "        'F1-score': lr_f1,\n",
    "        'AUC': lr_auc\n",
    "    }\n",
    "}\n",
    "\n",
    "print(\"Classification metrics calculated for each model.\")"
   ]
  },
  {
   "cell_type": "markdown",
   "metadata": {
    "id": "9bb174ef"
   },
   "source": [
    "## Create results table\n",
    "\n",
    "### Subtask:\n",
    "Organize the calculated metrics for each model into a pandas DataFrame for easy comparison.\n"
   ]
  },
  {
   "cell_type": "markdown",
   "metadata": {
    "id": "4e62e979"
   },
   "source": [
    "**Reasoning**:\n",
    "Organize the calculated metrics into a pandas DataFrame and transpose it for better readability.\n",
    "\n"
   ]
  },
  {
   "cell_type": "code",
   "execution_count": null,
   "metadata": {
    "colab": {
     "base_uri": "https://localhost:8080/",
     "height": 143
    },
    "id": "df5983a6",
    "outputId": "17ee7fca-03a7-481b-a4e6-f108e158f853"
   },
   "outputs": [],
   "source": [
    "# Create a pandas DataFrame from the metrics results\n",
    "metrics_df = pd.DataFrame(metrics_results)\n",
    "\n",
    "# Transpose the DataFrame\n",
    "metrics_df = metrics_df.T\n",
    "\n",
    "# Display the metrics table\n",
    "display(metrics_df)"
   ]
  },
  {
   "cell_type": "markdown",
   "metadata": {
    "id": "31814b5f"
   },
   "source": [
    "## Analyze and interpret results\n",
    "\n",
    "### Subtask:\n",
    "Briefly discuss the performance of each model based on the metrics in the table.\n"
   ]
  },
  {
   "cell_type": "markdown",
   "metadata": {
    "id": "00dbd122"
   },
   "source": [
    "**Reasoning**:\n",
    "Analyze the metrics_df DataFrame and discuss the performance of each model based on the calculated metrics.\n",
    "\n"
   ]
  },
  {
   "cell_type": "code",
   "execution_count": null,
   "metadata": {
    "colab": {
     "base_uri": "https://localhost:8080/",
     "height": 528
    },
    "id": "8a988f12",
    "outputId": "91c66793-68a9-404e-8485-e599ef0e9255"
   },
   "outputs": [],
   "source": [
    "print(\"Model Performance Comparison:\")\n",
    "display(metrics_df)\n",
    "\n",
    "print(\"\\nAnalysis of Model Performance:\")\n",
    "\n",
    "# Analyze Accuracy\n",
    "best_accuracy_model = metrics_df['Accuracy'].idxmax()\n",
    "print(f\"\\nAccuracy: Logistic Regression has the highest accuracy ({metrics_df['Accuracy'].max():.4f}). Accuracy is a general measure of correct predictions.\")\n",
    "\n",
    "# Analyze Precision\n",
    "best_precision_model = metrics_df['Precision'].idxmax()\n",
    "print(f\"\\nPrecision: Logistic Regression also has the highest precision ({metrics_df['Precision'].max():.4f}). Precision is the ability of the classifier not to label as positive a sample that is negative. High precision is important to minimize false positives.\")\n",
    "\n",
    "# Analyze Recall\n",
    "best_recall_model = metrics_df['Recall'].idxmax()\n",
    "print(f\"\\nRecall: Naive Bayes has the highest recall ({metrics_df['Recall'].max():.4f}). Recall is the ability of the classifier to find all the positive samples. High recall is important to minimize false negatives.\")\n",
    "\n",
    "# Analyze F1-score\n",
    "best_f1_model = metrics_df['F1-score'].idxmax()\n",
    "print(f\"\\nF1-score: Naive Bayes has the highest F1-score ({metrics_df['F1-score'].max():.4f}). F1-score is the weighted average of precision and recall, providing a balance between the two.\")\n",
    "\n",
    "# Analyze AUC\n",
    "best_auc_model = metrics_df['AUC'].idxmax()\n",
    "print(f\"\\nAUC: Logistic Regression has the highest AUC ({metrics_df['AUC'].max():.4f}). AUC measures the ability of the classifier to distinguish between classes. A higher AUC indicates better overall performance.\")\n",
    "\n",
    "print(\"\\nSummary:\")\n",
    "print(\"Logistic Regression shows the best performance in terms of Accuracy, Precision, and AUC. This suggests it is generally good at making correct predictions and minimizing false positives, while also having a good overall ability to distinguish between diabetes and non-diabetes cases.\")\n",
    "print(\"Naive Bayes has the highest Recall and F1-score. The high recall indicates that Naive Bayes is better at identifying positive cases (diabetes), which is crucial in a medical context to avoid missing diagnoses (false negatives). The higher F1-score suggests a better balance between precision and recall compared to the other models, despite having lower precision.\")\n",
    "print(\"The Decision Tree model generally performed worse across most metrics compared to Naive Bayes and Logistic Regression, particularly in terms of recall and F1-score.\")\n",
    "print(\"\\nConsidering the context of diabetes prediction, where minimizing false negatives (missing a diabetes diagnosis) is critical, the high recall of the Naive Bayes model is a significant advantage, even if its precision is lower than Logistic Regression. The Logistic Regression model provides a good balance of overall performance metrics.\")"
   ]
  },
  {
   "cell_type": "markdown",
   "metadata": {
    "id": "820b5d46"
   },
   "source": [
    "## Summary:\n",
    "\n",
    "### Data Analysis Key Findings\n",
    "\n",
    "*   The Naive Bayes model achieved the highest Recall (0.7947) and F1-score (0.5035) among the evaluated models, indicating its strength in identifying positive cases (diabetes) and achieving a balance between precision and recall.\n",
    "*   The Logistic Regression model demonstrated the best performance in terms of Accuracy (0.7125), Precision (0.3931), and AUC (0.7531), suggesting good overall correctness, ability to minimize false positives, and distinguish between classes.\n",
    "*   The Decision Tree model generally performed less favorably across most metrics compared to the Naive Bayes and Logistic Regression models.\n",
    "\n",
    "### Insights or Next Steps\n",
    "\n",
    "*   Given the importance of minimizing false negatives in a medical context like diabetes prediction, the high recall of the Naive Bayes model makes it a strong candidate for further consideration, despite its lower precision.\n",
    "*   Further tuning of the Logistic Regression model could potentially improve its recall while maintaining its strong performance in accuracy, precision, and AUC.\n"
   ]
  },
  {
   "cell_type": "markdown",
   "metadata": {
    "id": "cc991bb3"
   },
   "source": [
    "# Task\n",
    "Identify the binary (`0` or `1`) categorical features and apply a simple mapping or encoder. Which features did you encode?"
   ]
  },
  {
   "cell_type": "markdown",
   "metadata": {
    "id": "5a099118"
   },
   "source": [
    "## Identify binary features\n",
    "\n",
    "### Subtask:\n",
    "Identify the columns in the DataFrame that are binary (containing only 0s and 1s).\n"
   ]
  },
  {
   "cell_type": "markdown",
   "metadata": {
    "id": "de3f9f44"
   },
   "source": [
    "**Reasoning**:\n",
    "Identify the columns in the DataFrame that are binary (containing only 0s and 1s) by iterating through columns and checking for two unique values that are 0 and 1.\n",
    "\n"
   ]
  },
  {
   "cell_type": "markdown",
   "metadata": {
    "id": "227916f6"
   },
   "source": [
    "# Task\n",
    "Load the original dataset. Apply a custom mapping to the `GenHlth` and `Education` features that preserves their ordinal nature. Justify the chosen mapping order for each feature. Display the head of the dataframe to show the applied mappings."
   ]
  },
  {
   "cell_type": "markdown",
   "metadata": {
    "id": "31324c7b"
   },
   "source": [
    "## Load original data\n",
    "\n",
    "### Subtask:\n",
    "Fetch the original dataset to start with a clean slate.\n"
   ]
  },
  {
   "cell_type": "markdown",
   "metadata": {
    "id": "a5fe557c"
   },
   "source": [
    "**Reasoning**:\n",
    "Fetch the dataset from UCI repository and combine the features and target into a single dataframe.\n",
    "\n"
   ]
  },
  {
   "cell_type": "markdown",
   "metadata": {
    "id": "1ff23d04"
   },
   "source": [
    "## Define and apply genhlth mapping\n",
    "\n",
    "### Subtask:\n",
    "Define a custom mapping for the `GenHlth` column based on its description and apply it to the DataFrame.\n"
   ]
  },
  {
   "cell_type": "markdown",
   "metadata": {
    "id": "a3ef9be9"
   },
   "source": [
    "**Reasoning**:\n",
    "Define a custom mapping for the GenHlth column based on its description and apply it to the DataFrame. The description indicates that the values 1 through 5 represent different health levels, from excellent to poor, which is an ordinal scale. Therefore, a mapping that preserves this order, such as 1 to 5, 2 to 4, 3 to 3, 4 to 2, and 5 to 1, or simply keeping the existing order, would be appropriate. I will keep the existing order as it already reflects the ordinality.\n",
    "\n"
   ]
  },
  {
   "cell_type": "markdown",
   "metadata": {
    "id": "52f1e392"
   },
   "source": [
    "## Define and apply education mapping\n",
    "\n",
    "### Subtask:\n",
    "Define a custom mapping for the `Education` column based on its description and apply it to the DataFrame.\n"
   ]
  },
  {
   "cell_type": "markdown",
   "metadata": {
    "id": "72a36578"
   },
   "source": [
    "**Reasoning**:\n",
    "Define a custom mapping for the Education column and apply it to the DataFrame.\n",
    "\n"
   ]
  },
  {
   "cell_type": "markdown",
   "metadata": {
    "id": "bc1bfe43"
   },
   "source": [
    "**Reasoning**:\n",
    "Justify the chosen mapping for the Education column based on the variable description and display the head of the dataframe to show the applied mappings for both GenHlth and Education.\n",
    "\n"
   ]
  },
  {
   "cell_type": "markdown",
   "metadata": {
    "id": "353cf82d"
   },
   "source": [
    "## Justify mapping order\n",
    "\n",
    "### Subtask:\n",
    "Provide a natural language explanation for the chosen mapping order for both `GenHlth` and `Education`.\n"
   ]
  },
  {
   "cell_type": "markdown",
   "metadata": {
    "id": "c1048136"
   },
   "source": [
    "**Reasoning**:\n",
    "Provide a natural language explanation for the chosen mapping order for both GenHlth and Education columns as requested by the subtask.\n",
    "\n"
   ]
  },
  {
   "cell_type": "markdown",
   "metadata": {
    "id": "f86e71c7"
   },
   "source": [
    "## Summary:\n",
    "\n",
    "### Data Analysis Key Findings\n",
    "\n",
    "*   The `GenHlth` feature was mapped using $\\{1: 1, 2: 2, 3: 3, 4: 4, 5: 5\\}$, preserving its ordinal nature where 1 represents 'Excellent' health and 5 represents 'Poor' health, aligning with the decreasing health status as the number increases.\n",
    "*   The `Education` feature was mapped using $\\{1: 1, 2: 2, 3: 3, 4: 4, 5: 5, 6: 6\\}$, preserving its ordinal nature where 1 represents 'Never attended school or only kindergarten' and 6 represents 'College graduate', aligning with increasing levels of educational attainment as the number increases.\n",
    "*   The `head` of the dataframe was successfully displayed, showing the applied numerical mappings for both `GenHlth` and `Education` features.\n",
    "\n",
    "### Insights or Next Steps\n",
    "\n",
    "*   The applied ordinal mappings for `GenHlth` and `Education` allow these categorical features to be treated as numerical variables in subsequent quantitative analysis, such as correlation analysis or regression modeling.\n",
    "*   Further steps could involve exploring the distribution of these newly mapped features and their relationship with the target variable (`Diabetes_binary`).\n"
   ]
  },
  {
   "cell_type": "markdown",
   "metadata": {
    "id": "0a9359a8"
   },
   "source": [
    "# Task\n",
    "Identify the binary (`0` or `1`) categorical features and apply a simple mapping or encoder. Which features did you encode? Let's un-encode these binary variables please print the head of the un-encoded df thanks, it's back to baseline here's my analysis for encoding the two above features: Both GenHlth and Education are already encoded with values that follow their natural progression. For GenHlth, the scale runs from Excellent (1) to Poor (5), where smaller values represent better health and larger values represent worse health. This order is preserved as-is since it aligns directly with the meaning of the categories. Similarly, Education is coded from 1 = No formal education up to 6 = College graduate, reflecting increasing levels of educational attainment. Because these encodings already respect the ordinal nature of the variables, no remapping is necessary. Retaining the order is preferable to one-hot encoding, as it preserves the meaningful ranking of categories, which allows models to capture thresholds such as “fair or worse health” or “some college or higher.” Create a new feature for BMI categories (e.g., Underweight, Normal, Overweight, Obese) from the `BMI` column. Display the value counts for your new categories. Create a new feature named `TotalHealthDays` by combining `PhysHlth` and `MentHlth`. What is the rationale behind creating this feature? Split your dataset into training and testing sets (an 80/20 split is recommended). Use stratification on the `Diabetes_binary` target variable. Explain the error in the selected code. If possible, fix the error and incorporate the changes into the existing code. Otherwise, try to diagnose the error. Why is it critical to split the data *before* applying techniques like SMOTE or scaling? Show the shape of your `X_train`, `X_test`, `y_train`, and `y_test` arrays to confirm the split. Apply the SMOTE technique to address class imbalance. Importantly, apply it *only* to the training data. Show the class distribution of the training target variable before and after. I would like to apply SMOTE to X_train and Y_train, show the class distribution of target variable before and after please create the code and apply SMOTE on X_train and Y_train Class distribution before SMOTE: Counter({0: 174667, 1: 28277}) --------------------------------------------------------------------------- ValueError Traceback (most recent call last) /tmp/ipython-input-927369522.py in <cell line: 0>() 7 # Apply SMOTE to the training data 8 smote = SMOTE(random_state=42) ----> 9 X_train_resampled, y_train_resampled = smote.fit_resample(X_train, y_train) 10 11 # Display class distribution after SMOTE 9 frames /usr/local/lib/python3.12/dist-packages/sklearn/utils/_array_api.py in _asarray_with_order(array, dtype, order, copy, xp, device) 837 array = numpy.array(array, order=order, dtype=dtype) 838 else: --> 839 array = numpy.asarray(array, order=order, dtype=dtype) 840 841 # At this point array is a NumPy ndarray. We convert it to an array ValueError: could not convert string to float: 'Obese' Normalize the numerical features using `StandardScaler`. Fit the scaler *only* on the training data, then transform both the training and testing data. Why must you not fit the scaler on the test data? Display the shape of your final, preprocessed training features (`X_train_processed`) and testing features (`X_test_processed`). I want to run naives-bayes, decision tree and logistic regression on both X_train_scaled and X_test_scaled with metrics and a table of results for all three to compare --------------------------------------------------------------------------- ValueError Traceback (most recent call last) /tmp/ipython-input-3001685144.py in <cell line: 0>() 1 # Make predictions on the testing data ----> 2 nb_pred = nb_model.predict(X_test_scaled) 3 dt_pred = dt_model.predict(X_test_scaled) 4 lr_pred = lr_model.predict(X_test_scaled) 5 5 frames /usr/local/lib/python3.12/dist-packages/sklearn/utils/validation.py in _assert_all_finite_element_wise(X, xp, allow_nan, msg_dtype, estimator_name, input_name) 167 \"#estimators-that-handle-nan-values\" 168 ) --> 169 raise ValueError(msg_err) 170 171 ValueError: Input X contains NaN. GaussianNB does not accept missing values encoded as NaN natively. For supervised learning, you might want to consider sklearn.ensemble.HistGradientBoostingClassifier and Regressor which accept missing values encoded as NaNs natively. Alternatively, it is possible to preprocess the data, for instance by using an imputer transformer in a pipeline or drop samples with missing values. See https://scikit-learn.org/stable/modules/impute.html You can find a list of all estimators that handle NaN values at the following page: https://scikit-learn.org/stable/modules/impute.html#estimators-that-handle-nan-values I thought these NaN would hurt the models ability to run would you code and run a SVM algorithm on the train and test data How did you implement and evaluate Logistic Regression, Decision Tree, and Naive Bayes models? What challenges did you encounter during model training, and how did you address them? Identify the binary (`0` or `1`) categorical features and apply a simple mapping or encoder. Which features did you encode? Let's go back to the original dataset. The `GenHealth` and `Education` features are ordinal. Apply a custom mapping that preserves their inherent order and justify the order you chose. For any remaining nominal categorical features, apply one-hot encoding. Why is this method more suitable for nominal data than a simple integer label?"
   ]
  },
  {
   "cell_type": "markdown",
   "metadata": {
    "id": "483f0b12"
   },
   "source": [
    "## Identify nominal categorical features\n",
    "\n",
    "### Subtask:\n",
    "Identify columns in the DataFrame that are categorical but are not binary or the already handled ordinal features ('GenHlth', 'Education').\n"
   ]
  },
  {
   "cell_type": "markdown",
   "metadata": {
    "id": "64725353"
   },
   "source": [
    "**Reasoning**:\n",
    "Identify the nominal categorical columns by excluding binary, ordinal, and numerical columns and checking for object dtype.\n",
    "\n"
   ]
  },
  {
   "cell_type": "code",
   "execution_count": null,
   "metadata": {
    "colab": {
     "base_uri": "https://localhost:8080/"
    },
    "id": "c1e697aa",
    "outputId": "85a69dc4-629d-4602-cb66-79415a019f4c"
   },
   "outputs": [],
   "source": [
    "# Get a list of all column names\n",
    "all_cols = df.columns.tolist()\n",
    "\n",
    "# Exclude binary columns (identified in a previous step) and ordinal columns\n",
    "nominal_cols = [col for col in all_cols if col not in binary_cols and col not in ['GenHlth', 'Education']]\n",
    "\n",
    "# Further filter to include only columns with object dtype (assuming they are nominal categorical)\n",
    "# Note: In this dataset, after previous steps, BMI_category is the only non-numeric, non-binary/ordinal column\n",
    "nominal_cols = [col for col in nominal_cols if df[col].dtype == 'object']\n",
    "\n",
    "print(\"Nominal categorical columns:\")\n",
    "print(nominal_cols)"
   ]
  },
  {
   "cell_type": "markdown",
   "metadata": {
    "id": "fd457005"
   },
   "source": [
    "**Reasoning**:\n",
    "The previous code failed because `binary_cols` was not defined in the current execution. I need to regenerate the code to identify binary columns first, and then use that list to find the nominal columns.\n",
    "\n"
   ]
  },
  {
   "cell_type": "code",
   "execution_count": null,
   "metadata": {
    "colab": {
     "base_uri": "https://localhost:8080/"
    },
    "id": "6MV6ZDfiA530",
    "outputId": "74824bb4-8340-46dd-b82b-a1307b9b6eb1"
   },
   "outputs": [],
   "source": [
    "# Identify binary columns again\n",
    "binary_cols = []\n",
    "for col in df.columns:\n",
    "    if df[col].nunique() == 2:\n",
    "        if set(df[col].unique()) == {0, 1}:\n",
    "            binary_cols.append(col)\n",
    "\n",
    "# Get a list of all column names\n",
    "all_cols = df.columns.tolist()\n",
    "\n",
    "# Exclude binary columns and ordinal columns\n",
    "nominal_cols = [col for col in all_cols if col not in binary_cols and col not in ['GenHlth', 'Education']]\n",
    "\n",
    "# Further filter to include only columns with object dtype (assuming they are nominal categorical)\n",
    "# Note: In this dataset, after previous steps, BMI_category is the only non-numeric, non-binary/ordinal column\n",
    "nominal_cols = [col for col in nominal_cols if df[col].dtype == 'object']\n",
    "\n",
    "print(\"Nominal categorical columns:\")\n",
    "print(nominal_cols)"
   ]
  },
  {
   "cell_type": "markdown",
   "metadata": {
    "id": "2e26cb12"
   },
   "source": [
    "## Apply one-hot encoding\n",
    "\n",
    "### Subtask:\n",
    "Apply one-hot encoding to the identified nominal categorical features in the DataFrame.\n"
   ]
  },
  {
   "cell_type": "markdown",
   "metadata": {
    "id": "08a4b0cc"
   },
   "source": [
    "**Reasoning**:\n",
    "Apply one-hot encoding to the identified nominal categorical features in the DataFrame.\n",
    "\n"
   ]
  },
  {
   "cell_type": "code",
   "execution_count": null,
   "metadata": {
    "colab": {
     "base_uri": "https://localhost:8080/",
     "height": 274
    },
    "id": "b41e769f",
    "outputId": "61f33f27-8b10-42bd-ccdf-fb91b0767922"
   },
   "outputs": [],
   "source": [
    "# Apply one-hot encoding to the nominal categorical columns\n",
    "df = pd.get_dummies(df, columns=nominal_cols, drop_first=True)\n",
    "\n",
    "print(\"One-hot encoding applied to nominal categorical features.\")\n",
    "display(df.head())"
   ]
  },
  {
   "cell_type": "markdown",
   "metadata": {
    "id": "4021a6d9"
   },
   "source": [
    "## Verify encoding\n",
    "\n",
    "### Subtask:\n",
    "Display the head of the DataFrame to show the new one-hot encoded columns (if any were created) and confirm the removal of the original nominal columns.\n"
   ]
  },
  {
   "cell_type": "markdown",
   "metadata": {
    "id": "b6d15985"
   },
   "source": [
    "**Reasoning**:\n",
    "Display the head of the DataFrame to show the result of the previous step, which was applying one-hot encoding to nominal features (even though no nominal features were identified, this step confirms the state of the dataframe after that process).\n",
    "\n"
   ]
  },
  {
   "cell_type": "code",
   "execution_count": null,
   "metadata": {
    "colab": {
     "base_uri": "https://localhost:8080/",
     "height": 255
    },
    "id": "ec1b527d",
    "outputId": "9101ef5c-12ee-4e84-d523-a7f40dc92a71"
   },
   "outputs": [],
   "source": [
    "display(df.head())"
   ]
  },
  {
   "cell_type": "markdown",
   "metadata": {
    "id": "21eed4aa"
   },
   "source": [
    "## Explain one-hot encoding rationale\n",
    "\n",
    "### Subtask:\n",
    "Provide a natural language explanation for why one-hot encoding is a suitable method for nominal categorical data compared to simple integer labeling.\n"
   ]
  },
  {
   "cell_type": "markdown",
   "metadata": {
    "id": "f2145acc"
   },
   "source": [
    "**Reasoning**:\n",
    "Provide a natural language explanation for why one-hot encoding is a suitable method for nominal categorical data compared to simple integer labeling, addressing the issues with integer encoding for nominal data and how one-hot encoding solves them.\n",
    "\n"
   ]
  },
  {
   "cell_type": "code",
   "execution_count": null,
   "metadata": {
    "colab": {
     "base_uri": "https://localhost:8080/"
    },
    "id": "1cf91399",
    "outputId": "997fad0d-113a-45e8-fad3-933d441e323d"
   },
   "outputs": [],
   "source": [
    "print(\"Explanation of One-Hot Encoding for Nominal Data:\")\n",
    "print(\"\\nNominal categorical data represents categories without any inherent order or ranking (e.g., colors, cities, types of diseases). When these categories are represented by simple integer labels (like 1, 2, 3), machine learning algorithms might incorrectly interpret these numbers as having an ordinal relationship or magnitude. For example, if 'Red' is labeled 1, 'Blue' is labeled 2, and 'Green' is labeled 3, an algorithm might assume that 'Green' is 'more' than 'Blue' or that the difference between 'Red' and 'Blue' is the same as the difference between 'Blue' and 'Green'. This can lead to misleading model interpretations and poorer performance, as these numerical relationships do not exist in the original categorical data.\")\n",
    "print(\"\\nOne-hot encoding addresses this issue by converting each nominal category into a new binary column (a 'dummy' variable). For each original category, a new column is created. If a data point belongs to a specific category, the corresponding new column for that category will have a value of 1, and all other new columns for that data point will have a value of 0. This effectively transforms the categorical data into a numerical format that machine learning algorithms can process without implying any false order or numerical relationships between categories.\")\n",
    "print(\"\\nIn summary, one-hot encoding is preferred for nominal categorical features because it avoids the pitfalls of integer labeling by representing each category as a distinct binary feature. This prevents the model from making incorrect assumptions about the relationships between categories, leading to more accurate and reliable results when training machine learning models on data containing nominal variables.\")"
   ]
  },
  {
   "cell_type": "markdown",
   "metadata": {
    "id": "9fe5a1eb"
   },
   "source": [
    "## Summary:\n",
    "\n",
    "### Q&A\n",
    "1.  **Which features did you encode?**\n",
    "    No binary categorical features were explicitly encoded with a simple mapping or encoder as they already contained 0 and 1 values. The ordinal features (`GenHlth` and `Education`) were analyzed and determined to be appropriately encoded according to their inherent order, thus no remapping was applied. No nominal features were identified in the dataset at the stage where one-hot encoding was considered, so no features were one-hot encoded.\n",
    "2.  **What is the rationale behind creating the `TotalHealthDays` feature?**\n",
    "    The rationale is to combine the number of days with physical health issues (`PhysHlth`) and the number of days with mental health issues (`MentHlth`) into a single metric. This `TotalHealthDays` feature provides a combined measure of the total burden of poor health experienced by an individual in the past 30 days, potentially capturing a more holistic view of health challenges than the two features separately.\n",
    "3.  **Explain the error in the selected code (SMOTE). If possible, fix the error and incorporate the changes into the existing code. Otherwise, try to diagnose the error.**\n",
    "    The error `ValueError: could not convert string to float: 'Obese'` occurred during the application of SMOTE. This error indicates that the `X_train` data contained non-numeric values, specifically the string 'Obese', which was likely part of the `BMI_Category` column created earlier. SMOTE, like most machine learning algorithms, requires numerical input. The error could be fixed by ensuring all categorical features (like `BMI_Category` if it were to be included in the model training features) are properly encoded into a numerical format (e.g., using one-hot encoding or ordinal encoding depending on the nature of the category) *before* applying SMOTE.\n",
    "4.  **Why is it critical to split the data *before* applying techniques like SMOTE or scaling?**\n",
    "    It is critical to split the data *before* applying techniques like SMOTE or scaling to prevent data leakage.\n",
    "    *   **SMOTE:** Applying SMOTE before splitting would generate synthetic samples based on the patterns observed in the entire dataset, including the test set. This means information from the test set would influence the training process, leading to an overly optimistic evaluation of the model's performance on unseen data. SMOTE should only be applied to the training data.\n",
    "    *   **Scaling:** Fitting the scaler on the entire dataset (before splitting) would cause the scaling parameters (mean and standard deviation for StandardScaler) to be influenced by the test data. When you then transform the test data using these parameters, information from the test set has implicitly influenced the scaling process. The scaler should be fitted *only* on the training data, and then this *fitted* scaler should be used to transform *both* the training and test data.\n",
    "5.  **Why must you not fit the scaler on the test data?**\n",
    "    You must not fit the scaler on the test data because it introduces data leakage. The purpose of the test set is to evaluate the model's performance on completely unseen data. If the scaling parameters are calculated using the test data, the model's evaluation will be biased, as the test data's statistical properties have influenced the preprocessing steps that were applied based on the training data. The scaler should be fitted on the training data (representing the data the model \"sees\" during training) and then used to transform both training and test data consistently.\n",
    "6.  **What challenges did you encounter during model training, and how did you address them?**\n",
    "    A major challenge encountered during model training (Naive Bayes, Decision Tree, Logistic Regression) was a `ValueError: Input X contains NaN.` This indicated that the input data used for training and prediction contained missing values (NaNs). Standard implementations of these scikit-learn models do not natively handle NaNs. Although the solving process summary doesn't explicitly detail how this was addressed in the provided snippets, typical solutions would involve either:\n",
    "    *   **Imputation:** Filling the missing values with estimated values (e.g., mean, median, mode, or using more sophisticated methods) using a transformer like `SimpleImputer` *before* scaling and training.\n",
    "    *   **Dropping Samples:** Removing rows containing NaN values, although this can lead to loss of data.\n",
    "    *   **Using Models that Handle NaNs:** Employing models designed to handle missing values natively (e.g., `HistGradientBoostingClassifier`).\n",
    "    Based on the error occurring after scaling, it's possible NaNs were introduced or were already present and not handled prior to scaling. The error message itself suggests imputation or using models that handle NaNs as potential solutions.\n",
    "7.  **How did you implement and evaluate Logistic Regression, Decision Tree, and Naive Bayes models?**\n",
    "    The provided solving process snippets show attempts to make predictions using models named `nb_model`, `dt_model`, and `lr_model` on scaled test data (`X_test_scaled`). However, the code snippets showing the implementation (instantiation and fitting) of these models and the evaluation (calculating metrics like accuracy, precision, recall, F1-score, etc., and presenting them in a table) are missing from the provided text. The second `ValueError` occurred during the prediction phase, indicating the models were at least instantiated, but the fitting process details are not shown. The goal was to evaluate these models, but the error prevented the prediction step from completing.\n",
    "8.  **Identify the binary (`0` or `1`) categorical features and apply a simple mapping or encoder. Which features did you encode?**\n",
    "    The binary features identified were those with exactly two unique values (0 and 1). These were not explicitly encoded with a new mapping or encoder because their existing 0/1 representation is already suitable for direct use in most machine learning models. Therefore, no specific encoding step was applied to these binary features beyond identifying them. The provided text does not list the specific names of the binary columns identified, but the process described targets columns with `df[col].nunique() == 2` and `set(df[col].unique()) == {0, 1}`.\n",
    "9.  **Let's go back to the original dataset. The `GenHealth` and `Education` features are ordinal. Apply a custom mapping that preserves their inherent order and justify the order you chose.**\n",
    "    The analysis in the solving process determined that `GenHlth` (1=Excellent to 5=Poor) and `Education` (1=No formal education to 6=College graduate) were already encoded with values that preserve their natural progression and order. For `GenHlth`, the order 1-5 correctly represents the progression from better health to worse health. For `Education`, the order 1-6 correctly represents increasing levels of educational attainment. Because the existing encoding already aligns with the inherent ordinal nature and ranking of the categories, no *custom* remapping was applied or deemed necessary; the existing order was justified and retained as preferable to other methods like one-hot encoding.\n",
    "10. **For any remaining nominal categorical features, apply one-hot encoding. Why is this method more suitable for nominal data than a simple integer label?**\n",
    "    One-hot encoding was intended for any nominal categorical features remaining after handling binary and ordinal ones. The solving process identified that no such nominal features existed in the dataset at that stage, so no one-hot encoding was performed.\n",
    "\n",
    "    The reason one-hot encoding is more suitable for nominal data than simple integer labeling is that nominal data has no intrinsic order or ranking (e.g., colors, cities). Using simple integers (like 1, 2, 3) implies an artificial ordinal relationship or magnitude that does not exist in the data, which can confuse machine learning models and lead to incorrect assumptions or poor performance. One-hot encoding creates a separate binary column for each category, treating each category as distinct and preventing the model from interpreting numerical relationships between unrelated categories.\n",
    "\n",
    "### Data Analysis Key Findings\n",
    "*   Binary categorical features (with values 0 and 1) were identified but not re-encoded as their current representation is suitable.\n",
    "*   Ordinal features (`GenHlth` and `Education`) were analyzed and determined to be correctly encoded according to their inherent order (1-5 for GenHlth, 1-6 for Education), and thus no custom remapping was applied.\n",
    "*   A `BMI_Category` feature was successfully created by categorizing the `BMI` column.\n",
    "*   A `TotalHealthDays` feature was created by summing `PhysHlth` and `MentHlth` to represent a combined measure of health burden.\n",
    "*   The dataset was successfully split into training and testing sets (80/20) using stratification on the target variable.\n",
    "*   No nominal categorical features were identified in the dataset after accounting for binary and the specified ordinal features.\n",
    "*   Errors were encountered during SMOTE application and model training due to the presence of non-numeric values (likely from `BMI_Category`) and missing values (NaNs) in the data, preventing the successful completion of these steps.\n",
    "\n",
    "### Insights or Next Steps\n",
    "*   Address the data type issues (non-numeric values) and missing values (NaNs) in the preprocessed data *before* applying SMOTE and training models. This would likely involve encoding the `BMI_Category` feature numerically if it's intended for modeling and implementing an imputation strategy for any NaNs.\n",
    "*   Complete the model training and evaluation steps for Logistic Regression, Decision Tree, and Naive Bayes after resolving the data quality issues, and then proceed with evaluating SVM as requested.\n"
   ]
  },
  {
   "cell_type": "code",
   "execution_count": null,
   "metadata": {
    "colab": {
     "base_uri": "https://localhost:8080/"
    },
    "id": "7da5a337",
    "outputId": "d359f62c-30cb-47e9-ece2-d54146144203"
   },
   "outputs": [],
   "source": [
    "!pip install mlflow"
   ]
  },
  {
   "cell_type": "code",
   "execution_count": null,
   "metadata": {
    "colab": {
     "base_uri": "https://localhost:8080/",
     "height": 371
    },
    "id": "6795cb8c",
    "outputId": "cc940c81-ebe9-4d9c-d5bc-c874d07b6ffc"
   },
   "outputs": [],
   "source": [
    "import mlflow\n",
    "import mlflow.sklearn\n",
    "from sklearn.model_selection import train_test_split\n",
    "from sklearn.linear_model import LogisticRegression\n",
    "from sklearn.metrics import accuracy_score\n",
    "\n",
    "# Assume X and y are your features and target from previous steps\n",
    "\n",
    "# Split data for a simple example\n",
    "X_train, X_test, y_train, y_test = train_test_split(X, y, test_size=0.2, random_state=42)\n",
    "\n",
    "# Start an MLflow run\n",
    "with mlflow.start_run(run_name=\"Logistic Regression Example\"):\n",
    "    # Log a parameter\n",
    "    learning_rate = 0.01\n",
    "    mlflow.log_param(\"learning_rate\", learning_rate)\n",
    "\n",
    "    # Initialize and train a simple model\n",
    "    model = LogisticRegression(C=1/learning_rate, solver='liblinear', random_state=42)\n",
    "    model.fit(X_train, y_train)\n",
    "\n",
    "    # Make predictions\n",
    "    y_pred = model.predict(X_test)\n",
    "\n",
    "    # Calculate a metric\n",
    "    accuracy = accuracy_score(y_test, y_pred)\n",
    "\n",
    "    # Log the metric\n",
    "    mlflow.log_metric(\"accuracy\", accuracy)\n",
    "\n",
    "    # Log the model (optional)\n",
    "    # mlflow.sklearn.log_model(model, \"model\")\n",
    "\n",
    "    print(f\"MLflow Run ID: {mlflow.active_run().info.run_id}\")\n",
    "    print(f\"Logged Accuracy: {accuracy}\")\n",
    "\n",
    "print(\"\\nMLflow tracking data stored in the 'mlruns' directory.\")"
   ]
  },
  {
   "cell_type": "code",
   "execution_count": null,
   "metadata": {
    "colab": {
     "base_uri": "https://localhost:8080/"
    },
    "id": "46ff428f",
    "outputId": "86fa35e0-a9a4-453c-b13f-46149dcb9f53"
   },
   "outputs": [],
   "source": [
    "print(\"Viewing the MLflow Tracking UI:\")\n",
    "print(\"\\nIn a typical local environment, you can navigate to the directory where your MLflow runs are logged (by default, this is a folder named 'mlruns' in the same directory as your notebook or script) and run the following command in your terminal:\")\n",
    "print(\"mlflow ui\")\n",
    "print(\"\\nThis will start a local web server, and you can access the UI by opening your web browser and going to http://localhost:5000.\")\n",
    "\n",
    "print(\"\\nViewing the MLflow UI in Google Colab:\")\n",
    "print(\"Directly running 'mlflow ui' in a Colab notebook cell doesn't provide a persistent web interface that you can easily access.\")\n",
    "print(\"Here are a couple of potential workarounds:\")\n",
    "\n",
    "print(\"\\nMethod 1: Using ngrok\")\n",
    "print(\"ngrok is a service that creates a secure tunnel to your local machine, allowing you to expose a web server running on your local host to the internet.\")\n",
    "print(\"1. Install ngrok (if you haven't already):\")\n",
    "print(\"!pip install ngrok\")\n",
    "print(\"2. Run the MLflow UI in the background:\")\n",
    "print(\"!nohup mlflow ui &\")\n",
    "print(\"3. Expose the MLflow UI port (default is 5000) using ngrok:\")\n",
    "print(\"!ngrok http 5000\")\n",
    "print(\"ngrok will provide a public URL that you can click to access the MLflow UI. Note that this URL is temporary and will change each time you run the command. You might need to sign up for a free ngrok account and configure your authentication token for more reliable usage.\")\n",
    "print(\"Be aware of the security implications of exposing a local server to the internet.\")\n",
    "\n",
    "print(\"\\nMethod 2: Downloading the mlruns folder\")\n",
    "print(\"After your MLflow runs are complete, you can download the 'mlruns' folder from your Colab environment.\")\n",
    "print(\"1. In the Colab file browser (the folder icon on the left sidebar), locate the 'mlruns' folder.\")\n",
    "print(\"2. Right-click on the 'mlruns' folder and select 'Download'.\")\n",
    "print(\"3. Once downloaded to your local machine, navigate to the directory containing the 'mlruns' folder in your terminal.\")\n",
    "print(\"4. Run the 'mlflow ui' command in that directory.\")\n",
    "print(\"This will launch the MLflow UI locally, allowing you to explore the logged runs, parameters, and metrics.\")"
   ]
  },
  {
   "cell_type": "markdown",
   "metadata": {
    "id": "133c32bc"
   },
   "source": [
    "# Task\n",
    "Show me how to run MLflow on this dataset by modifying the existing model training and evaluation code to track parameters and metrics for Naive Bayes, Decision Tree, and Logistic Regression models."
   ]
  },
  {
   "cell_type": "markdown",
   "metadata": {
    "id": "93e5dc17"
   },
   "source": [
    "## Modify model training cells\n",
    "\n",
    "### Subtask:\n",
    "Modify the code cells where the Naive Bayes, Decision Tree, and Logistic Regression models are initialized and trained to include MLflow run tracking (`mlflow.start_run()`, `mlflow.log_param()`, `mlflow.end_run()`).\n"
   ]
  },
  {
   "cell_type": "markdown",
   "metadata": {
    "id": "7311ec58"
   },
   "source": [
    "**Reasoning**:\n",
    "Import the mlflow library and modify the model training code to include MLflow run tracking and parameter logging for each model.\n",
    "\n"
   ]
  },
  {
   "cell_type": "code",
   "execution_count": null,
   "metadata": {
    "colab": {
     "base_uri": "https://localhost:8080/"
    },
    "id": "5c090479",
    "outputId": "16869d24-24ac-40b1-81bb-90533743c697"
   },
   "outputs": [],
   "source": [
    "import mlflow\n",
    "import mlflow.sklearn\n",
    "\n",
    "# Initialize the models\n",
    "nb_model = GaussianNB()\n",
    "dt_model = DecisionTreeClassifier(random_state=42)\n",
    "lr_model = LogisticRegression(max_iter=1000)\n",
    "\n",
    "# Train the models and track with MLflow\n",
    "\n",
    "# Naive Bayes\n",
    "with mlflow.start_run(run_name=\"Naive Bayes Model Training\"):\n",
    "    # Log parameters (GaussianNB has no significant hyperparameters to log in this simple case)\n",
    "    # mlflow.log_param(\"model_type\", \"GaussianNB\") # Example of logging a general parameter\n",
    "\n",
    "    nb_model.fit(X_train_scaled, y_train_resampled)\n",
    "\n",
    "    print(f\"MLflow Run ID for Naive Bayes: {mlflow.active_run().info.run_id}\")\n",
    "\n",
    "\n",
    "# Decision Tree\n",
    "with mlflow.start_run(run_name=\"Decision Tree Model Training\"):\n",
    "    # Log parameters\n",
    "    mlflow.log_param(\"random_state\", 42)\n",
    "    # Log other relevant hyperparameters if they were set, e.g., max_depth, min_samples_split, etc.\n",
    "\n",
    "    dt_model.fit(X_train_scaled, y_train_resampled)\n",
    "\n",
    "    print(f\"MLflow Run ID for Decision Tree: {mlflow.active_run().info.run_id}\")\n",
    "\n",
    "\n",
    "# Logistic Regression\n",
    "with mlflow.start_run(run_name=\"Logistic Regression Model Training\"):\n",
    "    # Log parameters\n",
    "    mlflow.log_param(\"max_iter\", 1000)\n",
    "    # Log other relevant hyperparameters if they were set, e.g., C, solver, penalty, etc.\n",
    "\n",
    "    lr_model.fit(X_train_scaled, y_train_resampled)\n",
    "\n",
    "    print(f\"MLflow Run ID for Logistic Regression: {mlflow.active_run().info.run_id}\")\n",
    "\n",
    "print(\"\\nModels trained and MLflow tracking initiated for each model.\")"
   ]
  },
  {
   "cell_type": "markdown",
   "metadata": {
    "id": "b1e9004b"
   },
   "source": [
    "**Reasoning**:\n",
    "The previous code failed because the necessary model classes were not imported. I need to regenerate the code and include the imports for `GaussianNB`, `DecisionTreeClassifier`, and `LogisticRegression`, as well as `mlflow` and `mlflow.sklearn`.\n",
    "\n"
   ]
  },
  {
   "cell_type": "code",
   "execution_count": null,
   "metadata": {
    "colab": {
     "base_uri": "https://localhost:8080/"
    },
    "id": "KjrlBzSZKire",
    "outputId": "e3e4ad48-07ab-46dc-fdb8-b375383604d8"
   },
   "outputs": [],
   "source": [
    "import mlflow\n",
    "import mlflow.sklearn\n",
    "from sklearn.naive_bayes import GaussianNB\n",
    "from sklearn.tree import DecisionTreeClassifier\n",
    "from sklearn.linear_model import LogisticRegression\n",
    "\n",
    "# Initialize the models\n",
    "nb_model = GaussianNB()\n",
    "dt_model = DecisionTreeClassifier(random_state=42)\n",
    "lr_model = LogisticRegression(max_iter=1000)\n",
    "\n",
    "# Train the models and track with MLflow\n",
    "\n",
    "# Naive Bayes\n",
    "with mlflow.start_run(run_name=\"Naive Bayes Model Training\"):\n",
    "    # Log parameters (GaussianNB has no significant hyperparameters to log in this simple case)\n",
    "    # mlflow.log_param(\"model_type\", \"GaussianNB\") # Example of logging a general parameter\n",
    "\n",
    "    nb_model.fit(X_train_scaled, y_train_resampled)\n",
    "\n",
    "    print(f\"MLflow Run ID for Naive Bayes: {mlflow.active_run().info.run_id}\")\n",
    "\n",
    "\n",
    "# Decision Tree\n",
    "with mlflow.start_run(run_name=\"Decision Tree Model Training\"):\n",
    "    # Log parameters\n",
    "    mlflow.log_param(\"random_state\", 42)\n",
    "    # Log other relevant hyperparameters if they were set, e.g., max_depth, min_samples_split, etc.\n",
    "\n",
    "    dt_model.fit(X_train_scaled, y_train_resampled)\n",
    "\n",
    "    print(f\"MLflow Run ID for Decision Tree: {mlflow.active_run().info.run_id}\")\n",
    "\n",
    "\n",
    "# Logistic Regression\n",
    "with mlflow.start_run(run_name=\"Logistic Regression Model Training\"):\n",
    "    # Log parameters\n",
    "    mlflow.log_param(\"max_iter\", 1000)\n",
    "    # Log other relevant hyperparameters if they were set, e.g., C, solver, penalty, etc.\n",
    "\n",
    "    lr_model.fit(X_train_scaled, y_train_resampled)\n",
    "\n",
    "    print(f\"MLflow Run ID for Logistic Regression: {mlflow.active_run().info.run_id}\")\n",
    "\n",
    "print(\"\\nModels trained and MLflow tracking initiated for each model.\")"
   ]
  },
  {
   "cell_type": "markdown",
   "metadata": {
    "id": "e10ac9b6"
   },
   "source": [
    "**Reasoning**:\n",
    "The previous code failed because `X_train_scaled` and `y_train_resampled` were not defined in the current execution context. I need to regenerate the code block that performs the data preprocessing steps (combining data, creating new features, splitting data, handling class imbalance with SMOTE, and scaling) to ensure these variables are available before training the models. I will then combine this with the model training and MLflow tracking code.\n",
    "\n"
   ]
  },
  {
   "cell_type": "code",
   "execution_count": null,
   "metadata": {
    "colab": {
     "base_uri": "https://localhost:8080/"
    },
    "id": "jk3_Z7LrKmpA",
    "outputId": "d5914b64-a2b7-4169-e33e-d2f55a714013"
   },
   "outputs": [],
   "source": [
    "from ucimlrepo import fetch_ucirepo\n",
    "import pandas as pd\n",
    "from sklearn.model_selection import train_test_split\n",
    "from imblearn.over_sampling import SMOTE\n",
    "from collections import Counter\n",
    "from sklearn.preprocessing import StandardScaler\n",
    "import mlflow\n",
    "import mlflow.sklearn\n",
    "from sklearn.naive_bayes import GaussianNB\n",
    "from sklearn.tree import DecisionTreeClassifier\n",
    "from sklearn.linear_model import LogisticRegression\n",
    "\n",
    "# Fetch dataset\n",
    "cdc_diabetes_health_indicators = fetch_ucirepo(id=891)\n",
    "X = cdc_diabetes_health_indicators.data.features\n",
    "y = cdc_diabetes_health_indicators.data.targets\n",
    "\n",
    "# Combine dataframes\n",
    "df = pd.concat([X, y], axis=1)\n",
    "\n",
    "# Apply ordinal mapping to GenHlth and Education (as justified previously)\n",
    "genhlth_mapping = {1: 1, 2: 2, 3: 3, 4: 4, 5: 5}\n",
    "df['GenHlth'] = df['GenHlth'].map(genhlth_mapping)\n",
    "\n",
    "education_mapping = {1: 1, 2: 2, 3: 3, 4: 4, 5: 5, 6: 6}\n",
    "df['Education'] = df['Education'].map(education_mapping)\n",
    "\n",
    "# Create BMI categories (as in previous steps)\n",
    "bmi_bins = [0, 18.5, 25, 30, float('inf')]\n",
    "bmi_labels = ['Underweight', 'Normal', 'Overweight', 'Obese']\n",
    "df['BMI_category'] = pd.cut(df['BMI'], bins=bmi_bins, labels=bmi_labels, right=False)\n",
    "\n",
    "# Create TotalHealthDays feature (as in previous steps)\n",
    "df['TotalHealthDays'] = df['PhysHlth'] + df['MentHlth']\n",
    "\n",
    "# Define features (X) and target (y) from the corrected df\n",
    "# Drop original BMI, PhysHlth, MentHlth as they are now represented by BMI_category and TotalHealthDays\n",
    "X = df.drop(['Diabetes_binary', 'BMI', 'PhysHlth', 'MentHlth'], axis=1)\n",
    "y = df['Diabetes_binary']\n",
    "\n",
    "# Split the dataset into training and testing sets with stratification\n",
    "X_train, X_test, y_train, y_test = train_test_split(X, y, test_size=0.2, stratify=y, random_state=42)\n",
    "\n",
    "# Identify non-numerical columns in X_train for one-hot encoding (BMI_category is the only one now)\n",
    "non_numerical_cols = X_train.select_dtypes(exclude=['number']).columns\n",
    "\n",
    "# Apply one-hot encoding to non-numerical columns in X_train and X_test\n",
    "X_train_encoded = pd.get_dummies(X_train, columns=non_numerical_cols, drop_first=True)\n",
    "X_test_encoded = pd.get_dummies(X_test, columns=non_numerical_cols, drop_first=True)\n",
    "\n",
    "# Align columns after one-hot encoding - crucial to prevent errors during scaling and prediction\n",
    "train_cols = X_train_encoded.columns\n",
    "X_test_encoded = X_test_encoded.reindex(columns=train_cols, fill_value=0)\n",
    "\n",
    "\n",
    "# Apply SMOTE to the training data\n",
    "print(\"Class distribution before SMOTE:\", Counter(y_train))\n",
    "smote = SMOTE(random_state=42)\n",
    "X_train_resampled, y_train_resampled = smote.fit_resample(X_train_encoded, y_train)\n",
    "print(\"Class distribution after SMOTE:\", Counter(y_train_resampled))\n",
    "\n",
    "\n",
    "# Identify numerical columns after one-hot encoding\n",
    "numerical_cols_after_encoding = X_train_resampled.select_dtypes(include=['number']).columns\n",
    "\n",
    "# Initialize the StandardScaler\n",
    "scaler = StandardScaler()\n",
    "\n",
    "# Fit the scaler only on the numerical columns of the resampled training data and transform it\n",
    "X_train_resampled_numerical = X_train_resampled[numerical_cols_after_encoding]\n",
    "X_train_scaled_numerical = scaler.fit_transform(X_train_resampled_numerical)\n",
    "X_train_scaled_numerical_df = pd.DataFrame(X_train_scaled_numerical, columns=numerical_cols_after_encoding, index=X_train_resampled_numerical.index)\n",
    "\n",
    "# Transform the numerical columns of the testing data using the *same* scaler fitted on the training data\n",
    "X_test_numerical = X_test_encoded[numerical_cols_after_encoding]\n",
    "X_test_scaled_numerical = scaler.transform(X_test_numerical)\n",
    "X_test_scaled_numerical_df = pd.DataFrame(X_test_scaled_numerical, columns=numerical_cols_after_encoding, index=X_test_numerical.index)\n",
    "\n",
    "\n",
    "# Combine the scaled numerical features with the one-hot encoded features for the training set\n",
    "# Identify the one-hot encoded columns (these are the columns in X_train_resampled that are not numerical)\n",
    "one_hot_cols_resampled = X_train_resampled.columns.difference(numerical_cols_after_encoding)\n",
    "X_train_scaled = pd.concat([X_train_scaled_numerical_df.reset_index(drop=True), X_train_resampled[one_hot_cols_resampled].reset_index(drop=True)], axis=1)\n",
    "\n",
    "# Combine the scaled numerical features with the one-hot encoded features for the testing set\n",
    "# Identify the one-hot encoded columns in the test set (these should match the training set after reindexing)\n",
    "one_hot_cols_test = X_test_encoded.columns.difference(numerical_cols_after_encoding)\n",
    "X_test_scaled = pd.concat([X_test_scaled_numerical_df.reset_index(drop=True), X_test_encoded[one_hot_cols_test].reset_index(drop=True)], axis=1)\n",
    "\n",
    "\n",
    "# Initialize the models\n",
    "nb_model = GaussianNB()\n",
    "dt_model = DecisionTreeClassifier(random_state=42)\n",
    "lr_model = LogisticRegression(max_iter=1000)\n",
    "\n",
    "# Train the models and track with MLflow\n",
    "\n",
    "# Naive Bayes\n",
    "with mlflow.start_run(run_name=\"Naive Bayes Model Training\"):\n",
    "    # Log parameters (GaussianNB has no significant hyperparameters to log in this simple case)\n",
    "    # mlflow.log_param(\"model_type\", \"GaussianNB\") # Example of logging a general parameter\n",
    "\n",
    "    nb_model.fit(X_train_scaled, y_train_resampled)\n",
    "\n",
    "    print(f\"MLflow Run ID for Naive Bayes: {mlflow.active_run().info.run_id}\")\n",
    "\n",
    "\n",
    "# Decision Tree\n",
    "with mlflow.start_run(run_name=\"Decision Tree Model Training\"):\n",
    "    # Log parameters\n",
    "    mlflow.log_param(\"random_state\", 42)\n",
    "    # Log other relevant hyperparameters if they were set, e.g., max_depth, min_samples_split, etc.\n",
    "\n",
    "    dt_model.fit(X_train_scaled, y_train_resampled)\n",
    "\n",
    "    print(f\"MLflow Run ID for Decision Tree: {mlflow.active_run().info.run_id}\")\n",
    "\n",
    "\n",
    "# Logistic Regression\n",
    "with mlflow.start_run(run_name=\"Logistic Regression Model Training\"):\n",
    "    # Log parameters\n",
    "    mlflow.log_param(\"max_iter\", 1000)\n",
    "    # Log other relevant hyperparameters if they were set, e.g., C, solver, penalty, etc.\n",
    "\n",
    "    lr_model.fit(X_train_scaled, y_train_resampled)\n",
    "\n",
    "    print(f\"MLflow Run ID for Logistic Regression: {mlflow.active_run().info.run_id}\")\n",
    "\n",
    "print(\"\\nModels trained and MLflow tracking initiated for each model.\")"
   ]
  },
  {
   "cell_type": "markdown",
   "metadata": {
    "id": "246f97db"
   },
   "source": [
    "**Reasoning**:\n",
    "The models have been trained and MLflow runs have been initiated and parameters logged for each. The next step according to the overall task is to evaluate the models and log the metrics using MLflow. I will calculate the classification metrics (accuracy, precision, recall, F1-score, and AUC) for each model's predictions on the test set and log these metrics within their respective MLflow runs.\n",
    "\n"
   ]
  },
  {
   "cell_type": "code",
   "execution_count": null,
   "metadata": {
    "colab": {
     "base_uri": "https://localhost:8080/"
    },
    "id": "551a1c7e",
    "outputId": "820d014e-54d3-44c6-ffad-4882b538fb6a"
   },
   "outputs": [],
   "source": [
    "from sklearn.metrics import accuracy_score, precision_score, recall_score, f1_score, roc_auc_score\n",
    "\n",
    "# Make predictions on the testing data\n",
    "nb_pred = nb_model.predict(X_test_scaled)\n",
    "dt_pred = dt_model.predict(X_test_scaled)\n",
    "lr_pred = lr_model.predict(X_test_scaled)\n",
    "\n",
    "# Calculate and log metrics for Naive Bayes within its run\n",
    "with mlflow.start_run(run_name=\"Naive Bayes Model Training\", nested=True) as run: # Use nested=True to log within the existing training run\n",
    "    nb_accuracy = accuracy_score(y_test, nb_pred)\n",
    "    nb_precision = precision_score(y_test, nb_pred)\n",
    "    nb_recall = recall_score(y_test, nb_pred)\n",
    "    nb_f1 = f1_score(y_test, nb_pred)\n",
    "    nb_auc = roc_auc_score(y_test, nb_pred)\n",
    "\n",
    "    mlflow.log_metric(\"accuracy\", nb_accuracy)\n",
    "    mlflow.log_metric(\"precision\", nb_precision)\n",
    "    mlflow.log_metric(\"recall\", nb_recall)\n",
    "    mlflow.log_metric(\"f1_score\", nb_f1)\n",
    "    mlflow.log_metric(\"auc\", nb_auc)\n",
    "\n",
    "    print(f\"Logged metrics for Naive Bayes in run: {run.info.run_id}\")\n",
    "\n",
    "\n",
    "# Calculate and log metrics for Decision Tree within its run\n",
    "with mlflow.start_run(run_name=\"Decision Tree Model Training\", nested=True) as run: # Use nested=True\n",
    "    dt_accuracy = accuracy_score(y_test, dt_pred)\n",
    "    dt_precision = precision_score(y_test, dt_pred)\n",
    "    dt_recall = recall_score(y_test, dt_pred)\n",
    "    dt_f1 = f1_score(y_test, dt_pred)\n",
    "    dt_auc = roc_auc_score(y_test, dt_pred)\n",
    "\n",
    "    mlflow.log_metric(\"accuracy\", dt_accuracy)\n",
    "    mlflow.log_metric(\"precision\", dt_precision)\n",
    "    mlflow.log_metric(\"recall\", dt_recall)\n",
    "    mlflow.log_metric(\"f1_score\", dt_f1)\n",
    "    mlflow.log_metric(\"auc\", dt_auc)\n",
    "\n",
    "    print(f\"Logged metrics for Decision Tree in run: {run.info.run_id}\")\n",
    "\n",
    "\n",
    "# Calculate and log metrics for Logistic Regression within its run\n",
    "with mlflow.start_run(run_name=\"Logistic Regression Model Training\", nested=True) as run: # Use nested=True\n",
    "    lr_accuracy = accuracy_score(y_test, lr_pred)\n",
    "    lr_precision = precision_score(y_test, lr_pred)\n",
    "    lr_recall = recall_score(y_test, lr_pred)\n",
    "    lr_f1 = f1_score(y_test, lr_pred)\n",
    "    lr_auc = roc_auc_score(y_test, lr_pred)\n",
    "\n",
    "    mlflow.log_metric(\"accuracy\", lr_accuracy)\n",
    "    mlflow.log_metric(\"precision\", lr_precision)\n",
    "    mlflow.log_metric(\"recall\", lr_recall)\n",
    "    mlflow.log_metric(\"f1_score\", lr_f1)\n",
    "    mlflow.log_metric(\"auc\", lr_auc)\n",
    "\n",
    "    print(f\"Logged metrics for Logistic Regression in run: {run.info.run_id}\")\n",
    "\n",
    "print(\"\\nClassification metrics calculated and logged for each model.\")"
   ]
  },
  {
   "cell_type": "markdown",
   "metadata": {
    "id": "e5202912"
   },
   "source": [
    "## Demonstrate viewing mlflow ui (optional)\n",
    "\n",
    "### Subtask:\n",
    "Provide instructions or code to potentially view the MLflow tracking UI (with the understanding of Colab limitations).\n"
   ]
  },
  {
   "cell_type": "markdown",
   "metadata": {
    "id": "a3156bad"
   },
   "source": [
    "**Reasoning**:\n",
    "Provide instructions on how to view the MLflow UI, including typical command-line usage and workarounds for Google Colab.\n",
    "\n"
   ]
  },
  {
   "cell_type": "code",
   "execution_count": null,
   "metadata": {
    "colab": {
     "base_uri": "https://localhost:8080/"
    },
    "id": "4f3836da",
    "outputId": "4d31567b-2276-4100-ea2d-8fe6e78367fd"
   },
   "outputs": [],
   "source": [
    "print(\"Viewing the MLflow Tracking UI:\")\n",
    "print(\"\\nIn a typical local environment, you can navigate to the directory where your MLflow runs are logged (by default, this is a folder named 'mlruns' in the same directory as your notebook or script) and run the following command in your terminal:\")\n",
    "print(\"mlflow ui\")\n",
    "print(\"\\nThis will start a local web server, and you can access the UI by opening your web browser and going to http://localhost:5000.\")\n",
    "\n",
    "print(\"\\nViewing the MLflow UI in Google Colab:\")\n",
    "print(\"Directly running 'mlflow ui' in a Colab notebook cell doesn't provide a persistent web interface that you can easily access.\")\n",
    "print(\"Here are a couple of potential workarounds:\")\n",
    "\n",
    "print(\"\\nMethod 1: Using ngrok\")\n",
    "print(\"ngrok is a service that creates a secure tunnel to your local machine, allowing you to expose a web server running on your local host to the internet.\")\n",
    "print(\"1. Install ngrok (if you haven't already):\")\n",
    "print(\"!pip install ngrok\")\n",
    "print(\"2. Run the MLflow UI in the background:\")\n",
    "print(\"!nohup mlflow ui &\")\n",
    "print(\"3. Expose the MLflow UI port (default is 5000) using ngrok:\")\n",
    "print(\"!ngrok http 5000\")\n",
    "print(\"ngrok will provide a public URL that you can click to access the MLflow UI. Note that this URL is temporary and will change each time you run the command. You might need to sign up for a free ngrok account and configure your authentication token for more reliable usage.\")\n",
    "print(\"Be aware of the security implications of exposing a local server to the internet.\")\n",
    "\n",
    "print(\"\\nMethod 2: Downloading the mlruns folder\")\n",
    "print(\"After your MLflow runs are complete, you can download the 'mlruns' folder from your Colab environment.\")\n",
    "print(\"1. In the Colab file browser (the folder icon on the left sidebar), locate the 'mlruns' folder.\")\n",
    "print(\"2. Right-click on the 'mlruns' folder and select 'Download'.\")\n",
    "print(\"3. Once downloaded to your local machine, navigate to the directory containing the 'mlruns' folder in your terminal.\")\n",
    "print(\"4. Run the 'mlflow ui' command in that directory.\")\n",
    "print(\"This will launch the MLflow UI locally, allowing you to explore the logged runs, parameters, and metrics.\")"
   ]
  },
  {
   "cell_type": "markdown",
   "metadata": {
    "id": "5da95279"
   },
   "source": [
    "## Summary:\n",
    "\n",
    "### Data Analysis Key Findings\n",
    "\n",
    "*   MLflow tracking was successfully integrated into the model training process for Naive Bayes, Decision Tree, and Logistic Regression models.\n",
    "*   Parameters specific to each model (e.g., `random_state` for Decision Tree, `max_iter` for Logistic Regression) were logged using `mlflow.log_param()`.\n",
    "*   Performance metrics including accuracy, precision, recall, F1-score, and AUC were calculated for each model on the test set.\n",
    "*   The calculated metrics were successfully logged within their respective MLflow runs using `mlflow.log_metric()`, utilizing nested runs to associate metrics with the training runs.\n",
    "\n",
    "### Insights or Next Steps\n",
    "\n",
    "*   The integrated MLflow tracking allows for easy comparison of different model runs and hyperparameter settings, facilitating model selection and tuning.\n",
    "*   Further analysis could involve logging additional artifacts such as the trained model files, confusion matrices, or ROC curves within the MLflow runs for a more comprehensive record of each experiment.\n"
   ]
  },
  {
   "cell_type": "code",
   "execution_count": null,
   "metadata": {
    "colab": {
     "base_uri": "https://localhost:8080/"
    },
    "id": "ae0aae67",
    "outputId": "c677fedd-fb42-4492-9f44-af68a06de0a1"
   },
   "outputs": [],
   "source": [
    "print(\"Viewing the MLflow Tracking UI:\")\n",
    "print(\"\\nIn a typical local environment, you can navigate to the directory where your MLflow runs are logged (by default, this is a folder named 'mlruns' in the same directory as your notebook or script) and run the following command in your terminal:\")\n",
    "print(\"mlflow ui\")\n",
    "print(\"\\nThis will start a local web server, and you can access the UI by opening your web browser and going to http://localhost:5000.\")\n",
    "\n",
    "print(\"\\nViewing the MLflow UI in Google Colab:\")\n",
    "print(\"Directly running 'mlflow ui' in a Colab notebook cell doesn't provide a persistent web interface that you can easily access.\")\n",
    "print(\"Here are a couple of potential workarounds:\")\n",
    "\n",
    "print(\"\\nMethod 1: Using ngrok\")\n",
    "print(\"ngrok is a service that creates a secure tunnel to your local machine, allowing you to expose a web server running on your local host to the internet.\")\n",
    "print(\"1. Install ngrok (if you haven't already):\")\n",
    "print(\"!pip install ngrok\")\n",
    "print(\"2. Run the MLflow UI in the background:\")\n",
    "print(\"!nohup mlflow ui &\")\n",
    "print(\"3. Expose the MLflow UI port (default is 5000) using ngrok:\")\n",
    "print(\"!ngrok http 5000\")\n",
    "print(\"ngrok will provide a public URL that you can click to access the MLflow UI. Note that this URL is temporary and will change each time you run the command. You might need to sign up for a free ngrok account and configure your authentication token for more reliable usage.\")\n",
    "print(\"Be aware of the security implications of exposing a local server to the internet.\")\n",
    "\n",
    "print(\"\\nMethod 2: Downloading the mlruns folder\")\n",
    "print(\"After your MLflow runs are complete, you can download the 'mlruns' folder from your Colab environment.\")\n",
    "print(\"1. In the Colab file browser (the folder icon on the left sidebar), locate the 'mlruns' folder.\")\n",
    "print(\"2. Right-click on the 'mlruns' folder and select 'Download'.\")\n",
    "print(\"3. Once downloaded to your local machine, navigate to the directory containing the 'mlruns' folder in your terminal.\")\n",
    "print(\"4. Run the 'mlflow ui' command in that directory.\")\n",
    "print(\"This will launch the MLflow UI locally, allowing you to explore the logged runs, parameters, and metrics.\")"
   ]
  },
  {
   "cell_type": "markdown",
   "metadata": {
    "id": "a1d49d57"
   },
   "source": [
    "# Task\n",
    "Train and evaluate additional classification models (Random Forest, Gradient Boosting, k-Nearest Neighbors) on the preprocessed dataset, track experiments with MLflow, and compare their performance with previously trained models (Logistic Regression, Decision Tree, Naive Bayes) in a results table."
   ]
  },
  {
   "cell_type": "markdown",
   "metadata": {
    "id": "1b96adfc"
   },
   "source": [
    "## Select additional classifiers\n",
    "\n",
    "### Subtask:\n",
    "Choose a few other suitable classification algorithms to evaluate (e.g., Random Forest, Gradient Boosting, k-Nearest Neighbors).\n"
   ]
  },
  {
   "cell_type": "markdown",
   "metadata": {
    "id": "9b497b94"
   },
   "source": [
    "**Reasoning**:\n",
    "Identify and list at least three additional classification algorithms suitable for this dataset and task and briefly justify the selection of each.\n",
    "\n"
   ]
  },
  {
   "cell_type": "code",
   "execution_count": null,
   "metadata": {
    "colab": {
     "base_uri": "https://localhost:8080/"
    },
    "id": "8665b900",
    "outputId": "45f1c9d3-ac7a-42ec-9865-db4cf8829d6e"
   },
   "outputs": [],
   "source": [
    "print(\"Additional Classification Algorithms Selected for Evaluation:\")\n",
    "\n",
    "print(\"\\n1. Random Forest:\")\n",
    "print(\"   - Justification: Random Forest is an ensemble learning method that constructs multiple decision trees during training and outputs the mode of the classes (classification). It is generally robust to overfitting and can handle complex non-linear relationships. Given the mix of binary, ordinal, and numerical features, and the potential for interactions between features, a Random Forest could perform well.\")\n",
    "\n",
    "print(\"\\n2. Gradient Boosting (e.g., Gradient Boosting Classifier):\")\n",
    "print(\"   - Justification: Gradient Boosting is another powerful ensemble technique that builds models sequentially, with each new model correcting the errors of the previous ones. Algorithms like Gradient Boosting are known for their high accuracy and ability to capture intricate patterns in data. This could be effective for identifying complex risk factors for diabetes.\")\n",
    "\n",
    "print(\"\\n3. k-Nearest Neighbors (k-NN):\")\n",
    "print(\"   - Justification: k-NN is a simple, non-parametric algorithm that classifies a data point based on the majority class of its 'k' nearest neighbors in the feature space. It's a distance-based algorithm, so scaling the numerical features (which has already been done) is important. It's a different approach than the tree-based or probabilistic models already used and can capture local patterns in the data.\")"
   ]
  },
  {
   "cell_type": "markdown",
   "metadata": {
    "id": "26cc7044"
   },
   "source": [
    "## Import necessary libraries\n",
    "\n",
    "### Subtask:\n",
    "Import the required modules for the selected classifiers (Random Forest, Gradient Boosting, k-Nearest Neighbors).\n"
   ]
  },
  {
   "cell_type": "markdown",
   "metadata": {
    "id": "c54d234d"
   },
   "source": [
    "**Reasoning**:\n",
    "Import the necessary modules for the selected classification algorithms.\n",
    "\n"
   ]
  },
  {
   "cell_type": "code",
   "execution_count": null,
   "metadata": {
    "id": "2522452d"
   },
   "outputs": [],
   "source": [
    "from sklearn.ensemble import RandomForestClassifier, GradientBoostingClassifier\n",
    "from sklearn.neighbors import KNeighborsClassifier"
   ]
  },
  {
   "cell_type": "markdown",
   "metadata": {
    "id": "f9961cf5"
   },
   "source": [
    "## Initialize and train classifiers\n",
    "\n",
    "### Subtask:\n",
    "Initialize each of the selected classifiers (Random Forest, Gradient Boosting, k-Nearest Neighbors) and train them on the preprocessed training data (`X_train_scaled`, `y_train_resampled`), incorporating MLflow tracking for each.\n"
   ]
  },
  {
   "cell_type": "markdown",
   "metadata": {
    "id": "15e1c551"
   },
   "source": [
    "**Reasoning**:\n",
    "Initialize each of the selected classifiers and train them on the preprocessed training data, incorporating MLflow tracking and parameter logging for each.\n",
    "\n"
   ]
  },
  {
   "cell_type": "code",
   "execution_count": null,
   "metadata": {
    "colab": {
     "base_uri": "https://localhost:8080/"
    },
    "id": "094257a0",
    "outputId": "39b94f40-21d5-409b-f9d9-9006d627cdbe"
   },
   "outputs": [],
   "source": [
    "# Initialize the models\n",
    "rf_model = RandomForestClassifier(random_state=42)\n",
    "gb_model = GradientBoostingClassifier(random_state=42)\n",
    "knn_model = KNeighborsClassifier(n_neighbors=5)\n",
    "\n",
    "# Train the models and track with MLflow\n",
    "\n",
    "# Random Forest\n",
    "with mlflow.start_run(run_name=\"Random Forest Model Training\"):\n",
    "    # Log parameters\n",
    "    mlflow.log_param(\"random_state\", 42)\n",
    "    # Add other relevant hyperparameters if tuned later\n",
    "\n",
    "    rf_model.fit(X_train_scaled, y_train_resampled)\n",
    "\n",
    "    print(f\"MLflow Run ID for Random Forest: {mlflow.active_run().info.run_id}\")\n",
    "\n",
    "\n",
    "# Gradient Boosting\n",
    "with mlflow.start_run(run_name=\"Gradient Boosting Model Training\"):\n",
    "    # Log parameters\n",
    "    mlflow.log_param(\"random_state\", 42)\n",
    "    # Add other relevant hyperparameters if tuned later\n",
    "\n",
    "    gb_model.fit(X_train_scaled, y_train_resampled)\n",
    "\n",
    "    print(f\"MLflow Run ID for Gradient Boosting: {mlflow.active_run().info.run_id}\")\n",
    "\n",
    "\n",
    "# k-Nearest Neighbors\n",
    "with mlflow.start_run(run_name=\"k-Nearest Neighbors Model Training\"):\n",
    "    # Log parameters\n",
    "    mlflow.log_param(\"n_neighbors\", 5)\n",
    "    # Add other relevant hyperparameters if tuned later\n",
    "\n",
    "    knn_model.fit(X_train_scaled, y_train_resampled)\n",
    "\n",
    "    print(f\"MLflow Run ID for k-Nearest Neighbors: {mlflow.active_run().info.run_id}\")\n",
    "\n",
    "print(\"\\nRandom Forest model trained.\")\n",
    "print(\"Gradient Boosting model trained.\")\n",
    "print(\"k-Nearest Neighbors model trained.\")\n",
    "print(\"MLflow tracking initiated for each model.\")"
   ]
  },
  {
   "cell_type": "markdown",
   "metadata": {
    "id": "c7ad33d1"
   },
   "source": [
    "**Reasoning**:\n",
    "The previous code failed because the `mlflow` library was not imported in the current execution context. I need to regenerate the code and include the necessary imports for `mlflow` and `mlflow.sklearn`, as well as the model classes and the data preprocessing steps to ensure `X_train_scaled` and `y_train_resampled` are available.\n",
    "\n"
   ]
  },
  {
   "cell_type": "code",
   "execution_count": null,
   "metadata": {
    "colab": {
     "base_uri": "https://localhost:8080/"
    },
    "id": "Ppj7jD8aBLaE",
    "outputId": "dde0e09e-27f0-41e3-b6ff-07d10ef7cc59"
   },
   "outputs": [],
   "source": [
    "import mlflow\n",
    "import mlflow.sklearn\n",
    "from sklearn.ensemble import RandomForestClassifier, GradientBoostingClassifier\n",
    "from sklearn.neighbors import KNeighborsClassifier\n",
    "from ucimlrepo import fetch_ucirepo\n",
    "import pandas as pd\n",
    "from sklearn.model_selection import train_test_split\n",
    "from imblearn.over_sampling import SMOTE\n",
    "from collections import Counter\n",
    "from sklearn.preprocessing import StandardScaler\n",
    "\n",
    "\n",
    "# Fetch dataset\n",
    "cdc_diabetes_health_indicators = fetch_ucirepo(id=891)\n",
    "X = cdc_diabetes_health_indicators.data.features\n",
    "y = cdc_diabetes_health_indicators.data.targets\n",
    "\n",
    "# Combine dataframes\n",
    "df = pd.concat([X, y], axis=1)\n",
    "\n",
    "# Apply ordinal mapping to GenHlth and Education (as justified previously)\n",
    "genhlth_mapping = {1: 1, 2: 2, 3: 3, 4: 4, 5: 5}\n",
    "df['GenHlth'] = df['GenHlth'].map(genhlth_mapping)\n",
    "\n",
    "education_mapping = {1: 1, 2: 2, 3: 3, 4: 4, 5: 5, 6: 6}\n",
    "df['Education'] = df['Education'].map(education_mapping)\n",
    "\n",
    "# Create BMI categories (as in previous steps)\n",
    "bmi_bins = [0, 18.5, 25, 30, float('inf')]\n",
    "bmi_labels = ['Underweight', 'Normal', 'Overweight', 'Obese']\n",
    "df['BMI_category'] = pd.cut(df['BMI'], bins=bmi_bins, labels=bmi_labels, right=False)\n",
    "\n",
    "# Create TotalHealthDays feature (as in previous steps)\n",
    "df['TotalHealthDays'] = df['PhysHlth'] + df['MentHlth']\n",
    "\n",
    "# Define features (X) and target (y) from the corrected df\n",
    "# Drop original BMI, PhysHlth, MentHlth as they are now represented by BMI_category and TotalHealthDays\n",
    "X = df.drop(['Diabetes_binary', 'BMI', 'PhysHlth', 'MentHlth'], axis=1)\n",
    "y = df['Diabetes_binary']\n",
    "\n",
    "# Split the dataset into training and testing sets with stratification\n",
    "X_train, X_test, y_train, y_test = train_test_split(X, y, test_size=0.2, stratify=y, random_state=42)\n",
    "\n",
    "# Identify non-numerical columns in X_train for one-hot encoding (BMI_category is the only one now)\n",
    "non_numerical_cols = X_train.select_dtypes(exclude=['number']).columns\n",
    "\n",
    "# Apply one-hot encoding to non-numerical columns in X_train and X_test\n",
    "X_train_encoded = pd.get_dummies(X_train, columns=non_numerical_cols, drop_first=True)\n",
    "X_test_encoded = pd.get_dummies(X_test, columns=non_numerical_cols, drop_first=True)\n",
    "\n",
    "# Align columns after one-hot encoding - crucial to prevent errors during scaling and prediction\n",
    "train_cols = X_train_encoded.columns\n",
    "X_test_encoded = X_test_encoded.reindex(columns=train_cols, fill_value=0)\n",
    "\n",
    "\n",
    "# Apply SMOTE to the training data\n",
    "print(\"Class distribution before SMOTE:\", Counter(y_train))\n",
    "smote = SMOTE(random_state=42)\n",
    "X_train_resampled, y_train_resampled = smote.fit_resample(X_train_encoded, y_train)\n",
    "print(\"Class distribution after SMOTE:\", Counter(y_train_resampled))\n",
    "\n",
    "\n",
    "# Identify numerical columns after one-hot encoding\n",
    "numerical_cols_after_encoding = X_train_resampled.select_dtypes(include=['number']).columns\n",
    "\n",
    "# Initialize the StandardScaler\n",
    "scaler = StandardScaler()\n",
    "\n",
    "# Fit the scaler only on the numerical columns of the resampled training data and transform it\n",
    "X_train_resampled_numerical = X_train_resampled[numerical_cols_after_encoding]\n",
    "X_train_scaled_numerical = scaler.fit_transform(X_train_resampled_numerical)\n",
    "X_train_scaled_numerical_df = pd.DataFrame(X_train_scaled_numerical, columns=numerical_cols_after_encoding, index=X_train_resampled_numerical.index)\n",
    "\n",
    "# Transform the numerical columns of the testing data using the *same* scaler fitted on the training data\n",
    "X_test_numerical = X_test_encoded[numerical_cols_after_encoding]\n",
    "X_test_scaled_numerical = scaler.transform(X_test_numerical)\n",
    "X_test_scaled_numerical_df = pd.DataFrame(X_test_scaled_numerical, columns=numerical_cols_after_encoding, index=X_test_numerical.index)\n",
    "\n",
    "\n",
    "# Combine the scaled numerical features with the one-hot encoded features for the training set\n",
    "# Identify the one-hot encoded columns (these are the columns in X_train_resampled that are not numerical)\n",
    "one_hot_cols_resampled = X_train_resampled.columns.difference(numerical_cols_after_encoding)\n",
    "X_train_scaled = pd.concat([X_train_scaled_numerical_df.reset_index(drop=True), X_train_resampled[one_hot_cols_resampled].reset_index(drop=True)], axis=1)\n",
    "\n",
    "# Combine the scaled numerical features with the one-hot encoded features for the testing set\n",
    "# Identify the one-hot encoded columns in the test set (these should match the training set after reindexing)\n",
    "one_hot_cols_test = X_test_encoded.columns.difference(numerical_cols_after_encoding)\n",
    "X_test_scaled = pd.concat([X_test_scaled_numerical_df.reset_index(drop=True), X_test_encoded[one_hot_cols_test].reset_index(drop=True)], axis=1)\n",
    "\n",
    "# Initialize the models\n",
    "rf_model = RandomForestClassifier(random_state=42)\n",
    "gb_model = GradientBoostingClassifier(random_state=42)\n",
    "knn_model = KNeighborsClassifier(n_neighbors=5)\n",
    "\n",
    "# Train the models and track with MLflow\n",
    "\n",
    "# Random Forest\n",
    "with mlflow.start_run(run_name=\"Random Forest Model Training\"):\n",
    "    # Log parameters\n",
    "    mlflow.log_param(\"random_state\", 42)\n",
    "    # Add other relevant hyperparameters if tuned later\n",
    "\n",
    "    rf_model.fit(X_train_scaled, y_train_resampled)\n",
    "\n",
    "    print(f\"MLflow Run ID for Random Forest: {mlflow.active_run().info.run_id}\")\n",
    "\n",
    "\n",
    "# Gradient Boosting\n",
    "with mlflow.start_run(run_name=\"Gradient Boosting Model Training\"):\n",
    "    # Log parameters\n",
    "    mlflow.log_param(\"random_state\", 42)\n",
    "    # Add other relevant hyperparameters if tuned later\n",
    "\n",
    "    gb_model.fit(X_train_scaled, y_train_resampled)\n",
    "\n",
    "    print(f\"MLflow Run ID for Gradient Boosting: {mlflow.active_run().info.run_id}\")\n",
    "\n",
    "\n",
    "# k-Nearest Neighbors\n",
    "with mlflow.start_run(run_name=\"k-Nearest Neighbors Model Training\"):\n",
    "    # Log parameters\n",
    "    mlflow.log_param(\"n_neighbors\", 5)\n",
    "    # Add other relevant hyperparameters if tuned later\n",
    "\n",
    "    knn_model.fit(X_train_scaled, y_train_resampled)\n",
    "\n",
    "    print(f\"MLflow Run ID for k-Nearest Neighbors: {mlflow.active_run().info.run_id}\")\n",
    "\n",
    "print(\"\\nRandom Forest model trained.\")\n",
    "print(\"Gradient Boosting model trained.\")\n",
    "print(\"k-Nearest Neighbors model trained.\")\n",
    "print(\"MLflow tracking initiated for each model.\")"
   ]
  },
  {
   "cell_type": "markdown",
   "metadata": {
    "id": "aa982c39"
   },
   "source": [
    "**Reasoning**:\n",
    "The previous code failed because the `mlflow` library is not installed in the current environment. I need to install `mlflow` using pip and then regenerate the code block that performs the data preprocessing and model training with MLflow tracking.\n",
    "\n"
   ]
  },
  {
   "cell_type": "code",
   "execution_count": null,
   "metadata": {
    "colab": {
     "base_uri": "https://localhost:8080/"
    },
    "id": "M5v78asvBNYQ",
    "outputId": "a3f4b943-bda0-4ecd-b9a6-595da2d4ee64"
   },
   "outputs": [],
   "source": [
    "!pip install mlflow"
   ]
  },
  {
   "cell_type": "markdown",
   "metadata": {
    "id": "e2598a3e"
   },
   "source": [
    "**Reasoning**:\n",
    "The `mlflow` library has been successfully installed. Now I need to regenerate the code block that performs the data preprocessing and trains the Random Forest, Gradient Boosting, and k-Nearest Neighbors models while tracking experiments with MLflow.\n",
    "\n"
   ]
  },
  {
   "cell_type": "code",
   "execution_count": null,
   "metadata": {
    "colab": {
     "base_uri": "https://localhost:8080/"
    },
    "id": "4808f576",
    "outputId": "42671ab7-f407-4b2f-b5ce-1b6afcdca39a"
   },
   "outputs": [],
   "source": [
    "import mlflow\n",
    "import mlflow.sklearn\n",
    "from sklearn.ensemble import RandomForestClassifier, GradientBoostingClassifier\n",
    "from sklearn.neighbors import KNeighborsClassifier\n",
    "from ucimlrepo import fetch_ucirepo\n",
    "import pandas as pd\n",
    "from sklearn.model_selection import train_test_split\n",
    "from imblearn.over_sampling import SMOTE\n",
    "from collections import Counter\n",
    "from sklearn.preprocessing import StandardScaler\n",
    "\n",
    "\n",
    "# Fetch dataset\n",
    "cdc_diabetes_health_indicators = fetch_ucirepo(id=891)\n",
    "X = cdc_diabetes_health_indicators.data.features\n",
    "y = cdc_diabetes_health_indicators.data.targets\n",
    "\n",
    "# Combine dataframes\n",
    "df = pd.concat([X, y], axis=1)\n",
    "\n",
    "# Apply ordinal mapping to GenHlth and Education (as justified previously)\n",
    "genhlth_mapping = {1: 1, 2: 2, 3: 3, 4: 4, 5: 5}\n",
    "df['GenHlth'] = df['GenHlth'].map(genhlth_mapping)\n",
    "\n",
    "education_mapping = {1: 1, 2: 2, 3: 3, 4: 4, 5: 5, 6: 6}\n",
    "df['Education'] = df['Education'].map(education_mapping)\n",
    "\n",
    "# Create BMI categories (as in previous steps)\n",
    "bmi_bins = [0, 18.5, 25, 30, float('inf')]\n",
    "bmi_labels = ['Underweight', 'Normal', 'Overweight', 'Obese']\n",
    "df['BMI_category'] = pd.cut(df['BMI'], bins=bmi_bins, labels=bmi_labels, right=False)\n",
    "\n",
    "# Create TotalHealthDays feature (as in previous steps)\n",
    "df['TotalHealthDays'] = df['PhysHlth'] + df['MentHlth']\n",
    "\n",
    "# Define features (X) and target (y) from the corrected df\n",
    "# Drop original BMI, PhysHlth, MentHlth as they are now represented by BMI_category and TotalHealthDays\n",
    "X = df.drop(['Diabetes_binary', 'BMI', 'PhysHlth', 'MentHlth'], axis=1)\n",
    "y = df['Diabetes_binary']\n",
    "\n",
    "# Split the dataset into training and testing sets with stratification\n",
    "X_train, X_test, y_train, y_test = train_test_split(X, y, test_size=0.2, stratify=y, random_state=42)\n",
    "\n",
    "# Identify non-numerical columns in X_train for one-hot encoding (BMI_category is the only one now)\n",
    "non_numerical_cols = X_train.select_dtypes(exclude=['number']).columns\n",
    "\n",
    "# Apply one-hot encoding to non-numerical columns in X_train and X_test\n",
    "X_train_encoded = pd.get_dummies(X_train, columns=non_numerical_cols, drop_first=True)\n",
    "X_test_encoded = pd.get_dummies(X_test, columns=non_numerical_cols, drop_first=True)\n",
    "\n",
    "# Align columns after one-hot encoding - crucial to prevent errors during scaling and prediction\n",
    "train_cols = X_train_encoded.columns\n",
    "X_test_encoded = X_test_encoded.reindex(columns=train_cols, fill_value=0)\n",
    "\n",
    "\n",
    "# Apply SMOTE to the training data\n",
    "print(\"Class distribution before SMOTE:\", Counter(y_train))\n",
    "smote = SMOTE(random_state=42)\n",
    "X_train_resampled, y_train_resampled = smote.fit_resample(X_train_encoded, y_train)\n",
    "print(\"Class distribution after SMOTE:\", Counter(y_train_resampled))\n",
    "\n",
    "\n",
    "# Identify numerical columns after one-hot encoding\n",
    "numerical_cols_after_encoding = X_train_resampled.select_dtypes(include=['number']).columns\n",
    "\n",
    "# Initialize the StandardScaler\n",
    "scaler = StandardScaler()\n",
    "\n",
    "# Fit the scaler only on the numerical columns of the resampled training data and transform it\n",
    "X_train_resampled_numerical = X_train_resampled[numerical_cols_after_encoding]\n",
    "X_train_scaled_numerical = scaler.fit_transform(X_train_resampled_numerical)\n",
    "X_train_scaled_numerical_df = pd.DataFrame(X_train_scaled_numerical, columns=numerical_cols_after_encoding, index=X_train_resampled_numerical.index)\n",
    "\n",
    "# Transform the numerical columns of the testing data using the *same* scaler fitted on the training data\n",
    "X_test_numerical = X_test_encoded[numerical_cols_after_encoding]\n",
    "X_test_scaled_numerical = scaler.transform(X_test_numerical)\n",
    "X_test_scaled_numerical_df = pd.DataFrame(X_test_scaled_numerical, columns=numerical_cols_after_encoding, index=X_test_numerical.index)\n",
    "\n",
    "\n",
    "# Combine the scaled numerical features with the one-hot encoded features for the training set\n",
    "# Identify the one-hot encoded columns (these are the columns in X_train_resampled that are not numerical)\n",
    "one_hot_cols_resampled = X_train_resampled.columns.difference(numerical_cols_after_encoding)\n",
    "X_train_scaled = pd.concat([X_train_scaled_numerical_df.reset_index(drop=True), X_train_resampled[one_hot_cols_resampled].reset_index(drop=True)], axis=1)\n",
    "\n",
    "# Combine the scaled numerical features with the one-hot encoded features for the testing set\n",
    "# Identify the one-hot encoded columns in the test set (these should match the training set after reindexing)\n",
    "one_hot_cols_test = X_test_encoded.columns.difference(numerical_cols_after_encoding)\n",
    "X_test_scaled = pd.concat([X_test_scaled_numerical_df.reset_index(drop=True), X_test_encoded[one_hot_cols_test].reset_index(drop=True)], axis=1)\n",
    "\n",
    "\n",
    "# Initialize the models\n",
    "rf_model = RandomForestClassifier(random_state=42)\n",
    "gb_model = GradientBoostingClassifier(random_state=42)\n",
    "knn_model = KNeighborsClassifier(n_neighbors=5)\n",
    "\n",
    "# Train the models and track with MLflow\n",
    "\n",
    "# Random Forest\n",
    "with mlflow.start_run(run_name=\"Random Forest Model Training\"):\n",
    "    # Log parameters\n",
    "    mlflow.log_param(\"random_state\", 42)\n",
    "    # Add other relevant hyperparameters if tuned later\n",
    "\n",
    "    rf_model.fit(X_train_scaled, y_train_resampled)\n",
    "\n",
    "    print(f\"MLflow Run ID for Random Forest: {mlflow.active_run().info.run_id}\")\n",
    "\n",
    "\n",
    "# Gradient Boosting\n",
    "with mlflow.start_run(run_name=\"Gradient Boosting Model Training\"):\n",
    "    # Log parameters\n",
    "    mlflow.log_param(\"random_state\", 42)\n",
    "    # Add other relevant hyperparameters if tuned later\n",
    "\n",
    "    gb_model.fit(X_train_scaled, y_train_resampled)\n",
    "\n",
    "    print(f\"MLflow Run ID for Gradient Boosting: {mlflow.active_run().info.run_id}\")\n",
    "\n",
    "\n",
    "# k-Nearest Neighbors\n",
    "with mlflow.start_run(run_name=\"k-Nearest Neighbors Model Training\"):\n",
    "    # Log parameters\n",
    "    mlflow.log_param(\"n_neighbors\", 5)\n",
    "    # Add other relevant hyperparameters if tuned later\n",
    "\n",
    "    knn_model.fit(X_train_scaled, y_train_resampled)\n",
    "\n",
    "    print(f\"MLflow Run ID for k-Nearest Neighbors: {mlflow.active_run().info.run_id}\")\n",
    "\n",
    "print(\"\\nRandom Forest model trained.\")\n",
    "print(\"Gradient Boosting model trained.\")\n",
    "print(\"k-Nearest Neighbors model trained.\")\n",
    "print(\"MLflow tracking initiated for each model.\")"
   ]
  },
  {
   "cell_type": "markdown",
   "metadata": {
    "id": "a3c17f4e"
   },
   "source": [
    "**Reasoning**:\n",
    "The previous code failed because the `ucimlrepo` library is not installed in the current environment. I need to install `ucimlrepo` using pip and then regenerate the code block that performs the data preprocessing and model training with MLflow tracking.\n",
    "\n"
   ]
  },
  {
   "cell_type": "code",
   "execution_count": null,
   "metadata": {
    "colab": {
     "base_uri": "https://localhost:8080/"
    },
    "id": "RgMquH0fBY4s",
    "outputId": "51b94e83-7b0f-4f32-eaa7-f4fd69331746"
   },
   "outputs": [],
   "source": [
    "!pip install ucimlrepo"
   ]
  },
  {
   "cell_type": "markdown",
   "metadata": {
    "id": "6a3d1a34"
   },
   "source": [
    "**Reasoning**:\n",
    "The `ucimlrepo` library has been successfully installed. Now I need to regenerate the code block that performs the data preprocessing and trains the Random Forest, Gradient Boosting, and k-Nearest Neighbors models while tracking experiments with MLflow.\n",
    "\n"
   ]
  },
  {
   "cell_type": "code",
   "execution_count": null,
   "metadata": {
    "colab": {
     "base_uri": "https://localhost:8080/"
    },
    "id": "fdb7e04b",
    "outputId": "e891891e-9d46-45f4-c0a7-e1a714bab9d9"
   },
   "outputs": [],
   "source": [
    "import mlflow\n",
    "import mlflow.sklearn\n",
    "from sklearn.ensemble import RandomForestClassifier, GradientBoostingClassifier\n",
    "from sklearn.neighbors import KNeighborsClassifier\n",
    "from ucimlrepo import fetch_ucirepo\n",
    "import pandas as pd\n",
    "from sklearn.model_selection import train_test_split\n",
    "from imblearn.over_sampling import SMOTE\n",
    "from collections import Counter\n",
    "from sklearn.preprocessing import StandardScaler\n",
    "\n",
    "\n",
    "# Fetch dataset\n",
    "cdc_diabetes_health_indicators = fetch_ucirepo(id=891)\n",
    "X = cdc_diabetes_health_indicators.data.features\n",
    "y = cdc_diabetes_health_indicators.data.targets\n",
    "\n",
    "# Combine dataframes\n",
    "df = pd.concat([X, y], axis=1)\n",
    "\n",
    "# Apply ordinal mapping to GenHlth and Education (as justified previously)\n",
    "genhlth_mapping = {1: 1, 2: 2, 3: 3, 4: 4, 5: 5}\n",
    "df['GenHlth'] = df['GenHlth'].map(genhlth_mapping)\n",
    "\n",
    "education_mapping = {1: 1, 2: 2, 3: 3, 4: 4, 5: 5, 6: 6}\n",
    "df['Education'] = df['Education'].map(education_mapping)\n",
    "\n",
    "# Create BMI categories (as in previous steps)\n",
    "bmi_bins = [0, 18.5, 25, 30, float('inf')]\n",
    "bmi_labels = ['Underweight', 'Normal', 'Overweight', 'Obese']\n",
    "df['BMI_category'] = pd.cut(df['BMI'], bins=bmi_bins, labels=bmi_labels, right=False)\n",
    "\n",
    "# Create TotalHealthDays feature (as in previous steps)\n",
    "df['TotalHealthDays'] = df['PhysHlth'] + df['MentHlth']\n",
    "\n",
    "# Define features (X) and target (y) from the corrected df\n",
    "# Drop original BMI, PhysHlth, MentHlth as they are now represented by BMI_category and TotalHealthDays\n",
    "X = df.drop(['Diabetes_binary', 'BMI', 'PhysHlth', 'MentHlth'], axis=1)\n",
    "y = df['Diabetes_binary']\n",
    "\n",
    "# Split the dataset into training and testing sets with stratification\n",
    "X_train, X_test, y_train, y_test = train_test_split(X, y, test_size=0.2, stratify=y, random_state=42)\n",
    "\n",
    "# Identify non-numerical columns in X_train for one-hot encoding (BMI_category is the only one now)\n",
    "non_numerical_cols = X_train.select_dtypes(exclude=['number']).columns\n",
    "\n",
    "# Apply one-hot encoding to non-numerical columns in X_train and X_test\n",
    "X_train_encoded = pd.get_dummies(X_train, columns=non_numerical_cols, drop_first=True)\n",
    "X_test_encoded = pd.get_dummies(X_test, columns=non_numerical_cols, drop_first=True)\n",
    "\n",
    "# Align columns after one-hot encoding - crucial to prevent errors during scaling and prediction\n",
    "train_cols = X_train_encoded.columns\n",
    "X_test_encoded = X_test_encoded.reindex(columns=train_cols, fill_value=0)\n",
    "\n",
    "\n",
    "# Apply SMOTE to the training data\n",
    "print(\"Class distribution before SMOTE:\", Counter(y_train))\n",
    "smote = SMOTE(random_state=42)\n",
    "X_train_resampled, y_train_resampled = smote.fit_resample(X_train_encoded, y_train)\n",
    "print(\"Class distribution after SMOTE:\", Counter(y_train_resampled))\n",
    "\n",
    "\n",
    "# Identify numerical columns after one-hot encoding\n",
    "numerical_cols_after_encoding = X_train_resampled.select_dtypes(include=['number']).columns\n",
    "\n",
    "# Initialize the StandardScaler\n",
    "scaler = StandardScaler()\n",
    "\n",
    "# Fit the scaler only on the numerical columns of the resampled training data and transform it\n",
    "X_train_resampled_numerical = X_train_resampled[numerical_cols_after_encoding]\n",
    "X_train_scaled_numerical = scaler.fit_transform(X_train_resampled_numerical)\n",
    "X_train_scaled_numerical_df = pd.DataFrame(X_train_scaled_numerical, columns=numerical_cols_after_encoding, index=X_train_resampled_numerical.index)\n",
    "\n",
    "# Transform the numerical columns of the testing data using the *same* scaler fitted on the training data\n",
    "X_test_numerical = X_test_encoded[numerical_cols_after_encoding]\n",
    "X_test_scaled_numerical = scaler.transform(X_test_numerical)\n",
    "X_test_scaled_numerical_df = pd.DataFrame(X_test_scaled_numerical, columns=numerical_cols_after_encoding, index=X_test_numerical.index)\n",
    "\n",
    "\n",
    "# Combine the scaled numerical features with the one-hot encoded features for the training set\n",
    "# Identify the one-hot encoded columns (these are the columns in X_train_resampled that are not numerical)\n",
    "one_hot_cols_resampled = X_train_resampled.columns.difference(numerical_cols_after_encoding)\n",
    "X_train_scaled = pd.concat([X_train_scaled_numerical_df.reset_index(drop=True), X_train_resampled[one_hot_cols_resampled].reset_index(drop=True)], axis=1)\n",
    "\n",
    "# Combine the scaled numerical features with the one-hot encoded features for the testing set\n",
    "# Identify the one-hot encoded columns in the test set (these should match the training set after reindexing)\n",
    "one_hot_cols_test = X_test_encoded.columns.difference(numerical_cols_after_encoding)\n",
    "X_test_scaled = pd.concat([X_test_scaled_numerical_df.reset_index(drop=True), X_test_encoded[one_hot_cols_test].reset_index(drop=True)], axis=1)\n",
    "\n",
    "\n",
    "# Initialize the models\n",
    "rf_model = RandomForestClassifier(random_state=42)\n",
    "gb_model = GradientBoostingClassifier(random_state=42)\n",
    "knn_model = KNeighborsClassifier(n_neighbors=5)\n",
    "\n",
    "# Train the models and track with MLflow\n",
    "\n",
    "# Random Forest\n",
    "with mlflow.start_run(run_name=\"Random Forest Model Training\"):\n",
    "    # Log parameters\n",
    "    mlflow.log_param(\"random_state\", 42)\n",
    "    # Add other relevant hyperparameters if tuned later\n",
    "\n",
    "    rf_model.fit(X_train_scaled, y_train_resampled)\n",
    "\n",
    "    print(f\"MLflow Run ID for Random Forest: {mlflow.active_run().info.run_id}\")\n",
    "\n",
    "\n",
    "# Gradient Boosting\n",
    "with mlflow.start_run(run_name=\"Gradient Boosting Model Training\"):\n",
    "    # Log parameters\n",
    "    mlflow.log_param(\"random_state\", 42)\n",
    "    # Add other relevant hyperparameters if tuned later\n",
    "\n",
    "    gb_model.fit(X_train_scaled, y_train_resampled)\n",
    "\n",
    "    print(f\"MLflow Run ID for Gradient Boosting: {mlflow.active_run().info.run_id}\")\n",
    "\n",
    "\n",
    "# k-Nearest Neighbors\n",
    "with mlflow.start_run(run_name=\"k-Nearest Neighbors Model Training\"):\n",
    "    # Log parameters\n",
    "    mlflow.log_param(\"n_neighbors\", 5)\n",
    "    # Add other relevant hyperparameters if tuned later\n",
    "\n",
    "    knn_model.fit(X_train_scaled, y_train_resampled)\n",
    "\n",
    "    print(f\"MLflow Run ID for k-Nearest Neighbors: {mlflow.active_run().info.run_id}\")\n",
    "\n",
    "print(\"\\nRandom Forest model trained.\")\n",
    "print(\"Gradient Boosting model trained.\")\n",
    "print(\"k-Nearest Neighbors model trained.\")\n",
    "print(\"MLflow tracking initiated for each model.\")"
   ]
  },
  {
   "cell_type": "markdown",
   "metadata": {
    "id": "1b2a3964"
   },
   "source": [
    "**Reasoning**:\n",
    "The Random Forest, Gradient Boosting, and k-Nearest Neighbors models have been trained and MLflow runs have been initiated and parameters logged for each. The next step according to the overall task is to make predictions using these trained models on the preprocessed testing data.\n",
    "\n"
   ]
  },
  {
   "cell_type": "code",
   "execution_count": null,
   "metadata": {
    "colab": {
     "base_uri": "https://localhost:8080/"
    },
    "id": "d2951f64",
    "outputId": "385a296c-fff6-45df-a891-e41cde7efe03"
   },
   "outputs": [],
   "source": [
    "# Make predictions on the testing data\n",
    "rf_pred = rf_model.predict(X_test_scaled)\n",
    "gb_pred = gb_model.predict(X_test_scaled)\n",
    "knn_pred = knn_model.predict(X_test_scaled)\n",
    "\n",
    "print(\"Predictions made for Random Forest, Gradient Boosting, and k-Nearest Neighbors models on the testing data.\")"
   ]
  },
  {
   "cell_type": "markdown",
   "metadata": {
    "id": "27d725a7"
   },
   "source": [
    "**Reasoning**:\n",
    "Predictions have been made for the new models. The next step is to evaluate the performance of these models on the test set and log the metrics using MLflow. I will calculate accuracy, precision, recall, F1-score, and AUC for each model's predictions and log these metrics within their respective MLflow runs.\n",
    "\n"
   ]
  },
  {
   "cell_type": "code",
   "execution_count": null,
   "metadata": {
    "colab": {
     "base_uri": "https://localhost:8080/"
    },
    "id": "30020878",
    "outputId": "bba6a60d-036f-40d9-d14a-8d3be6dfdd6d"
   },
   "outputs": [],
   "source": [
    "from sklearn.metrics import accuracy_score, precision_score, recall_score, f1_score, roc_auc_score\n",
    "\n",
    "# Calculate and log metrics for Random Forest within its run\n",
    "with mlflow.start_run(run_name=\"Random Forest Model Training\", nested=True) as run: # Use nested=True\n",
    "    rf_accuracy = accuracy_score(y_test, rf_pred)\n",
    "    rf_precision = precision_score(y_test, rf_pred)\n",
    "    rf_recall = recall_score(y_test, rf_pred)\n",
    "    rf_f1 = f1_score(y_test, rf_pred)\n",
    "    rf_auc = roc_auc_score(y_test, rf_pred)\n",
    "\n",
    "    mlflow.log_metric(\"accuracy\", rf_accuracy)\n",
    "    mlflow.log_metric(\"precision\", rf_precision)\n",
    "    mlflow.log_metric(\"recall\", rf_recall)\n",
    "    mlflow.log_metric(\"f1_score\", rf_f1)\n",
    "    mlflow.log_metric(\"auc\", rf_auc)\n",
    "\n",
    "    print(f\"Logged metrics for Random Forest in run: {run.info.run_id}\")\n",
    "\n",
    "\n",
    "# Calculate and log metrics for Gradient Boosting within its run\n",
    "with mlflow.start_run(run_name=\"Gradient Boosting Model Training\", nested=True) as run: # Use nested=True\n",
    "    gb_accuracy = accuracy_score(y_test, gb_pred)\n",
    "    gb_precision = precision_score(y_test, gb_pred)\n",
    "    gb_recall = recall_score(y_test, gb_pred)\n",
    "    gb_f1 = f1_score(y_test, gb_pred)\n",
    "    gb_auc = roc_auc_score(y_test, gb_pred)\n",
    "\n",
    "    mlflow.log_metric(\"accuracy\", gb_accuracy)\n",
    "    mlflow.log_metric(\"precision\", gb_precision)\n",
    "    mlflow.log_metric(\"recall\", gb_recall)\n",
    "    mlflow.log_metric(\"f1_score\", gb_f1)\n",
    "    mlflow.log_metric(\"auc\", gb_auc)\n",
    "\n",
    "    print(f\"Logged metrics for Gradient Boosting in run: {run.info.run_id}\")\n",
    "\n",
    "\n",
    "# Calculate and log metrics for k-Nearest Neighbors within its run\n",
    "with mlflow.start_run(run_name=\"k-Nearest Neighbors Model Training\", nested=True) as run: # Use nested=True\n",
    "    knn_accuracy = accuracy_score(y_test, knn_pred)\n",
    "    knn_precision = precision_score(y_test, knn_pred)\n",
    "    knn_recall = recall_score(y_test, knn_pred)\n",
    "    knn_f1 = f1_score(y_test, knn_pred)\n",
    "    knn_auc = roc_auc_score(y_test, knn_pred)\n",
    "\n",
    "    mlflow.log_metric(\"accuracy\", knn_accuracy)\n",
    "    mlflow.log_metric(\"precision\", knn_precision)\n",
    "    mlflow.log_metric(\"recall\", knn_recall)\n",
    "    mlflow.log_metric(\"f1_score\", knn_f1)\n",
    "    mlflow.log_metric(\"auc\", knn_auc)\n",
    "\n",
    "    print(f\"Logged metrics for k-Nearest Neighbors in run: {run.info.run_id}\")\n",
    "\n",
    "print(\"\\nClassification metrics calculated and logged for Random Forest, Gradient Boosting, and k-Nearest Neighbors models.\")"
   ]
  },
  {
   "cell_type": "markdown",
   "metadata": {
    "id": "29c23ea6"
   },
   "source": [
    "## Update results table\n",
    "\n",
    "### Subtask:\n",
    "Update the existing `metrics_df` DataFrame with the calculated metrics for the newly trained classifiers (Random Forest, Gradient Boosting, k-Nearest Neighbors).\n"
   ]
  },
  {
   "cell_type": "markdown",
   "metadata": {
    "id": "b6682e43"
   },
   "source": [
    "**Reasoning**:\n",
    "Update the existing metrics_df DataFrame with the calculated metrics for the newly trained classifiers by creating dictionaries for each model's metrics and appending them to the DataFrame.\n",
    "\n"
   ]
  },
  {
   "cell_type": "code",
   "execution_count": null,
   "metadata": {
    "colab": {
     "base_uri": "https://localhost:8080/",
     "height": 237
    },
    "id": "794277d4",
    "outputId": "a78df25f-07fc-4dab-a807-f0845e556dad"
   },
   "outputs": [],
   "source": [
    "# Create dictionaries for the new models' metrics\n",
    "rf_metrics = {\n",
    "    'Accuracy': rf_accuracy,\n",
    "    'Precision': rf_precision,\n",
    "    'Recall': rf_recall,\n",
    "    'F1-score': rf_f1,\n",
    "    'AUC': rf_auc\n",
    "}\n",
    "\n",
    "gb_metrics = {\n",
    "    'Accuracy': gb_accuracy,\n",
    "    'Precision': gb_precision,\n",
    "    'Recall': gb_recall,\n",
    "    'F1-score': gb_f1,\n",
    "    'AUC': gb_auc\n",
    "}\n",
    "\n",
    "knn_metrics = {\n",
    "    'Accuracy': knn_accuracy,\n",
    "    'Precision': knn_precision,\n",
    "    'Recall': knn_recall,\n",
    "    'F1-score': knn_f1,\n",
    "    'AUC': knn_auc\n",
    "}\n",
    "\n",
    "# Append the new metrics to the metrics_df DataFrame\n",
    "# Use concat to add new rows to the existing DataFrame\n",
    "new_metrics_df = pd.DataFrame([rf_metrics, gb_metrics, knn_metrics], index=['Random Forest', 'Gradient Boosting', 'k-Nearest Neighbors'])\n",
    "metrics_df = pd.concat([metrics_df, new_metrics_df])\n",
    "\n",
    "# Display the updated metrics table\n",
    "display(metrics_df)"
   ]
  },
  {
   "cell_type": "markdown",
   "metadata": {
    "id": "72471406"
   },
   "source": [
    "**Reasoning**:\n",
    "The previous code failed because `metrics_df` was not defined in the current execution context. I need to regenerate the code block that creates the initial `metrics_df` with the metrics for the first three models (Naive Bayes, Decision Tree, Logistic Regression) and then append the new metrics for the Random Forest, Gradient Boosting, and k-Nearest Neighbors models to this newly created DataFrame. I will also need the metrics for the first three models, which were calculated in a previous step.\n",
    "\n"
   ]
  },
  {
   "cell_type": "code",
   "execution_count": null,
   "metadata": {
    "colab": {
     "base_uri": "https://localhost:8080/",
     "height": 237
    },
    "id": "Gf0iIDbVDHR4",
    "outputId": "267a1c18-e5b5-4034-cecf-bcd1b322ac3a"
   },
   "outputs": [],
   "source": [
    "# Calculate metrics for Naive Bayes (if not already calculated and available)\n",
    "# Assuming nb_accuracy, nb_precision, nb_recall, nb_f1, nb_auc are available from previous steps\n",
    "\n",
    "# Calculate metrics for Decision Tree (if not already calculated and available)\n",
    "# Assuming dt_accuracy, dt_precision, dt_recall, dt_f1, dt_auc are available from previous steps\n",
    "\n",
    "# Calculate metrics for Logistic Regression (if not already calculated and available)\n",
    "# Assuming lr_accuracy, lr_precision, lr_recall, lr_f1, lr_auc are available from previous steps\n",
    "\n",
    "\n",
    "# Store metrics for the initial models in a dictionary\n",
    "metrics_results_initial = {\n",
    "    'Naive Bayes': {\n",
    "        'Accuracy': nb_accuracy,\n",
    "        'Precision': nb_precision,\n",
    "        'Recall': nb_recall,\n",
    "        'F1-score': nb_f1,\n",
    "        'AUC': nb_auc\n",
    "    },\n",
    "    'Decision Tree': {\n",
    "        'Accuracy': dt_accuracy,\n",
    "        'Precision': dt_precision,\n",
    "        'Recall': dt_recall,\n",
    "        'F1-score': dt_f1,\n",
    "        'AUC': dt_auc\n",
    "    },\n",
    "    'Logistic Regression': {\n",
    "        'Accuracy': lr_accuracy,\n",
    "        'Precision': lr_precision,\n",
    "        'Recall': lr_recall,\n",
    "        'F1-score': lr_f1,\n",
    "        'AUC': lr_auc\n",
    "    }\n",
    "}\n",
    "\n",
    "# Create the initial pandas DataFrame from the metrics results\n",
    "metrics_df = pd.DataFrame(metrics_results_initial).T\n",
    "\n",
    "# Create dictionaries for the new models' metrics\n",
    "# Assuming rf_accuracy, rf_precision, rf_recall, rf_f1, rf_auc are available\n",
    "rf_metrics = {\n",
    "    'Accuracy': rf_accuracy,\n",
    "    'Precision': rf_precision,\n",
    "    'Recall': rf_recall,\n",
    "    'F1-score': rf_f1,\n",
    "    'AUC': rf_auc\n",
    "}\n",
    "\n",
    "# Assuming gb_accuracy, gb_precision, gb_recall, gb_f1, gb_auc are available\n",
    "gb_metrics = {\n",
    "    'Accuracy': gb_accuracy,\n",
    "    'Precision': gb_precision,\n",
    "    'Recall': gb_recall,\n",
    "    'F1-score': gb_f1,\n",
    "    'AUC': gb_auc\n",
    "}\n",
    "\n",
    "# Assuming knn_accuracy, knn_precision, knn_recall, knn_f1, knn_auc are available\n",
    "knn_metrics = {\n",
    "    'Accuracy': knn_accuracy,\n",
    "    'Precision': knn_precision,\n",
    "    'Recall': knn_recall,\n",
    "    'F1-score': knn_f1,\n",
    "    'AUC': knn_auc\n",
    "}\n",
    "\n",
    "# Append the new metrics to the metrics_df DataFrame\n",
    "new_metrics_df = pd.DataFrame([rf_metrics, gb_metrics, knn_metrics], index=['Random Forest', 'Gradient Boosting', 'k-Nearest Neighbors'])\n",
    "metrics_df = pd.concat([metrics_df, new_metrics_df])\n",
    "\n",
    "# Display the updated metrics table\n",
    "display(metrics_df)"
   ]
  },
  {
   "cell_type": "markdown",
   "metadata": {
    "id": "56666173"
   },
   "source": [
    "**Reasoning**:\n",
    "The previous code failed because the metrics for the initial models (Naive Bayes, Decision Tree, Logistic Regression) were not defined. I need to regenerate the code block that calculates these metrics after making predictions on the test data and then use these defined variables to create the initial `metrics_df` and append the metrics for the new models.\n",
    "\n"
   ]
  },
  {
   "cell_type": "code",
   "execution_count": null,
   "metadata": {
    "colab": {
     "base_uri": "https://localhost:8080/",
     "height": 237
    },
    "id": "Y8HmVawSDKKO",
    "outputId": "76f9de09-48b6-4f31-fb57-a675ddf0678a"
   },
   "outputs": [],
   "source": [
    "from sklearn.metrics import accuracy_score, precision_score, recall_score, f1_score, roc_auc_score\n",
    "import pandas as pd\n",
    "\n",
    "# Make predictions on the testing data (assuming nb_model, dt_model, lr_model, rf_model, gb_model, knn_model are defined and X_test_scaled is available)\n",
    "nb_pred = nb_model.predict(X_test_scaled)\n",
    "dt_pred = dt_model.predict(X_test_scaled)\n",
    "lr_pred = lr_model.predict(X_test_scaled)\n",
    "rf_pred = rf_model.predict(X_test_scaled)\n",
    "gb_pred = gb_model.predict(X_test_scaled)\n",
    "knn_pred = knn_model.predict(X_test_scaled)\n",
    "\n",
    "# Calculate metrics for Naive Bayes\n",
    "nb_accuracy = accuracy_score(y_test, nb_pred)\n",
    "nb_precision = precision_score(y_test, nb_pred)\n",
    "nb_recall = recall_score(y_test, nb_pred)\n",
    "nb_f1 = f1_score(y_test, nb_pred)\n",
    "nb_auc = roc_auc_score(y_test, nb_pred)\n",
    "\n",
    "# Calculate metrics for Decision Tree\n",
    "dt_accuracy = accuracy_score(y_test, dt_pred)\n",
    "dt_precision = precision_score(y_test, dt_pred)\n",
    "dt_recall = recall_score(y_test, dt_pred)\n",
    "dt_f1 = f1_score(y_test, dt_pred)\n",
    "dt_auc = roc_auc_score(y_test, dt_pred)\n",
    "\n",
    "# Calculate metrics for Logistic Regression\n",
    "lr_accuracy = accuracy_score(y_test, lr_pred)\n",
    "lr_precision = precision_score(y_test, lr_pred)\n",
    "lr_recall = recall_score(y_test, lr_pred)\n",
    "lr_f1 = f1_score(y_test, lr_pred)\n",
    "lr_auc = roc_auc_score(y_test, lr_pred)\n",
    "\n",
    "# Store metrics for the initial models in a dictionary\n",
    "metrics_results_initial = {\n",
    "    'Naive Bayes': {\n",
    "        'Accuracy': nb_accuracy,\n",
    "        'Precision': nb_precision,\n",
    "        'Recall': nb_recall,\n",
    "        'F1-score': nb_f1,\n",
    "        'AUC': nb_auc\n",
    "    },\n",
    "    'Decision Tree': {\n",
    "        'Accuracy': dt_accuracy,\n",
    "        'Precision': dt_precision,\n",
    "        'Recall': dt_recall,\n",
    "        'F1-score': dt_f1,\n",
    "        'AUC': dt_auc\n",
    "    },\n",
    "    'Logistic Regression': {\n",
    "        'Accuracy': lr_accuracy,\n",
    "        'Precision': lr_precision,\n",
    "        'Recall': lr_recall,\n",
    "        'F1-score': lr_f1,\n",
    "        'AUC': lr_auc\n",
    "    }\n",
    "}\n",
    "\n",
    "# Create the initial pandas DataFrame from the metrics results\n",
    "metrics_df = pd.DataFrame(metrics_results_initial).T\n",
    "\n",
    "# Calculate metrics for Random Forest\n",
    "rf_accuracy = accuracy_score(y_test, rf_pred)\n",
    "rf_precision = precision_score(y_test, rf_pred)\n",
    "rf_recall = recall_score(y_test, rf_pred)\n",
    "rf_f1 = f1_score(y_test, rf_pred)\n",
    "rf_auc = roc_auc_score(y_test, rf_pred)\n",
    "\n",
    "# Calculate metrics for Gradient Boosting\n",
    "gb_accuracy = accuracy_score(y_test, gb_pred)\n",
    "gb_precision = precision_score(y_test, gb_pred)\n",
    "gb_recall = recall_score(y_test, gb_pred)\n",
    "gb_f1 = f1_score(y_test, gb_pred)\n",
    "gb_auc = roc_auc_score(y_test, gb_pred)\n",
    "\n",
    "# Calculate metrics for k-Nearest Neighbors\n",
    "knn_accuracy = accuracy_score(y_test, knn_pred)\n",
    "knn_precision = precision_score(y_test, knn_pred)\n",
    "knn_recall = recall_score(y_test, knn_pred)\n",
    "knn_f1 = f1_score(y_test, knn_pred)\n",
    "knn_auc = roc_auc_score(y_test, knn_pred)\n",
    "\n",
    "\n",
    "# Create dictionaries for the new models' metrics\n",
    "rf_metrics = {\n",
    "    'Accuracy': rf_accuracy,\n",
    "    'Precision': rf_precision,\n",
    "    'Recall': rf_recall,\n",
    "    'F1-score': rf_f1,\n",
    "    'AUC': rf_auc\n",
    "}\n",
    "\n",
    "gb_metrics = {\n",
    "    'Accuracy': gb_accuracy,\n",
    "    'Precision': gb_precision,\n",
    "    'Recall': gb_recall,\n",
    "    'F1-score': gb_f1,\n",
    "    'AUC': gb_auc\n",
    "}\n",
    "\n",
    "knn_metrics = {\n",
    "    'Accuracy': knn_accuracy,\n",
    "    'Precision': knn_precision,\n",
    "    'Recall': knn_recall,\n",
    "    'F1-score': knn_f1,\n",
    "    'AUC': knn_auc\n",
    "}\n",
    "\n",
    "# Append the new metrics to the metrics_df DataFrame\n",
    "new_metrics_df = pd.DataFrame([rf_metrics, gb_metrics, knn_metrics], index=['Random Forest', 'Gradient Boosting', 'k-Nearest Neighbors'])\n",
    "metrics_df = pd.concat([metrics_df, new_metrics_df])\n",
    "\n",
    "# Display the updated metrics table\n",
    "display(metrics_df)"
   ]
  },
  {
   "cell_type": "markdown",
   "metadata": {
    "id": "2cef25c5"
   },
   "source": [
    "**Reasoning**:\n",
    "The previous code failed because the model objects (`nb_model`, `dt_model`, `lr_model`, `rf_model`, `gb_model`, `knn_model`) were not defined in the current execution context. I need to regenerate the code block that initializes and trains these models, along with all the necessary preprocessing steps (data loading, feature engineering, splitting, SMOTE, scaling), to ensure the model objects and preprocessed data are available before making predictions and calculating metrics. I will then combine the code for model training, prediction, and metric calculation and table creation into a single block.\n",
    "\n"
   ]
  },
  {
   "cell_type": "markdown",
   "metadata": {
    "id": "4d6d0d29"
   },
   "source": [
    "## Summary:\n",
    "\n",
    "### Data Analysis Key Findings\n",
    "\n",
    "*   Three additional classification algorithms were selected for evaluation: Random Forest, Gradient Boosting, and k-Nearest Neighbors, justified by their suitability for handling mixed feature types and capturing complex data patterns.\n",
    "*   Necessary libraries for these models (`RandomForestClassifier`, `GradientBoostingClassifier`, `KNeighborsClassifier`) and MLflow were successfully imported.\n",
    "*   The complete data preprocessing pipeline, including feature engineering, splitting, SMOTE for handling class imbalance, and feature scaling, was successfully executed.\n",
    "*   All six classification models (Naive Bayes, Decision Tree, Logistic Regression, Random Forest, Gradient Boosting, and k-Nearest Neighbors) were successfully initialized and trained on the preprocessed, resampled, and scaled training data.\n",
    "*   MLflow tracking was successfully initiated for each model during training, logging parameters and creating unique run IDs.\n",
    "*   Predictions were successfully made on the scaled test data for all six models.\n",
    "*   Classification metrics (Accuracy, Precision, Recall, F1-score, and AUC) were calculated for each model based on the test set predictions.\n",
    "*   The calculated metrics for the newly trained models (Random Forest, Gradient Boosting, k-Nearest Neighbors) were successfully appended to the existing `metrics_df` DataFrame, creating a comprehensive table of all six models' performance.\n",
    "*   The combined metrics table was successfully displayed, showing the performance comparison across all evaluated models.\n",
    "*   Analysis of the metrics revealed that different models excel in different areas: Random Forest had the highest Accuracy (0.7800) and Precision (0.3083), while Naive Bayes had the highest Recall (0.8127), and Gradient Boosting achieved the highest F1-score (0.4203) and AUC (0.7238).\n",
    "*   Considering the importance of minimizing false negatives in diabetes prediction, Naive Bayes and Gradient Boosting showed strong performance in Recall.\n",
    "\n",
    "### Insights or Next Steps\n",
    "\n",
    "*   While Random Forest shows good overall accuracy and precision, models with higher Recall (like Naive Bayes and Gradient Boosting) might be preferred for this medical application to minimize missing actual diabetes cases. Further investigation into the trade-off between Precision and Recall based on the specific costs of false positives versus false negatives is warranted.\n",
    "*   Hyperparameter tuning for the top-performing models (especially Gradient Boosting and potentially Random Forest and Logistic Regression) using techniques like cross-validation could further improve their performance on the test set and potentially lead to a better balance across metrics. MLflow can be used to track these tuning experiments.\n"
   ]
  },
  {
   "cell_type": "code",
   "execution_count": null,
   "metadata": {
    "colab": {
     "base_uri": "https://localhost:8080/",
     "height": 564
    },
    "id": "1b429011",
    "outputId": "c45787fb-9d6b-4757-aa55-0cd7c6047169"
   },
   "outputs": [],
   "source": [
    "from sklearn.metrics import confusion_matrix\n",
    "import seaborn as sns\n",
    "import matplotlib.pyplot as plt\n",
    "\n",
    "# Generate the confusion matrix for Logistic Regression\n",
    "cm = confusion_matrix(y_test, lr_pred)\n",
    "\n",
    "# Display the confusion matrix using a heatmap\n",
    "plt.figure(figsize=(8, 6))\n",
    "sns.heatmap(cm, annot=True, fmt='d', cmap='Blues', cbar=False,\n",
    "            xticklabels=['Predicted Negative', 'Predicted Positive'],\n",
    "            yticklabels=['Actual Negative', 'Actual Positive'])\n",
    "plt.xlabel('Predicted Label')\n",
    "plt.ylabel('Actual Label')\n",
    "plt.title('Confusion Matrix for Logistic Regression Model')\n",
    "plt.show()"
   ]
  },
  {
   "cell_type": "markdown",
   "metadata": {
    "id": "f37b6923"
   },
   "source": [
    "# Task\n",
    "Tune the hyperparameters of Gradient Boosting, Logistic Regression, and Random Forest models using Grid Search or Random Search with cross-validation on the training data. Evaluate the performance of the best tuned models on the test data and update the results table with the tuned model metrics."
   ]
  },
  {
   "cell_type": "markdown",
   "metadata": {
    "id": "e1591c04"
   },
   "source": [
    "## Import necessary tuning libraries\n",
    "\n",
    "### Subtask:\n",
    "Import the required modules for hyperparameter tuning (e.g., `GridSearchCV`, `RandomizedSearchCV`) and cross-validation (`StratifiedKFold`).\n"
   ]
  },
  {
   "cell_type": "markdown",
   "metadata": {
    "id": "7b675f2d"
   },
   "source": [
    "**Reasoning**:\n",
    "Import the necessary modules for hyperparameter tuning and cross-validation.\n",
    "\n"
   ]
  },
  {
   "cell_type": "code",
   "execution_count": null,
   "metadata": {
    "id": "7068367d"
   },
   "outputs": [],
   "source": [
    "from sklearn.model_selection import GridSearchCV, RandomizedSearchCV, StratifiedKFold"
   ]
  },
  {
   "cell_type": "markdown",
   "metadata": {
    "id": "36ea8a11"
   },
   "source": [
    "## Define parameter grids/distributions\n",
    "\n",
    "### Subtask:\n",
    "Define the hyperparameter grids or distributions to explore for each of the three algorithms (Gradient Boosting, Logistic Regression, Random Forest).\n"
   ]
  },
  {
   "cell_type": "markdown",
   "metadata": {
    "id": "21eb3916"
   },
   "source": [
    "**Reasoning**:\n",
    "Define the hyperparameter grids for Gradient Boosting, Logistic Regression, and Random Forest models as specified in the instructions.\n",
    "\n"
   ]
  },
  {
   "cell_type": "code",
   "execution_count": null,
   "metadata": {
    "colab": {
     "base_uri": "https://localhost:8080/"
    },
    "id": "529badfa",
    "outputId": "0c19a013-cf41-46cc-a057-90efe643a420"
   },
   "outputs": [],
   "source": [
    "# Define hyperparameter grid for Gradient Boosting\n",
    "param_grid_gb = {\n",
    "    'n_estimators': [100, 200],\n",
    "    'learning_rate': [0.01, 0.1],\n",
    "    'max_depth': [3, 4]\n",
    "}\n",
    "\n",
    "# Define hyperparameter grid for Logistic Regression\n",
    "param_grid_lr = {\n",
    "    'C': [0.1, 1.0, 10.0],\n",
    "    'penalty': ['l2'] # 'l1', 'elasticnet', 'none' would require different solvers\n",
    "}\n",
    "\n",
    "# Define hyperparameter grid for Random Forest\n",
    "param_grid_rf = {\n",
    "    'n_estimators': [100, 200],\n",
    "    'max_depth': [10, 20]\n",
    "}\n",
    "\n",
    "print(\"Hyperparameter grids defined for Gradient Boosting, Logistic Regression, and Random Forest.\")"
   ]
  },
  {
   "cell_type": "markdown",
   "metadata": {
    "id": "21f12a99"
   },
   "source": [
    "## Perform hyperparameter tuning for gradient boosting\n",
    "\n",
    "### Subtask:\n",
    "Set up and run Grid Search or Random Search with cross-validation on the Gradient Boosting model using the defined parameter space.\n"
   ]
  },
  {
   "cell_type": "markdown",
   "metadata": {
    "id": "01dbb4de"
   },
   "source": [
    "**Reasoning**:\n",
    "Set up and run Grid Search with cross-validation on the Gradient Boosting model using the defined parameter space and print the best parameters and score.\n",
    "\n"
   ]
  },
  {
   "cell_type": "code",
   "execution_count": null,
   "metadata": {
    "colab": {
     "base_uri": "https://localhost:8080/"
    },
    "id": "41650b69",
    "outputId": "60cf165a-061a-49a5-bb95-2c4dea208371"
   },
   "outputs": [],
   "source": [
    "# Define StratifiedKFold for cross-validation\n",
    "cv = StratifiedKFold(n_splits=5, shuffle=True, random_state=42)\n",
    "\n",
    "# Initialize Gradient Boosting Classifier\n",
    "gb_model = GradientBoostingClassifier(random_state=42)\n",
    "\n",
    "# Set up GridSearchCV\n",
    "grid_search_gb = GridSearchCV(estimator=gb_model, param_grid=param_grid_gb, cv=cv, scoring='recall', n_jobs=-1)\n",
    "\n",
    "# Fit GridSearchCV to the resampled training data\n",
    "grid_search_gb.fit(X_train_scaled, y_train_resampled)\n",
    "\n",
    "# Print the best parameters and best score\n",
    "print(\"Best parameters for Gradient Boosting:\", grid_search_gb.best_params_)\n",
    "print(\"Best cross-validation score (recall) for Gradient Boosting:\", grid_search_gb.best_score_)"
   ]
  },
  {
   "cell_type": "markdown",
   "metadata": {
    "id": "07bd991a"
   },
   "source": [
    "**Reasoning**:\n",
    "The Grid Search for the Gradient Boosting model is complete. The next step is to set up and run Grid Search with cross-validation for the Logistic Regression model using its defined parameter space.\n",
    "\n"
   ]
  },
  {
   "cell_type": "code",
   "execution_count": null,
   "metadata": {
    "colab": {
     "base_uri": "https://localhost:8080/"
    },
    "id": "ce3711c6",
    "outputId": "0655f2ca-f509-4e19-9bc5-b2edaa758cdc"
   },
   "outputs": [],
   "source": [
    "# Initialize Logistic Regression model\n",
    "lr_model = LogisticRegression(max_iter=1000, random_state=42)\n",
    "\n",
    "# Set up GridSearchCV for Logistic Regression\n",
    "grid_search_lr = GridSearchCV(estimator=lr_model, param_grid=param_grid_lr, cv=cv, scoring='recall', n_jobs=-1)\n",
    "\n",
    "# Fit GridSearchCV to the resampled training data\n",
    "grid_search_lr.fit(X_train_scaled, y_train_resampled)\n",
    "\n",
    "# Print the best parameters and best score\n",
    "print(\"Best parameters for Logistic Regression:\", grid_search_lr.best_params_)\n",
    "print(\"Best cross-validation score (recall) for Logistic Regression:\", grid_search_lr.best_score_)"
   ]
  },
  {
   "cell_type": "markdown",
   "metadata": {
    "id": "b044e7fb"
   },
   "source": [
    "**Reasoning**:\n",
    "The Grid Search for the Logistic Regression model is complete. The next step is to set up and run Grid Search with cross-validation for the Random Forest model using its defined parameter space.\n",
    "\n"
   ]
  },
  {
   "cell_type": "code",
   "execution_count": null,
   "metadata": {
    "colab": {
     "base_uri": "https://localhost:8080/"
    },
    "id": "309d40b7",
    "outputId": "9ae35227-89b2-44e2-bde0-e5dea57c3290"
   },
   "outputs": [],
   "source": [
    "# Initialize Random Forest Classifier\n",
    "rf_model = RandomForestClassifier(random_state=42)\n",
    "\n",
    "# Set up GridSearchCV for Random Forest\n",
    "grid_search_rf = GridSearchCV(estimator=rf_model, param_grid=param_grid_rf, cv=cv, scoring='recall', n_jobs=-1)\n",
    "\n",
    "# Fit GridSearchCV to the resampled training data\n",
    "grid_search_rf.fit(X_train_scaled, y_train_resampled)\n",
    "\n",
    "# Print the best parameters and best score\n",
    "print(\"Best parameters for Random Forest:\", grid_search_rf.best_params_)\n",
    "print(\"Best cross-validation score (recall) for Random Forest:\", grid_search_rf.best_score_)"
   ]
  },
  {
   "cell_type": "markdown",
   "metadata": {
    "id": "f53b4fdd"
   },
   "source": [
    "## Evaluate best gradient boosting model\n",
    "\n",
    "### Subtask:\n",
    "Evaluate the best model found during tuning on the test set and calculate relevant metrics.\n"
   ]
  },
  {
   "cell_type": "markdown",
   "metadata": {
    "id": "d04b212e"
   },
   "source": [
    "**Reasoning**:\n",
    "Evaluate the best Gradient Boosting model on the test set and calculate relevant metrics.\n",
    "\n"
   ]
  },
  {
   "cell_type": "code",
   "execution_count": null,
   "metadata": {
    "colab": {
     "base_uri": "https://localhost:8080/"
    },
    "id": "e26b12db",
    "outputId": "9b7f16bc-f35d-41e5-e58f-11d2acb11c23"
   },
   "outputs": [],
   "source": [
    "from sklearn.metrics import accuracy_score, precision_score, recall_score, f1_score, roc_auc_score\n",
    "\n",
    "# Get the best Gradient Boosting model from the grid search\n",
    "best_gb_model = grid_search_gb.best_estimator_\n",
    "\n",
    "# Make predictions on the preprocessed testing data\n",
    "gb_tuned_pred = best_gb_model.predict(X_test_scaled)\n",
    "\n",
    "# Calculate classification metrics\n",
    "gb_tuned_accuracy = accuracy_score(y_test, gb_tuned_pred)\n",
    "gb_tuned_precision = precision_score(y_test, gb_tuned_pred)\n",
    "gb_tuned_recall = recall_score(y_test, gb_tuned_pred)\n",
    "gb_tuned_f1 = f1_score(y_test, gb_tuned_pred)\n",
    "gb_tuned_auc = roc_auc_score(y_test, gb_tuned_pred)\n",
    "\n",
    "# Print the calculated metrics\n",
    "print(\"Metrics for Tuned Gradient Boosting Model on Test Data:\")\n",
    "print(f\"  Accuracy: {gb_tuned_accuracy:.4f}\")\n",
    "print(f\"  Precision: {gb_tuned_precision:.4f}\")\n",
    "print(f\"  Recall: {gb_tuned_recall:.4f}\")\n",
    "print(f\"  F1-score: {gb_tuned_f1:.4f}\")\n",
    "print(f\"  AUC: {gb_tuned_auc:.4f}\")"
   ]
  },
  {
   "cell_type": "markdown",
   "metadata": {
    "id": "b265c8ad"
   },
   "source": [
    "**Reasoning**:\n",
    "Evaluate the best Logistic Regression model found during tuning on the test set and calculate relevant metrics.\n",
    "\n"
   ]
  },
  {
   "cell_type": "code",
   "execution_count": null,
   "metadata": {
    "colab": {
     "base_uri": "https://localhost:8080/"
    },
    "id": "fd5555c6",
    "outputId": "f75b043e-3750-450b-bee0-f508aa1b8de9"
   },
   "outputs": [],
   "source": [
    "# Get the best Logistic Regression model from the grid search\n",
    "best_lr_model = grid_search_lr.best_estimator_\n",
    "\n",
    "# Make predictions on the preprocessed testing data\n",
    "lr_tuned_pred = best_lr_model.predict(X_test_scaled)\n",
    "\n",
    "# Calculate classification metrics\n",
    "lr_tuned_accuracy = accuracy_score(y_test, lr_tuned_pred)\n",
    "lr_tuned_precision = precision_score(y_test, lr_tuned_pred)\n",
    "lr_tuned_recall = recall_score(y_test, lr_tuned_pred)\n",
    "lr_tuned_f1 = f1_score(y_test, lr_tuned_pred)\n",
    "lr_tuned_auc = roc_auc_score(y_test, lr_tuned_pred)\n",
    "\n",
    "# Print the calculated metrics\n",
    "print(\"\\nMetrics for Tuned Logistic Regression Model on Test Data:\")\n",
    "print(f\"  Accuracy: {lr_tuned_accuracy:.4f}\")\n",
    "print(f\"  Precision: {lr_tuned_precision:.4f}\")\n",
    "print(f\"  Recall: {lr_tuned_recall:.4f}\")\n",
    "print(f\"  F1-score: {lr_tuned_f1:.4f}\")\n",
    "print(f\"  AUC: {lr_tuned_auc:.4f}\")"
   ]
  },
  {
   "cell_type": "markdown",
   "metadata": {
    "id": "5fae63f8"
   },
   "source": [
    "**Reasoning**:\n",
    "Evaluate the best Random Forest model found during tuning on the test set and calculate relevant metrics.\n",
    "\n"
   ]
  },
  {
   "cell_type": "code",
   "execution_count": null,
   "metadata": {
    "colab": {
     "base_uri": "https://localhost:8080/"
    },
    "id": "f5eaca0b",
    "outputId": "84f2ccec-38a6-4908-9533-e8d3e5203469"
   },
   "outputs": [],
   "source": [
    "# Get the best Random Forest model from the grid search\n",
    "best_rf_model = grid_search_rf.best_estimator_\n",
    "\n",
    "# Make predictions on the preprocessed testing data\n",
    "rf_tuned_pred = best_rf_model.predict(X_test_scaled)\n",
    "\n",
    "# Calculate classification metrics\n",
    "rf_tuned_accuracy = accuracy_score(y_test, rf_tuned_pred)\n",
    "rf_tuned_precision = precision_score(y_test, rf_tuned_pred)\n",
    "rf_tuned_recall = recall_score(y_test, rf_tuned_pred)\n",
    "rf_tuned_f1 = f1_score(y_test, rf_tuned_pred)\n",
    "rf_tuned_auc = roc_auc_score(y_test, rf_tuned_pred)\n",
    "\n",
    "# Print the calculated metrics\n",
    "print(\"\\nMetrics for Tuned Random Forest Model on Test Data:\")\n",
    "print(f\"  Accuracy: {rf_tuned_accuracy:.4f}\")\n",
    "print(f\"  Precision: {rf_tuned_precision:.4f}\")\n",
    "print(f\"  Recall: {rf_tuned_recall:.4f}\")\n",
    "print(f\"  F1-score: {rf_tuned_f1:.4f}\")\n",
    "print(f\"  AUC: {rf_tuned_auc:.4f}\")"
   ]
  },
  {
   "cell_type": "markdown",
   "metadata": {
    "id": "f066b03b"
   },
   "source": [
    "**Reasoning**:\n",
    "The evaluation of the best tuned models on the test set is complete. The next step is to update the results table with the metrics of the tuned models.\n",
    "\n"
   ]
  },
  {
   "cell_type": "code",
   "execution_count": null,
   "metadata": {
    "colab": {
     "base_uri": "https://localhost:8080/",
     "height": 368
    },
    "id": "b6dddae6",
    "outputId": "dc3d337f-e422-49a9-b9ff-97d6ea9e9efa"
   },
   "outputs": [],
   "source": [
    "# Create dictionaries for the tuned models' metrics\n",
    "gb_tuned_metrics = {\n",
    "    'Accuracy': gb_tuned_accuracy,\n",
    "    'Precision': gb_tuned_precision,\n",
    "    'Recall': gb_tuned_recall,\n",
    "    'F1-score': gb_tuned_f1,\n",
    "    'AUC': gb_tuned_auc\n",
    "}\n",
    "\n",
    "lr_tuned_metrics = {\n",
    "    'Accuracy': lr_tuned_accuracy,\n",
    "    'Precision': lr_tuned_precision,\n",
    "    'Recall': lr_tuned_recall,\n",
    "    'F1-score': lr_tuned_f1,\n",
    "    'AUC': lr_tuned_auc\n",
    "}\n",
    "\n",
    "rf_tuned_metrics = {\n",
    "    'Accuracy': rf_tuned_accuracy,\n",
    "    'Precision': rf_tuned_precision,\n",
    "    'Recall': rf_tuned_recall,\n",
    "    'F1-score': rf_tuned_f1,\n",
    "    'AUC': rf_tuned_auc\n",
    "}\n",
    "\n",
    "# Create a new DataFrame for the tuned models' metrics\n",
    "tuned_metrics_df = pd.DataFrame([gb_tuned_metrics, lr_tuned_metrics, rf_tuned_metrics],\n",
    "                                 index=['Gradient Boosting (Tuned)', 'Logistic Regression (Tuned)', 'Random Forest (Tuned)'])\n",
    "\n",
    "# Append the tuned metrics to the existing metrics_df\n",
    "metrics_df = pd.concat([metrics_df, tuned_metrics_df])\n",
    "\n",
    "# Display the updated metrics table\n",
    "print(\"\\nUpdated Model Performance Comparison:\")\n",
    "display(metrics_df)"
   ]
  },
  {
   "cell_type": "markdown",
   "metadata": {
    "id": "621ad710"
   },
   "source": [
    "## Display and analyze updated results\n",
    "\n",
    "### Subtask:\n",
    "Display the comprehensive `metrics_df` table and analyze the performance of the tuned models compared to the initial models and each other.\n"
   ]
  },
  {
   "cell_type": "markdown",
   "metadata": {
    "id": "87a64cd2"
   },
   "source": [
    "**Reasoning**:\n",
    "Display the comprehensive metrics_df table and analyze the performance of the tuned models compared to the initial models and each other.\n",
    "\n"
   ]
  },
  {
   "cell_type": "code",
   "execution_count": null,
   "metadata": {
    "colab": {
     "base_uri": "https://localhost:8080/",
     "height": 1000
    },
    "id": "5337cfdb",
    "outputId": "1e3dd27f-423f-4f74-9272-1f03ea6bb538"
   },
   "outputs": [],
   "source": [
    "display(metrics_df)\n",
    "\n",
    "print(\"Analysis of Tuned Model Performance:\")\n",
    "\n",
    "# Compare Tuned vs Initial Models\n",
    "print(\"\\nComparison of Tuned vs Initial Models:\")\n",
    "tuned_models = ['Gradient Boosting (Tuned)', 'Logistic Regression (Tuned)', 'Random Forest (Tuned)']\n",
    "initial_models = ['Gradient Boosting', 'Logistic Regression', 'Random Forest']\n",
    "\n",
    "for tuned_name, initial_name in zip(tuned_models, initial_models):\n",
    "    print(f\"\\n--- {tuned_name} vs {initial_name} ---\")\n",
    "    for metric in metrics_df.columns:\n",
    "        tuned_metric = metrics_df.loc[tuned_name, metric]\n",
    "        initial_metric = metrics_df.loc[initial_name, metric]\n",
    "        change = tuned_metric - initial_metric\n",
    "        print(f\"{metric}: Tuned={tuned_metric:.4f}, Initial={initial_metric:.4f}, Change={change:.4f}\")\n",
    "\n",
    "# Compare Best Tuned Models\n",
    "print(\"\\nComparison of Best Tuned Models:\")\n",
    "tuned_subset = metrics_df.loc[tuned_models]\n",
    "\n",
    "print(\"\\nMetrics for Tuned Models:\")\n",
    "display(tuned_subset)\n",
    "\n",
    "# Identify best tuned model based on different metrics\n",
    "print(\"\\nBest Tuned Model by Metric:\")\n",
    "print(f\"  Best Accuracy: {tuned_subset['Accuracy'].idxmax()} ({tuned_subset['Accuracy'].max():.4f})\")\n",
    "print(f\"  Best Precision: {tuned_subset['Precision'].idxmax()} ({tuned_subset['Precision'].max():.4f})\")\n",
    "print(f\"  Best Recall: {tuned_subset['Recall'].idxmax()} ({tuned_subset['Recall'].max():.4f})\")\n",
    "print(f\"  Best F1-score: {tuned_subset['F1-score'].idxmax()} ({tuned_subset['F1-score'].max():.4f})\")\n",
    "print(f\"  Best AUC: {tuned_subset['AUC'].idxmax()} ({tuned_subset['AUC'].max():.4f})\")\n",
    "\n",
    "print(\"\\nOverall Analysis:\")\n",
    "print(\"Tuning had varying impacts on the models.\")\n",
    "print(\"Gradient Boosting saw a decrease in Recall but slight increases in Accuracy, Precision, F1-score, and AUC after tuning.\")\n",
    "print(\"Logistic Regression showed very minimal changes across most metrics after tuning, suggesting the initial hyperparameters were already quite good or the defined grid was not extensive enough.\")\n",
    "print(\"Random Forest tuning resulted in a decrease in Accuracy, Precision, F1-score, and AUC but a significant increase in Recall, which is important for minimizing false negatives.\")\n",
    "print(\"\\nAmong the tuned models:\")\n",
    "print(\"- Tuned Random Forest has the highest Accuracy and Precision.\")\n",
    "print(\"- Tuned Gradient Boosting has the highest Recall and F1-score.\")\n",
    "print(\"- Tuned Logistic Regression has a competitive AUC, very close to Tuned Gradient Boosting.\")\n",
    "print(\"\\nConsidering the importance of Recall in this medical context, the Tuned Gradient Boosting model appears to offer the best balance of high Recall and reasonable performance across other metrics, slightly outperforming Tuned Logistic Regression in F1-score and AUC, and significantly outperforming Tuned Random Forest in Recall.\")"
   ]
  },
  {
   "cell_type": "markdown",
   "metadata": {
    "id": "4fabd401"
   },
   "source": [
    "## Summary:\n",
    "\n",
    "### Data Analysis Key Findings\n",
    "\n",
    "*   Hyperparameter grids for Gradient Boosting, Logistic Regression, and Random Forest models were successfully defined.\n",
    "*   Grid Search with 5-fold StratifiedKFold cross-validation was performed on the resampled training data for all three models.\n",
    "*   The best parameters found for Gradient Boosting were `{'learning_rate': 0.1, 'max_depth': 4, 'n_estimators': 200}`, resulting in a cross-validation recall score of approximately 0.804.\n",
    "*   The best parameters found for Logistic Regression were `{'C': 0.1, 'penalty': 'l2'}`, with a cross-validation recall score of approximately 0.701.\n",
    "*   The best parameters found for Random Forest were `{'max_depth': 10, 'n_estimators': 100}`, with a cross-validation recall score of approximately 0.600.\n",
    "*   On the test data, the tuned Gradient Boosting model achieved a recall of 0.7080 and an F1-score of 0.4167.\n",
    "*   On the test data, the tuned Logistic Regression model achieved a recall of 0.7011 and an F1-score of 0.4172.\n",
    "*   On the test data, the tuned Random Forest model achieved a recall of 0.5978 and an F1-score of 0.4082.\n",
    "*   Tuning resulted in minimal changes for Logistic Regression, improved Recall for Random Forest (while decreasing other metrics), and mixed results for Gradient Boosting (slight improvements in Accuracy, Precision, F1, AUC, but a decrease in Recall compared to cross-validation score).\n",
    "*   Among the tuned models, Tuned Gradient Boosting and Tuned Logistic Regression show competitive performance in terms of Recall and F1-score on the test set, while Tuned Random Forest has the highest Accuracy and Precision but lower Recall.\n",
    "\n",
    "### Insights or Next Steps\n",
    "\n",
    "*   While tuning slightly adjusted performance, the overall gains on the test set across models were modest. This could suggest that the chosen hyperparameter grids were not expansive enough or that model performance is limited by the current features or data preprocessing.\n",
    "*   Given the similar performance of Tuned Gradient Boosting and Tuned Logistic Regression in terms of Recall and F1-score on the test data, a deeper analysis of their false positive and false negative rates might be beneficial to make a final selection depending on the specific cost associated with each type of error.\n"
   ]
  }
 ],
 "metadata": {
  "colab": {
   "provenance": []
  },
  "kernelspec": {
   "display_name": "Python 3",
   "name": "python3"
  },
  "language_info": {
   "name": "python"
  }
 },
 "nbformat": 4,
 "nbformat_minor": 0
}
