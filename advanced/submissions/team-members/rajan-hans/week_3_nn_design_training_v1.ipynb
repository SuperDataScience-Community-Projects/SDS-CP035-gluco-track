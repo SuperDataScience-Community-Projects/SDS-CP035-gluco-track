{
 "cells": [
  {
   "cell_type": "code",
   "execution_count": 1,
   "id": "383be9fd",
   "metadata": {},
   "outputs": [
    {
     "name": "stdout",
     "output_type": "stream",
     "text": [
      "Loaded FEATURE_NAMES from feature_order.json (len=21)\n",
      "Loaded SCALER_PARAMS from scaler_params.json (len=0)\n",
      "Canonical feature/scale loader complete.\n"
     ]
    }
   ],
   "source": [
    "# Load canonical feature order and scaler params (if present)\n",
    "import os, json\n",
    "\n",
    "FEATURE_NAMES = globals().get(\"FEATURE_NAMES\", None)\n",
    "SCALER_PARAMS = globals().get(\"SCALER_PARAMS\", {})\n",
    "fo_cands = [\n",
    "    \"feature_order.json\",\n",
    "    \"artifacts_aligned/feature_order.json\",\n",
    "    \"./feature_order.json\",\n",
    "    \"../feature_order.json\",\n",
    "    \"advanced/submissions/team-members/rajan-hans/feature_order.json\",\n",
    "]\n",
    "for p in fo_cands:\n",
    "    if os.path.exists(p):\n",
    "        try:\n",
    "            with open(p, \"r\") as f:\n",
    "                fo = json.load(f)\n",
    "            if isinstance(fo, list) and len(fo) > 0:\n",
    "                FEATURE_NAMES = fo\n",
    "                print(f\"Loaded FEATURE_NAMES from {p} (len={len(FEATURE_NAMES)})\")\n",
    "                break\n",
    "        except Exception:\n",
    "            pass\n",
    "\n",
    "sp_cands = [\n",
    "    \"scaler_params.json\",\n",
    "    \"artifacts_aligned/scaler_params.json\",\n",
    "    \"./scaler_params.json\",\n",
    "    \"../scaler_params.json\",\n",
    "    \"advanced/submissions/team-members/rajan-hans/scaler_params.json\",\n",
    "]\n",
    "for p in sp_cands:\n",
    "    if os.path.exists(p):\n",
    "        try:\n",
    "            with open(p, \"r\") as f:\n",
    "                sc = json.load(f)\n",
    "            if isinstance(sc, dict):\n",
    "                SCALER_PARAMS = sc\n",
    "                print(f\"Loaded SCALER_PARAMS from {p} (len={len(SCALER_PARAMS)})\")\n",
    "                break\n",
    "        except Exception:\n",
    "            pass\n",
    "\n",
    "globals()[\"FEATURE_NAMES\"] = FEATURE_NAMES\n",
    "globals()[\"SCALER_PARAMS\"] = SCALER_PARAMS\n",
    "print(\"Canonical feature/scale loader complete.\")\n"
   ]
  },
  {
   "cell_type": "markdown",
   "id": "a08a97ce",
   "metadata": {},
   "source": [
    "**Week 3**"
   ]
  },
  {
   "cell_type": "markdown",
   "id": "725e8851",
   "metadata": {},
   "source": [
    "**Load the previously saved PyTorch DataLoader Objects from Week2**"
   ]
  },
  {
   "cell_type": "code",
   "execution_count": 2,
   "id": "b69eb682",
   "metadata": {},
   "outputs": [
    {
     "name": "stdout",
     "output_type": "stream",
     "text": [
      "✅  Data loaded and DataLoaders created.\n"
     ]
    }
   ],
   "source": [
    "import torch\n",
    "\n",
    "X_train_tensor = torch.load(\"X_train_tensor.pt\")\n",
    "y_train_tensor = torch.load(\"y_train_tensor.pt\")\n",
    "X_val_tensor = torch.load(\"X_val_tensor.pt\")\n",
    "y_val_tensor = torch.load(\"y_val_tensor.pt\")\n",
    "X_test_tensor = torch.load(\"X_test_tensor.pt\")\n",
    "y_test_tensor = torch.load(\"y_test_tensor.pt\")\n",
    "\n",
    "from torch.utils.data import TensorDataset, DataLoader\n",
    "\n",
    "train_dataset = TensorDataset(X_train_tensor, y_train_tensor)\n",
    "val_dataset = TensorDataset(X_val_tensor, y_val_tensor)\n",
    "test_dataset = TensorDataset(X_test_tensor, y_test_tensor)\n",
    "\n",
    "batch_size = 64\n",
    "train_loader = DataLoader(train_dataset, batch_size=batch_size, shuffle=True)\n",
    "val_loader = DataLoader(val_dataset, batch_size=batch_size, shuffle=False)\n",
    "test_loader = DataLoader(test_dataset, batch_size=batch_size, shuffle=False)\n",
    "print(\"✅  Data loaded and DataLoaders created.\")\n"
   ]
  },
  {
   "cell_type": "markdown",
   "id": "79fd4c42",
   "metadata": {},
   "source": [
    "**Baseline Feedforward Neural Network for Diabetes Prediction**"
   ]
  },
  {
   "cell_type": "code",
   "execution_count": 3,
   "id": "85a90630",
   "metadata": {},
   "outputs": [
    {
     "name": "stdout",
     "output_type": "stream",
     "text": [
      "Using device: cpu\n",
      "DiabetesFFNN(\n",
      "  (net): Sequential(\n",
      "    (0): Linear(in_features=22, out_features=128, bias=True)\n",
      "    (1): ReLU()\n",
      "    (2): BatchNorm1d(128, eps=1e-05, momentum=0.1, affine=True, track_running_stats=True)\n",
      "    (3): Dropout(p=0.5, inplace=False)\n",
      "    (4): Linear(in_features=128, out_features=64, bias=True)\n",
      "    (5): ReLU()\n",
      "    (6): BatchNorm1d(64, eps=1e-05, momentum=0.1, affine=True, track_running_stats=True)\n",
      "    (7): Dropout(p=0.5, inplace=False)\n",
      "    (8): Linear(in_features=64, out_features=1, bias=True)\n",
      "  )\n",
      ")\n",
      "✅  Model instantiated and moved to device.\n"
     ]
    }
   ],
   "source": [
    "# Baseline Feedforward Neural Network for Diabetes Prediction\n",
    "import torch.nn as nn\n",
    "import torch\n",
    "import os\n",
    "\n",
    "os.makedirs(\"mlflow_logs\", exist_ok=True)\n",
    "\n",
    "# Select device: use GPU if available, else CPU\n",
    "device = torch.device(\"cuda\" if torch.cuda.is_available() else \"cpu\")\n",
    "print(f\"Using device: {device}\")\n",
    "\n",
    "\n",
    "# Define the feedforward neural network architecture for binary classification\n",
    "class DiabetesFFNN(nn.Module):\n",
    "    def __init__(self, input_dim):\n",
    "        super(DiabetesFFNN, self).__init__()\n",
    "        # Sequential model: input -> hidden layers -> output\n",
    "        self.net = nn.Sequential(\n",
    "            nn.Linear(input_dim, 128),  # First hidden layer\n",
    "            nn.ReLU(),  # Activation function\n",
    "            nn.BatchNorm1d(128),  # Batch normalization for stability\n",
    "            nn.Dropout(0.5),  # Dropout for regularization\n",
    "            nn.Linear(128, 64),  # Second hidden layer\n",
    "            nn.ReLU(),\n",
    "            nn.BatchNorm1d(64),\n",
    "            nn.Dropout(0.5),\n",
    "            nn.Linear(64, 1),  # Output layer (single logit for binary classification)\n",
    "        )\n",
    "\n",
    "    def forward(self, x):\n",
    "        # Forward pass: returns raw logits (required for BCEWithLogitsLoss)\n",
    "        return self.net(x)\n",
    "\n",
    "\n",
    "# Instantiate the model and move it to the selected device\n",
    "input_dim = X_train_tensor.shape[1]  # Number of input features\n",
    "model = DiabetesFFNN(input_dim).to(device)\n",
    "print(model)\n",
    "print(\"✅  Model instantiated and moved to device.\")\n"
   ]
  },
  {
   "cell_type": "markdown",
   "id": "5be62917",
   "metadata": {},
   "source": [
    "**Define loss function and optimizer**"
   ]
  },
  {
   "cell_type": "code",
   "execution_count": 4,
   "id": "d307ec6c",
   "metadata": {},
   "outputs": [
    {
     "name": "stdout",
     "output_type": "stream",
     "text": [
      "✅  Loss function and optimizer defined.\n"
     ]
    }
   ],
   "source": [
    "# Define loss function and optimizer for binary classification\n",
    "import torch.optim as optim\n",
    "\n",
    "criterion = nn.BCEWithLogitsLoss()  # Binary cross-entropy loss (expects logits)\n",
    "optimizer = optim.Adam(\n",
    "    model.parameters(), lr=0.001, weight_decay=1e-5\n",
    ")  # Adam optimizer\n",
    "\n",
    "print(\"✅  Loss function and optimizer defined.\")\n"
   ]
  },
  {
   "cell_type": "markdown",
   "id": "36b5e263",
   "metadata": {},
   "source": [
    " **Training the model - Skip this and use the Training with ML Flow**"
   ]
  },
  {
   "cell_type": "code",
   "execution_count": 5,
   "id": "04c1cf71",
   "metadata": {},
   "outputs": [
    {
     "name": "stderr",
     "output_type": "stream",
     "text": [
      "2025/09/08 21:38:12 INFO mlflow.tracking.fluent: Experiment with name 'Diabetes_Prediction' does not exist. Creating a new experiment.\n"
     ]
    },
    {
     "name": "stdout",
     "output_type": "stream",
     "text": [
      "Epoch [1/50]\n",
      "  Train Loss: 0.3832, Train Acc: 0.8343\n",
      "  Val Loss: 0.3407, Val Acc: 0.8509\n",
      "  Val Precision: 0.6100, Val Recall: 0.0695\n",
      "  Val F1: 0.1248, Val AUC: 0.8145\n",
      "Epoch [10/50]\n",
      "  Train Loss: 0.3470, Train Acc: 0.8502\n",
      "  Val Loss: 0.3399, Val Acc: 0.8521\n",
      "  Val Precision: 0.6176, Val Recall: 0.0868\n",
      "  Val F1: 0.1522, Val AUC: 0.8157\n",
      "Epoch [20/50]\n",
      "  Train Loss: 0.3467, Train Acc: 0.8502\n",
      "  Val Loss: 0.3396, Val Acc: 0.8520\n",
      "  Val Precision: 0.6106, Val Recall: 0.0897\n",
      "  Val F1: 0.1564, Val AUC: 0.8158\n",
      "Epoch [30/50]\n",
      "  Train Loss: 0.3463, Train Acc: 0.8506\n",
      "  Val Loss: 0.3398, Val Acc: 0.8515\n",
      "  Val Precision: 0.6172, Val Recall: 0.0766\n",
      "  Val F1: 0.1362, Val AUC: 0.8159\n",
      "Epoch [40/50]\n",
      "  Train Loss: 0.3462, Train Acc: 0.8506\n",
      "  Val Loss: 0.3390, Val Acc: 0.8532\n",
      "  Val Precision: 0.5980, Val Recall: 0.1223\n",
      "  Val F1: 0.2031, Val AUC: 0.8156\n"
     ]
    },
    {
     "name": "stderr",
     "output_type": "stream",
     "text": [
      "2025/09/08 21:47:25 WARNING mlflow.models.model: `artifact_path` is deprecated. Please use `name` instead.\n"
     ]
    },
    {
     "name": "stdout",
     "output_type": "stream",
     "text": [
      "Epoch [50/50]\n",
      "  Train Loss: 0.3461, Train Acc: 0.8502\n",
      "  Val Loss: 0.3398, Val Acc: 0.8529\n",
      "  Val Precision: 0.5851, Val Recall: 0.1299\n",
      "  Val F1: 0.2127, Val AUC: 0.8153\n",
      "Training complete. Best validation loss: 0.33872963526847316\n"
     ]
    },
    {
     "data": {
      "application/vnd.jupyter.widget-view+json": {
       "model_id": "56a27960bd8347e29962ca8141758a25",
       "version_major": 2,
       "version_minor": 0
      },
      "text/plain": [
       "Downloading artifacts:   0%|          | 0/8 [00:00<?, ?it/s]"
      ]
     },
     "metadata": {},
     "output_type": "display_data"
    },
    {
     "name": "stdout",
     "output_type": "stream",
     "text": [
      "✅ Model logged to MLflow for run ID: 5116cd70fecf4e0d98d7db8561a04bbb\n",
      "Check MLflow UI or artifacts listing to confirm model presence.\n"
     ]
    }
   ],
   "source": [
    "# Training loop with validation monitoring, MLflow integration, and best model saving, including precision, recall, F1, and AUC\n",
    "import time\n",
    "from sklearn.metrics import (\n",
    "    accuracy_score,\n",
    "    precision_score,\n",
    "    recall_score,\n",
    "    f1_score,\n",
    "    roc_auc_score,\n",
    ")\n",
    "import mlflow\n",
    "import mlflow.pytorch\n",
    "import os\n",
    "\n",
    "mlflow.set_tracking_uri(\n",
    "    f\"file:///{os.path.abspath('mlflow_logs').replace(os.sep, '/')}\"\n",
    ")  # Store MLflow logs in ./mlflow_logs\n",
    "\n",
    "mlflow.set_experiment(\"Diabetes_Prediction\")  # Optional: set experiment name\n",
    "\n",
    "num_epochs = 50  # Number of training epochs (adjust as needed)\n",
    "best_val_loss = float(\"inf\")  # Track the best validation loss\n",
    "train_losses, val_losses = [], []  # Store loss values for plotting\n",
    "train_acc_list, val_acc_list = [], []  # Store accuracy values for plotting\n",
    "best_model_state = None  # Store the best model weights\n",
    "\n",
    "with mlflow.start_run() as run:\n",
    "    # Log hyperparameters\n",
    "    mlflow.log_param(\"num_epochs\", num_epochs)\n",
    "    mlflow.log_param(\"batch_size\", batch_size)\n",
    "    mlflow.log_param(\"learning_rate\", 0.001)\n",
    "    mlflow.log_param(\"model_architecture\", \"DiabetesFFNN\")\n",
    "\n",
    "    for epoch in range(num_epochs):\n",
    "        start_time = time.time()\n",
    "        model.train()  # Set model to training mode\n",
    "        running_loss = 0.0\n",
    "        all_preds, all_targets = [], []  # For accuracy calculation\n",
    "\n",
    "        # Training step: iterate over batches\n",
    "        for X_batch, y_batch in train_loader:\n",
    "            X_batch = X_batch.to(device)\n",
    "            y_batch = y_batch.to(device).float()\n",
    "            optimizer.zero_grad()  # Reset gradients\n",
    "            outputs = model(X_batch)  # Forward pass\n",
    "            loss = criterion(outputs, y_batch)  # Compute loss\n",
    "            loss.backward()  # Backpropagation\n",
    "            optimizer.step()  # Update weights\n",
    "            running_loss += loss.item() * X_batch.size(0)  # Accumulate batch loss\n",
    "            preds = (\n",
    "                torch.sigmoid(outputs).detach().cpu().numpy() > 0.5\n",
    "            )  # Convert logits to binary predictions\n",
    "            all_preds.extend(preds.flatten())\n",
    "            all_targets.extend(y_batch.cpu().numpy().flatten())\n",
    "\n",
    "        epoch_loss = running_loss / len(train_loader.dataset)  # Average training loss\n",
    "        train_acc = accuracy_score(all_targets, all_preds)  # Training accuracy\n",
    "        train_losses.append(epoch_loss)\n",
    "        train_acc_list.append(train_acc)\n",
    "\n",
    "        # Validation step: evaluate on validation set\n",
    "        model.eval()  # Set model to evaluation mode\n",
    "        val_loss = 0.0\n",
    "        val_preds, val_targets = [], []\n",
    "        val_probs = []  # For AUC calculation\n",
    "        with torch.no_grad():\n",
    "            for X_val_batch, y_val_batch in val_loader:\n",
    "                X_val_batch = X_val_batch.to(device)\n",
    "                y_val_batch = y_val_batch.to(device).float()\n",
    "                val_outputs = model(X_val_batch)\n",
    "                v_loss = criterion(val_outputs, y_val_batch)\n",
    "                val_loss += v_loss.item() * X_val_batch.size(0)\n",
    "                probs = torch.sigmoid(val_outputs).cpu().numpy().flatten()\n",
    "                preds = probs > 0.5\n",
    "                val_preds.extend(preds)\n",
    "                val_targets.extend(y_val_batch.cpu().numpy().flatten())\n",
    "                val_probs.extend(probs)\n",
    "        val_loss /= len(val_loader.dataset)  # Average validation loss\n",
    "        val_acc = accuracy_score(val_targets, val_preds)  # Validation accuracy\n",
    "        val_losses.append(val_loss)\n",
    "        val_acc_list.append(val_acc)\n",
    "\n",
    "        # Calculate precision, recall, F1, and AUC for validation set\n",
    "        val_precision = precision_score(val_targets, val_preds, zero_division=0)\n",
    "        val_recall = recall_score(val_targets, val_preds, zero_division=0)\n",
    "        val_f1 = f1_score(val_targets, val_preds, zero_division=0)\n",
    "        try:\n",
    "            val_auc = roc_auc_score(val_targets, val_probs)\n",
    "        except ValueError:\n",
    "            val_auc = float(\"nan\")\n",
    "\n",
    "        # Log metrics for each epoch\n",
    "        mlflow.log_metric(\"train_loss\", epoch_loss, step=epoch)\n",
    "        mlflow.log_metric(\"val_loss\", val_loss, step=epoch)\n",
    "        mlflow.log_metric(\"train_acc\", train_acc, step=epoch)\n",
    "        mlflow.log_metric(\"val_acc\", val_acc, step=epoch)\n",
    "        mlflow.log_metric(\"val_precision\", val_precision, step=epoch)\n",
    "        mlflow.log_metric(\"val_recall\", val_recall, step=epoch)\n",
    "        mlflow.log_metric(\"val_f1\", val_f1, step=epoch)\n",
    "        mlflow.log_metric(\"val_auc\", val_auc, step=epoch)\n",
    "\n",
    "        # Save best model weights if validation loss improves\n",
    "        if val_loss < best_val_loss:\n",
    "            best_val_loss = val_loss\n",
    "            best_model_state = model.state_dict().copy()\n",
    "\n",
    "        epoch_time = time.time() - start_time\n",
    "        # Formatted output for each 10th epoch\n",
    "        if (epoch + 1) % 10 == 0 or epoch == 0:\n",
    "            print(f\"Epoch [{epoch+1}/{num_epochs}]\")\n",
    "            print(f\"  Train Loss: {epoch_loss:.4f}, Train Acc: {train_acc:.4f}\")\n",
    "            print(f\"  Val Loss: {val_loss:.4f}, Val Acc: {val_acc:.4f}\")\n",
    "            print(f\"  Val Precision: {val_precision:.4f}, Val Recall: {val_recall:.4f}\")\n",
    "            print(f\"  Val F1: {val_f1:.4f}, Val AUC: {val_auc:.4f}\")\n",
    "\n",
    "    # Load best model weights after training\n",
    "    model.load_state_dict(best_model_state)\n",
    "    print(\"Training complete. Best validation loss:\", best_val_loss)\n",
    "\n",
    "    # Save the best model to disk\n",
    "    torch.save(model.state_dict(), \"best_model.pth\")\n",
    "\n",
    "    # Log the trained model to MLflow with input_example for signature\n",
    "    input_example = X_train_tensor[:1].cpu().numpy()  # Convert to numpy array\n",
    "    mlflow.pytorch.log_model(model, \"model\", input_example=input_example)\n",
    "    print(f\"✅ Model logged to MLflow for run ID: {run.info.run_id}\")\n",
    "    print(\"Check MLflow UI or artifacts listing to confirm model presence.\")\n"
   ]
  },
  {
   "cell_type": "markdown",
   "id": "2bf22e6d",
   "metadata": {},
   "source": [
    "**Version 2 - Taining the model with ML Flow Integration**"
   ]
  },
  {
   "cell_type": "markdown",
   "id": "42c6bbbd",
   "metadata": {},
   "source": [
    "**MLflow: Extract metrics, compare runs, and load a model for prediction**"
   ]
  },
  {
   "cell_type": "code",
   "execution_count": 6,
   "id": "4d2c5c40",
   "metadata": {},
   "outputs": [
    {
     "name": "stdout",
     "output_type": "stream",
     "text": [
      "Run ID: 5116cd70fecf4e0d98d7db8561a04bbb\n",
      "Parameters: {'batch_size': '64', 'learning_rate': '0.001', 'model_architecture': 'DiabetesFFNN', 'num_epochs': '50'}\n",
      "Metrics: {'train_acc': 0.850246839028581, 'train_loss': 0.34610561844984666, 'val_acc': 0.8528514569594143, 'val_auc': 0.8153430840508877, 'val_f1': 0.21265350536297217, 'val_loss': 0.339752489216867, 'val_precision': 0.5851154833190761, 'val_recall': 0.12993920972644377}\n",
      "Tags: {'mlflow.runName': 'polite-dove-505', 'mlflow.source.name': 'c:\\\\MyWork\\\\MyVenv\\\\Lib\\\\site-packages\\\\ipykernel_launcher.py', 'mlflow.source.type': 'LOCAL', 'mlflow.user': 'HansR'}\n",
      "---\n",
      "Top runs by validation accuracy:\n",
      "Run ID: 5116cd70fecf4e0d98d7db8561a04bbb, Val Acc: 0.8528514569594143\n",
      "Artifacts for best run:\n"
     ]
    },
    {
     "data": {
      "application/vnd.jupyter.widget-view+json": {
       "model_id": "78cd4c80679148ee895a3f6e0ff758f3",
       "version_major": 2,
       "version_minor": 0
      },
      "text/plain": [
       "Downloading artifacts:   0%|          | 0/1 [00:00<?, ?it/s]"
      ]
     },
     "metadata": {},
     "output_type": "display_data"
    },
    {
     "data": {
      "application/vnd.jupyter.widget-view+json": {
       "model_id": "94f23ba56700408b9d5ad0eeef914304",
       "version_major": 2,
       "version_minor": 0
      },
      "text/plain": [
       "Downloading artifacts:   0%|          | 0/8 [00:00<?, ?it/s]"
      ]
     },
     "metadata": {},
     "output_type": "display_data"
    },
    {
     "name": "stdout",
     "output_type": "stream",
     "text": [
      "Loading model from: C:\\Users\\HansR\\AppData\\Local\\Temp\\tmpycyceidh\\model\\\n"
     ]
    }
   ],
   "source": [
    "import mlflow\n",
    "from mlflow.tracking import MlflowClient\n",
    "import mlflow.pytorch\n",
    "import torch\n",
    "import os\n",
    "\n",
    "# Set tracking URI to custom log directory\n",
    "mlflow.set_tracking_uri(\n",
    "    f\"file:///{os.path.abspath('mlflow_logs').replace(os.sep, '/')}\"\n",
    ")\n",
    "client = MlflowClient()\n",
    "\n",
    "# Get experiment ID by name\n",
    "experiment = client.get_experiment_by_name(\"Diabetes_Prediction\")\n",
    "experiment_id = experiment.experiment_id\n",
    "\n",
    "# List all runs in the experiment\n",
    "runs = client.search_runs(experiment_ids=[experiment_id])\n",
    "\n",
    "# Extract and display all metrics and parameters for each run\n",
    "for run in runs:\n",
    "    print(f\"Run ID: {run.info.run_id}\")\n",
    "    print(\"Parameters:\", run.data.params)\n",
    "    print(\"Metrics:\", run.data.metrics)\n",
    "    print(\"Tags:\", run.data.tags)\n",
    "    print(\"---\")\n",
    "\n",
    "# Compare runs by validation accuracy (val_acc)\n",
    "sorted_runs = sorted(runs, key=lambda r: r.data.metrics.get(\"val_acc\", 0), reverse=True)\n",
    "print(\"Top runs by validation accuracy:\")\n",
    "for run in sorted_runs[:3]:\n",
    "    print(\n",
    "        f\"Run ID: {run.info.run_id}, Val Acc: {run.data.metrics.get('val_acc', None)}\"\n",
    "    )\n",
    "\n",
    "# Load the best model for prediction (highest val_acc)\n",
    "best_run = sorted_runs[0]\n",
    "best_run_id = best_run.info.run_id\n",
    "\n",
    "# Print available artifacts for the best run (debugging)\n",
    "artifacts = client.list_artifacts(best_run_id)\n",
    "print(\"Artifacts for best run:\")\n",
    "for artifact in artifacts:\n",
    "    print(artifact.path)\n",
    "\n",
    "# Correct model URI for local file-based tracking\n",
    "model_uri = client.download_artifacts(best_run_id, \"model\")\n",
    "print(f\"Loading model from: {model_uri}\")\n",
    "best_model = mlflow.pytorch.load_model(model_uri)\n",
    "\n",
    "# Example: Use best_model for prediction on new data\n",
    "# X_new_tensor = ... # Prepare your new data as a torch tensor\n",
    "# best_model.eval()\n",
    "# with torch.no_grad():\n",
    "#     outputs = best_model(X_new_tensor.to(next(best_model.parameters()).device))\n",
    "#     predictions = torch.sigmoid(outputs).cpu().numpy() > 0.5\n",
    "# print(predictions)\n"
   ]
  },
  {
   "cell_type": "markdown",
   "id": "3766c37a",
   "metadata": {},
   "source": [
    "**Training Summary**"
   ]
  },
  {
   "cell_type": "code",
   "execution_count": 7,
   "id": "cd3954fe",
   "metadata": {},
   "outputs": [
    {
     "data": {
      "image/png": "[encoded data removed]",
      "text/plain": [
       "<Figure size 1000x400 with 1 Axes>"
      ]
     },
     "metadata": {},
     "output_type": "display_data"
    },
    {
     "data": {
      "image/png": "[encoded data removed]",
      "text/plain": [
       "<Figure size 1000x400 with 1 Axes>"
      ]
     },
     "metadata": {},
     "output_type": "display_data"
    }
   ],
   "source": [
    "# Training summary charts/plots\n",
    "import matplotlib.pyplot as plt\n",
    "\n",
    "# Plot training and validation loss curves\n",
    "plt.figure(figsize=(10, 4))\n",
    "plt.plot(train_losses, label=\"Train Loss\")\n",
    "plt.plot(val_losses, label=\"Validation Loss\")\n",
    "plt.xlabel(\"Epoch\")\n",
    "plt.ylabel(\"Loss\")\n",
    "plt.title(\"Training and Validation Loss\")\n",
    "plt.legend()\n",
    "plt.show()\n",
    "\n",
    "# If you tracked accuracy per epoch, plot accuracy curves (optional)\n",
    "# Example: If you stored train_acc_list and val_acc_list per epoch, plot them as below:\n",
    "plt.figure(figsize=(10, 4))\n",
    "plt.plot(train_acc_list, label=\"Train Accuracy\")\n",
    "plt.plot(val_acc_list, label=\"Validation Accuracy\")\n",
    "plt.xlabel(\"Epoch\")\n",
    "plt.ylabel(\"Accuracy\")\n",
    "plt.title(\"Training and Validation Accuracy\")\n",
    "plt.legend()\n",
    "plt.show()\n"
   ]
  },
  {
   "cell_type": "markdown",
   "id": "fb9931a7",
   "metadata": {},
   "source": [
    "\n",
    "# ✅ Load Aligned Tensors (if available)\n",
    "\n",
    "This cell prefers `artifacts_aligned/*.pt` produced in Week 2. If not present, it falls back to your original tensors.\n"
   ]
  },
  {
   "cell_type": "code",
   "execution_count": 8,
   "id": "61ce678f",
   "metadata": {},
   "outputs": [
    {
     "name": "stdout",
     "output_type": "stream",
     "text": [
      "Loaded tensors. Shapes: torch.Size([177576, 21]) torch.Size([38052, 21]) torch.Size([38052, 21])\n",
      "input_dim = 21\n"
     ]
    }
   ],
   "source": [
    "import os, torch\n",
    "from torch.utils.data import TensorDataset, DataLoader\n",
    "\n",
    "\n",
    "def load_tensor(path_fallback, path_aligned):\n",
    "    if os.path.exists(path_aligned):\n",
    "        return torch.load(path_aligned)\n",
    "    return torch.load(path_fallback)\n",
    "\n",
    "\n",
    "X_train_tensor = load_tensor(\"X_train_tensor.pt\", \"artifacts_aligned/X_train_tensor.pt\")\n",
    "y_train_tensor = load_tensor(\"y_train_tensor.pt\", \"artifacts_aligned/y_train_tensor.pt\")\n",
    "X_val_tensor = load_tensor(\"X_val_tensor.pt\", \"artifacts_aligned/X_val_tensor.pt\")\n",
    "y_val_tensor = load_tensor(\"y_val_tensor.pt\", \"artifacts_aligned/y_val_tensor.pt\")\n",
    "X_test_tensor = load_tensor(\"X_test_tensor.pt\", \"artifacts_aligned/X_test_tensor.pt\")\n",
    "y_test_tensor = load_tensor(\"y_test_tensor.pt\", \"artifacts_aligned/y_test_tensor.pt\")\n",
    "\n",
    "print(\n",
    "    \"Loaded tensors. Shapes:\",\n",
    "    X_train_tensor.shape,\n",
    "    X_val_tensor.shape,\n",
    "    X_test_tensor.shape,\n",
    ")\n",
    "\n",
    "batch_size = 64\n",
    "train_loader = DataLoader(\n",
    "    TensorDataset(X_train_tensor, y_train_tensor),\n",
    "    batch_size=batch_size,\n",
    "    shuffle=True,\n",
    "    drop_last=True,\n",
    ")\n",
    "val_loader = DataLoader(\n",
    "    TensorDataset(X_val_tensor, y_val_tensor), batch_size=batch_size, shuffle=False\n",
    ")\n",
    "test_loader = DataLoader(\n",
    "    TensorDataset(X_test_tensor, y_test_tensor), batch_size=batch_size, shuffle=False\n",
    ")\n",
    "\n",
    "input_dim = X_train_tensor.shape[1]\n",
    "print(\"input_dim =\", input_dim)\n"
   ]
  }
 ],
 "metadata": {
  "kernelspec": {
   "display_name": "MyVenv (3.13.6)",
   "language": "python",
   "name": "python3"
  },
  "language_info": {
   "codemirror_mode": {
    "name": "ipython",
    "version": 3
   },
   "file_extension": ".py",
   "mimetype": "text/x-python",
   "name": "python",
   "nbconvert_exporter": "python",
   "pygments_lexer": "ipython3",
   "version": "3.13.6"
  }
 },
 "nbformat": 4,
 "nbformat_minor": 5
}
