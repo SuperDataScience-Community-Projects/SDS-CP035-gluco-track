{
 "cells": [
  {
   "cell_type": "markdown",
   "id": "474bf7df",
   "metadata": {},
   "source": [
    "## GlucoTrack Project, Week Two, Feature Engineering\n",
    "\n",
    "Objective: to work with a real-world CDC dataset and build a complete pipeline from data preprocessing to deployment using tools like PyTorch/TensorFlow, SHAP, and MLflow to glean insight for Diabetes risk factors.\n",
    "\n",
    "Source: CDC Diabetes Health Indicators\n",
    "- Outcome variable: Individuals are classified as diabetic (1) or non-diabetic (0)\n",
    "- Features: Health, lifestyle, and demographic indicators. \n",
    "- All responses were obtained from phone surveys conducted as part of the CDC Behavioral Risk Factor Surveillance System (BRFSS). \n",
    "- Few questions represent objective lab measurements (cholesterol, high blood pressure); most are subjective measures of self-assessed health and lifestyle factors. \n",
    "- From the UCI repo, it looks like the data was collected in 2014\n",
    "- Data collection methods can be found here and are an important part of the context of the representative nature of the potential findings to the general population:\n",
    "https://www.cdc.gov/brfss/annual_data/2014/pdf/Overview_2014.pdf"
   ]
  },
  {
   "cell_type": "code",
   "execution_count": 3,
   "id": "af25d765",
   "metadata": {},
   "outputs": [
    {
     "name": "stdout",
     "output_type": "stream",
     "text": [
      "Using device: cpu\n",
      "Libraries imported successfully!\n",
      "PyTorch version: 2.8.0+cpu\n",
      "MLflow version: 3.2.0\n",
      "SHAP version: 0.48.0\n"
     ]
    }
   ],
   "source": [
    "import warnings\n",
    "# Suppress specific warning categories\n",
    "warnings.filterwarnings('ignore', category=UserWarning)\n",
    "warnings.filterwarnings('ignore', category=FutureWarning)\n",
    "warnings.filterwarnings('ignore', category=DeprecationWarning)\n",
    "warnings.filterwarnings('ignore', message='.*caveats.*')\n",
    "\n",
    "# Core Libraries\n",
    "from ucimlrepo import fetch_ucirepo \n",
    "import numpy as np\n",
    "import pandas as pd\n",
    "\n",
    "# Suppress pandas SettingWithCopyWarning\n",
    "pd.options.mode.chained_assignment = None  # default='warn'\n",
    "warnings.filterwarnings('ignore', category=pd.errors.SettingWithCopyWarning)\n",
    "\n",
    "# Visualization\n",
    "import matplotlib.pyplot as plt\n",
    "import seaborn as sns\n",
    "import plotly.express as px\n",
    "\n",
    "# Machine Learning\n",
    "import sklearn\n",
    "import xgboost as xgb\n",
    "import lightgbm as lgb\n",
    "\n",
    "# Experiment Tracking\n",
    "import mlflow\n",
    "\n",
    "# Deployment\n",
    "import streamlit\n",
    "\n",
    "# Utilities\n",
    "#python-dotenv\n",
    "\n",
    "import torch\n",
    "from torch.utils.data import TensorDataset, DataLoader\n",
    "import torch.nn as nn\n",
    "import torch.optim as optim\n",
    "import shap\n",
    "import time\n",
    "from sklearn.metrics import (\n",
    "    accuracy_score, precision_score, recall_score, f1_score, roc_auc_score,\n",
    "    confusion_matrix, RocCurveDisplay)\n",
    "\n",
    "from sklearn.model_selection import train_test_split\n",
    "from sklearn.preprocessing import PowerTransformer, RobustScaler\n",
    "\n",
    "device = torch.device(\"cuda\" if torch.cuda.is_available() else \"cpu\")\n",
    "print(f\"Using device: {device}\")\n",
    "print(f\"Libraries imported successfully!\")\n",
    "print(f\"PyTorch version: {torch.__version__}\")\n",
    "print(f\"MLflow version: {mlflow.__version__}\")\n",
    "print(f\"SHAP version: {shap.__version__}\")"
   ]
  },
  {
   "cell_type": "code",
   "execution_count": 4,
   "id": "d669c7e4",
   "metadata": {},
   "outputs": [
    {
     "name": "stdout",
     "output_type": "stream",
     "text": [
      "Fetching CDC Diabetes Health Indicators dataset...\n",
      "Dataset loaded successfully!\n",
      "Initial dataset shape: (253680, 22)\n",
      "Memory usage: 42.58 MB\n"
     ]
    }
   ],
   "source": [
    "# Fetch the CDC Diabetes Health Indicators dataset\n",
    "print(\"Fetching CDC Diabetes Health Indicators dataset...\")\n",
    "cdc_diabetes_health_indicators = fetch_ucirepo(id=891)\n",
    "\n",
    "# Extract features and target variables\n",
    "X = cdc_diabetes_health_indicators.data.features\n",
    "y = cdc_diabetes_health_indicators.data.targets\n",
    "\n",
    "# Combine features and target into a single DataFrame for preprocessing\n",
    "df = pd.concat([X, y], axis=1)\n",
    "\n",
    "print(f\"Dataset loaded successfully!\")\n",
    "print(f\"Initial dataset shape: {df.shape}\")\n",
    "print(f\"Memory usage: {df.memory_usage(deep=True).sum() / 1024**2:.2f} MB\")"
   ]
  },
  {
   "cell_type": "markdown",
   "id": "b0eb307e",
   "metadata": {},
   "source": [
    "## **TASKS:**\n",
    "- drop duplicate rows\n",
    "- Split data into train/val/test with stratification\n",
    "- handle class imbalance\n",
    "- Encode high-cardinality categorical features with integer labels for embedding layers\n",
    "- deal with outliers and skewed distribution\n",
    "- feature scaling\n",
    "- Convert datasets into PyTorch Dataloaders or TensorFlow tf.data objects"
   ]
  },
  {
   "cell_type": "code",
   "execution_count": 5,
   "id": "a8f60b21",
   "metadata": {},
   "outputs": [
    {
     "name": "stdout",
     "output_type": "stream",
     "text": [
      "=== DUPLICATE ROWS ===\n",
      "Original dataset rows: 253680\n",
      "Unique observations: 229474\n",
      "Duplicate rows: 24206\n",
      "\n",
      "After removing duplicates:\n",
      "Cleaned dataset rows: 229474\n",
      "Rows removed: 24206\n"
     ]
    }
   ],
   "source": [
    "# Check for duplicate rows\n",
    "print(\"=== DUPLICATE ROWS ===\")\n",
    "print(f\"Original dataset rows: {df.shape[0]}\")\n",
    "print(f\"Unique observations: {len(df.drop_duplicates())}\")\n",
    "print(f\"Duplicate rows: {len(df) - len(df.drop_duplicates())}\")\n",
    "\n",
    "# Remove duplicate rows\n",
    "df_clean = df.drop_duplicates()\n",
    "\n",
    "print(f\"\\nAfter removing duplicates:\")\n",
    "print(f\"Cleaned dataset rows: {df_clean.shape[0]}\")\n",
    "print(f\"Rows removed: {len(df) - len(df_clean)}\")"
   ]
  },
  {
   "cell_type": "markdown",
   "id": "84fc99c4",
   "metadata": {},
   "source": [
    "### **Optimize data types for memory efficiency**\n",
    "\n",
    "I will follow Bankole's approach for optimization of data types for memory efficiency. "
   ]
  },
  {
   "cell_type": "code",
   "execution_count": 6,
   "id": "3e2ed1b8",
   "metadata": {},
   "outputs": [
    {
     "name": "stdout",
     "output_type": "stream",
     "text": [
      "=== DATA TYPE OPTIMIZATION ===\n",
      "Current data types:\n",
      "int64    22\n",
      "Name: count, dtype: int64\n",
      "\n",
      "Analyzing float columns for potential integer conversion:\n",
      "  HighBP: Optimized to uint8 (range: 0-1)\n",
      "  HighChol: Optimized to uint8 (range: 0-1)\n",
      "  CholCheck: Optimized to uint8 (range: 0-1)\n",
      "  BMI: Optimized to uint8 (range: 12-98)\n",
      "  Smoker: Optimized to uint8 (range: 0-1)\n",
      "  Stroke: Optimized to uint8 (range: 0-1)\n",
      "  HeartDiseaseorAttack: Optimized to uint8 (range: 0-1)\n",
      "  PhysActivity: Optimized to uint8 (range: 0-1)\n",
      "  Fruits: Optimized to uint8 (range: 0-1)\n",
      "  Veggies: Optimized to uint8 (range: 0-1)\n",
      "  HvyAlcoholConsump: Optimized to uint8 (range: 0-1)\n",
      "  AnyHealthcare: Optimized to uint8 (range: 0-1)\n",
      "  NoDocbcCost: Optimized to uint8 (range: 0-1)\n",
      "  GenHlth: Optimized to uint8 (range: 1-5)\n",
      "  MentHlth: Optimized to uint8 (range: 0-30)\n",
      "  PhysHlth: Optimized to uint8 (range: 0-30)\n",
      "  DiffWalk: Optimized to uint8 (range: 0-1)\n",
      "  Sex: Optimized to uint8 (range: 0-1)\n",
      "  Age: Optimized to uint8 (range: 1-13)\n",
      "  Education: Optimized to uint8 (range: 1-6)\n",
      "  Income: Optimized to uint8 (range: 1-8)\n",
      "  Diabetes_binary: Optimized to uint8 (range: 0-1)\n",
      "\n",
      "Memory usage after optimization: 6.57 MB\n",
      "Memory reduction: 84.58%\n"
     ]
    }
   ],
   "source": [
    "# Analyze current data types\n",
    "print(\"=== DATA TYPE OPTIMIZATION ===\")\n",
    "print(\"Current data types:\")\n",
    "print(df_clean.dtypes.value_counts())\n",
    "\n",
    "# Check for float columns that could be integers\n",
    "print(\"\\nAnalyzing float columns for potential integer conversion:\")\n",
    "float_columns = df_clean.select_dtypes(include=['float64']).columns\n",
    "\n",
    "for col in float_columns:\n",
    "    # Check if all values are whole numbers\n",
    "    if df_clean[col].apply(lambda x: x.is_integer()).all():\n",
    "        print(f\"  {col}: Can be converted to integer (all values are whole numbers)\")\n",
    "        df_clean[col] = df_clean[col].astype('int32')\n",
    "    else:\n",
    "        print(f\"  {col}: Must remain float (contains decimal values)\")\n",
    "        # Check range to determine if int32 or int64 is appropriate\n",
    "        min_val, max_val = df_clean[col].min(), df_clean[col].max()\n",
    "        print(f\"    Range: {min_val} to {max_val}\")\n",
    "\n",
    "# Optimize integer columns\n",
    "int_columns = df_clean.select_dtypes(include=['int64']).columns\n",
    "for col in int_columns:\n",
    "    min_val, max_val = df_clean[col].min(), df_clean[col].max()\n",
    "    if min_val >= 0 and max_val <= 255:\n",
    "        df_clean[col] = df_clean[col].astype('uint8')\n",
    "        print(f\"  {col}: Optimized to uint8 (range: {min_val}-{max_val})\")\n",
    "    elif min_val >= -128 and max_val <= 127:\n",
    "        df_clean[col] = df_clean[col].astype('int8')\n",
    "        print(f\"  {col}: Optimized to int8 (range: {min_val}-{max_val})\")\n",
    "    elif min_val >= 0 and max_val <= 65535:\n",
    "        df_clean[col] = df_clean[col].astype('uint16')\n",
    "        print(f\"  {col}: Optimized to uint16 (range: {min_val}-{max_val})\")\n",
    "    else:\n",
    "        df_clean[col] = df_clean[col].astype('int32')\n",
    "        print(f\"  {col}: Optimized to int32 (range: {min_val}-{max_val})\")\n",
    "\n",
    "print(f\"\\nMemory usage after optimization: {df_clean.memory_usage(deep=True).sum() / 1024**2:.2f} MB\")\n",
    "print(f\"Memory reduction: {((df.memory_usage(deep=True).sum() - df_clean.memory_usage(deep=True).sum()) / df.memory_usage(deep=True).sum() * 100):.2f}%\")"
   ]
  },
  {
   "cell_type": "markdown",
   "id": "8ff082f3",
   "metadata": {},
   "source": [
    "**A reminder of the target outcome class imbalance:**"
   ]
  },
  {
   "cell_type": "code",
   "execution_count": 7,
   "id": "40e76f15",
   "metadata": {},
   "outputs": [
    {
     "name": "stdout",
     "output_type": "stream",
     "text": [
      "35097 patients marked diabetic/prediabetic and 194377 patients marked no diabetes\n",
      "5.538279625039177 controls for each patient marked diabetic/prediabetic\n"
     ]
    }
   ],
   "source": [
    "print(len(df_clean[df_clean[\"Diabetes_binary\"] == 1]), \"patients marked diabetic/prediabetic and\", len(df_clean[df_clean[\"Diabetes_binary\"] == 0]), \"patients marked no diabetes\")\n",
    "print(len(df_clean[df_clean[\"Diabetes_binary\"] == 0])/ len(df_clean[df_clean[\"Diabetes_binary\"] == 1]), \"controls for each patient marked diabetic/prediabetic\")"
   ]
  },
  {
   "cell_type": "code",
   "execution_count": 8,
   "id": "88a43065",
   "metadata": {},
   "outputs": [],
   "source": [
    "# Separate de-dup data set into features and target\n",
    "X_clean = df_clean.drop('Diabetes_binary', axis=1)\n",
    "y_clean = df_clean['Diabetes_binary']"
   ]
  },
  {
   "cell_type": "markdown",
   "id": "40b6c004",
   "metadata": {},
   "source": [
    "### **Create BMI Classification Categories**"
   ]
  },
  {
   "cell_type": "markdown",
   "id": "a2f7c5a6",
   "metadata": {},
   "source": [
    "I will follow Noora's suggestions to create BMI classifications based on WHO criteria. The results show a realistic population distribution with Normal (25.64%) and Overweight (36.05%) being the largest categories, followed by Obesity Classes I-III (36.98% combined), aligning with US population health statistics. I hope this categorization will improve the performance of the neural network model performance compared to initial tests using continuous values."
   ]
  },
  {
   "cell_type": "code",
   "execution_count": 9,
   "id": "3e6b445a",
   "metadata": {},
   "outputs": [
    {
     "name": "stdout",
     "output_type": "stream",
     "text": [
      "=== BMI CATEGORIZATION ===\n",
      "Original BMI statistics:\n",
      "count    229474.000000\n",
      "mean         28.687507\n",
      "std           6.789204\n",
      "min          12.000000\n",
      "25%          24.000000\n",
      "50%          27.000000\n",
      "75%          32.000000\n",
      "max          98.000000\n",
      "Name: BMI, dtype: float64\n",
      "\n",
      "BMI Category Distribution:\n",
      "  0 (Underweight): 3,052 (1.33%)\n",
      "  1 (Normal): 58,842 (25.64%)\n",
      "  2 (Overweight): 82,723 (36.05%)\n",
      "  3 (Obesity I): 50,693 (22.09%)\n",
      "  4 (Obesity II): 20,448 (8.91%)\n",
      "  5 (Obesity III): 13,716 (5.98%)\n"
     ]
    }
   ],
   "source": [
    "def create_bmi_categories(bmi_values):\n",
    "    \"\"\"\n",
    "    Create WHO standard BMI categories from numerical BMI values.\n",
    "    \n",
    "    Categories:\n",
    "    - 0: Underweight (< 18.5)\n",
    "    - 1: Normal (18.5 - 24.9)\n",
    "    - 2: Overweight (25.0 - 29.9)\n",
    "    - 3: Obesity Class I (30.0 - 34.9)\n",
    "    - 4: Obesity Class II (35.0 - 39.9)\n",
    "    - 5: Obesity Class III (>= 40.0)\n",
    "    \"\"\"\n",
    "    categories = np.zeros(len(bmi_values), dtype=int)\n",
    "    \n",
    "    # Define BMI thresholds\n",
    "    categories[bmi_values < 18.5] = 0  # Underweight\n",
    "    categories[(bmi_values >= 18.5) & (bmi_values < 25.0)] = 1  # Normal\n",
    "    categories[(bmi_values >= 25.0) & (bmi_values < 30.0)] = 2  # Overweight\n",
    "    categories[(bmi_values >= 30.0) & (bmi_values < 35.0)] = 3  # Obesity Class I\n",
    "    categories[(bmi_values >= 35.0) & (bmi_values < 40.0)] = 4  # Obesity Class II\n",
    "    categories[bmi_values >= 40.0] = 5  # Obesity Class III\n",
    "    \n",
    "    return categories\n",
    "\n",
    "# Apply BMI categorization\n",
    "print(\"=== BMI CATEGORIZATION ===\")\n",
    "print(\"Original BMI statistics:\")\n",
    "print(X_clean['BMI'].describe())\n",
    "\n",
    "# Create BMI categories\n",
    "X_engineered = X_clean.copy()\n",
    "X_engineered['bmi_category'] = create_bmi_categories(X_clean['BMI'])\n",
    "\n",
    "# Display BMI category distribution\n",
    "bmi_cat_names = ['Underweight', 'Normal', 'Overweight', 'Obesity I', 'Obesity II', 'Obesity III']\n",
    "bmi_cat_counts = pd.Series(X_engineered['bmi_category']).value_counts().sort_index()\n",
    "\n",
    "print(\"\\nBMI Category Distribution:\")\n",
    "for i, (count) in enumerate(bmi_cat_counts):\n",
    "    percentage = (count / len(X_engineered)) * 100\n",
    "    print(f\"  {i} ({bmi_cat_names[i]}): {count:,} ({percentage:.2f}%)\")"
   ]
  },
  {
   "cell_type": "code",
   "execution_count": 10,
   "id": "63ac6498",
   "metadata": {},
   "outputs": [
    {
     "data": {
      "image/png": "[encoded data removed]",
      "text/plain": [
       "<Figure size 1200x500 with 2 Axes>"
      ]
     },
     "metadata": {},
     "output_type": "display_data"
    },
    {
     "name": "stdout",
     "output_type": "stream",
     "text": [
      "\n",
      "BMI Categories vs Diabetes Risk:\n",
      "Diabetes_binary      0      1\n",
      "bmi_category                 \n",
      "0                94.46   5.54\n",
      "1                93.36   6.64\n",
      "2                87.23  12.77\n",
      "3                79.89  20.11\n",
      "4                72.35  27.65\n",
      "5                66.41  33.59\n"
     ]
    }
   ],
   "source": [
    "# Visualize BMI category distribution\n",
    "plt.figure(figsize=(12, 5))\n",
    "\n",
    "plt.subplot(1, 2, 1)\n",
    "X_clean['BMI'].hist(bins=50, alpha=0.7, edgecolor='black')\n",
    "plt.title('Original BMI Distribution', fontweight='bold')\n",
    "plt.xlabel('BMI')\n",
    "plt.ylabel('Frequency')\n",
    "\n",
    "plt.subplot(1, 2, 2)\n",
    "bmi_cat_counts.plot(kind='bar', color='skyblue', edgecolor='black')\n",
    "plt.title('BMI Category Distribution', fontweight='bold')\n",
    "plt.xlabel('BMI Category')\n",
    "plt.ylabel('Count')\n",
    "plt.xticks(range(6), bmi_cat_names, rotation=45)\n",
    "\n",
    "plt.tight_layout()\n",
    "plt.show()\n",
    "\n",
    "# Analyze BMI categories vs diabetes target\n",
    "print(\"\\nBMI Categories vs Diabetes Risk:\")\n",
    "bmi_diabetes_crosstab = pd.crosstab(X_engineered['bmi_category'], y_clean, normalize='index') * 100\n",
    "print(bmi_diabetes_crosstab.round(2))"
   ]
  },
  {
   "cell_type": "markdown",
   "id": "10ef5c7b",
   "metadata": {},
   "source": [
    "**Which categorical features in the dataset have more than two unique values?**"
   ]
  },
  {
   "cell_type": "code",
   "execution_count": 11,
   "id": "46ea0ace",
   "metadata": {},
   "outputs": [
    {
     "name": "stdout",
     "output_type": "stream",
     "text": [
      "['GenHlth', 'Age', 'Education', 'Income', 'bmi_category']\n"
     ]
    }
   ],
   "source": [
    "categorical_cols = []\n",
    "for col in X_engineered.columns:\n",
    "    if (X_engineered[col].dtype == 'object' or X_engineered[col].dtype.name == 'category' or X_engineered[col].nunique() < 20) and X_engineered[col].nunique() > 2:\n",
    "        categorical_cols.append(col)\n",
    "print(categorical_cols)"
   ]
  },
  {
   "cell_type": "code",
   "execution_count": 12,
   "id": "2455a413",
   "metadata": {},
   "outputs": [],
   "source": [
    "X_engineered = X_engineered.drop(columns=['BMI'])"
   ]
  },
  {
   "cell_type": "markdown",
   "id": "7e967e0e",
   "metadata": {},
   "source": [
    "**Apply integer-encoding to the high-cardinality features ('GenHlth', 'Age', 'Education', 'Income', and the newly engineered 'bmi_category').**\n",
    "\n",
    "**Why? Integer-encoding transforms categories into integer indices, which can be used as inputs to an embedding layer. Embedding layers map these indices to dense, learnable vector representations, allowing the model to capture relationships between categories efficiently—especially useful for high-cardinality features. This approach avoids the dimensionality explosion of one-hot encoding and enables the network to learn similarities between categories.**"
   ]
  },
  {
   "cell_type": "code",
   "execution_count": 13,
   "id": "66b3d0b3",
   "metadata": {},
   "outputs": [],
   "source": [
    "for col in categorical_cols:\n",
    "    X_engineered[col] = X_engineered[col].astype('category').cat.codes"
   ]
  },
  {
   "cell_type": "code",
   "execution_count": 14,
   "id": "20f78120",
   "metadata": {},
   "outputs": [
    {
     "data": {
      "text/html": [
       "<div>\n",
       "<style scoped>\n",
       "    .dataframe tbody tr th:only-of-type {\n",
       "        vertical-align: middle;\n",
       "    }\n",
       "\n",
       "    .dataframe tbody tr th {\n",
       "        vertical-align: top;\n",
       "    }\n",
       "\n",
       "    .dataframe thead th {\n",
       "        text-align: right;\n",
       "    }\n",
       "</style>\n",
       "<table border=\"1\" class=\"dataframe\">\n",
       "  <thead>\n",
       "    <tr style=\"text-align: right;\">\n",
       "      <th></th>\n",
       "      <th>HighBP</th>\n",
       "      <th>HighChol</th>\n",
       "      <th>CholCheck</th>\n",
       "      <th>Smoker</th>\n",
       "      <th>Stroke</th>\n",
       "      <th>HeartDiseaseorAttack</th>\n",
       "      <th>PhysActivity</th>\n",
       "      <th>Fruits</th>\n",
       "      <th>Veggies</th>\n",
       "      <th>HvyAlcoholConsump</th>\n",
       "      <th>...</th>\n",
       "      <th>NoDocbcCost</th>\n",
       "      <th>GenHlth</th>\n",
       "      <th>MentHlth</th>\n",
       "      <th>PhysHlth</th>\n",
       "      <th>DiffWalk</th>\n",
       "      <th>Sex</th>\n",
       "      <th>Age</th>\n",
       "      <th>Education</th>\n",
       "      <th>Income</th>\n",
       "      <th>bmi_category</th>\n",
       "    </tr>\n",
       "  </thead>\n",
       "  <tbody>\n",
       "    <tr>\n",
       "      <th>0</th>\n",
       "      <td>1</td>\n",
       "      <td>1</td>\n",
       "      <td>1</td>\n",
       "      <td>1</td>\n",
       "      <td>0</td>\n",
       "      <td>0</td>\n",
       "      <td>0</td>\n",
       "      <td>0</td>\n",
       "      <td>1</td>\n",
       "      <td>0</td>\n",
       "      <td>...</td>\n",
       "      <td>0</td>\n",
       "      <td>4</td>\n",
       "      <td>18</td>\n",
       "      <td>15</td>\n",
       "      <td>1</td>\n",
       "      <td>0</td>\n",
       "      <td>8</td>\n",
       "      <td>3</td>\n",
       "      <td>2</td>\n",
       "      <td>5</td>\n",
       "    </tr>\n",
       "    <tr>\n",
       "      <th>1</th>\n",
       "      <td>0</td>\n",
       "      <td>0</td>\n",
       "      <td>0</td>\n",
       "      <td>1</td>\n",
       "      <td>0</td>\n",
       "      <td>0</td>\n",
       "      <td>1</td>\n",
       "      <td>0</td>\n",
       "      <td>0</td>\n",
       "      <td>0</td>\n",
       "      <td>...</td>\n",
       "      <td>1</td>\n",
       "      <td>2</td>\n",
       "      <td>0</td>\n",
       "      <td>0</td>\n",
       "      <td>0</td>\n",
       "      <td>0</td>\n",
       "      <td>6</td>\n",
       "      <td>5</td>\n",
       "      <td>0</td>\n",
       "      <td>2</td>\n",
       "    </tr>\n",
       "    <tr>\n",
       "      <th>2</th>\n",
       "      <td>1</td>\n",
       "      <td>1</td>\n",
       "      <td>1</td>\n",
       "      <td>0</td>\n",
       "      <td>0</td>\n",
       "      <td>0</td>\n",
       "      <td>0</td>\n",
       "      <td>1</td>\n",
       "      <td>0</td>\n",
       "      <td>0</td>\n",
       "      <td>...</td>\n",
       "      <td>1</td>\n",
       "      <td>4</td>\n",
       "      <td>30</td>\n",
       "      <td>30</td>\n",
       "      <td>1</td>\n",
       "      <td>0</td>\n",
       "      <td>8</td>\n",
       "      <td>3</td>\n",
       "      <td>7</td>\n",
       "      <td>2</td>\n",
       "    </tr>\n",
       "    <tr>\n",
       "      <th>3</th>\n",
       "      <td>1</td>\n",
       "      <td>0</td>\n",
       "      <td>1</td>\n",
       "      <td>0</td>\n",
       "      <td>0</td>\n",
       "      <td>0</td>\n",
       "      <td>1</td>\n",
       "      <td>1</td>\n",
       "      <td>1</td>\n",
       "      <td>0</td>\n",
       "      <td>...</td>\n",
       "      <td>0</td>\n",
       "      <td>1</td>\n",
       "      <td>0</td>\n",
       "      <td>0</td>\n",
       "      <td>0</td>\n",
       "      <td>0</td>\n",
       "      <td>10</td>\n",
       "      <td>2</td>\n",
       "      <td>5</td>\n",
       "      <td>2</td>\n",
       "    </tr>\n",
       "    <tr>\n",
       "      <th>4</th>\n",
       "      <td>1</td>\n",
       "      <td>1</td>\n",
       "      <td>1</td>\n",
       "      <td>0</td>\n",
       "      <td>0</td>\n",
       "      <td>0</td>\n",
       "      <td>1</td>\n",
       "      <td>1</td>\n",
       "      <td>1</td>\n",
       "      <td>0</td>\n",
       "      <td>...</td>\n",
       "      <td>0</td>\n",
       "      <td>1</td>\n",
       "      <td>3</td>\n",
       "      <td>0</td>\n",
       "      <td>0</td>\n",
       "      <td>0</td>\n",
       "      <td>10</td>\n",
       "      <td>4</td>\n",
       "      <td>3</td>\n",
       "      <td>1</td>\n",
       "    </tr>\n",
       "  </tbody>\n",
       "</table>\n",
       "<p>5 rows × 21 columns</p>\n",
       "</div>"
      ],
      "text/plain": [
       "   HighBP  HighChol  CholCheck  Smoker  Stroke  HeartDiseaseorAttack  \\\n",
       "0       1         1          1       1       0                     0   \n",
       "1       0         0          0       1       0                     0   \n",
       "2       1         1          1       0       0                     0   \n",
       "3       1         0          1       0       0                     0   \n",
       "4       1         1          1       0       0                     0   \n",
       "\n",
       "   PhysActivity  Fruits  Veggies  HvyAlcoholConsump  ...  NoDocbcCost  \\\n",
       "0             0       0        1                  0  ...            0   \n",
       "1             1       0        0                  0  ...            1   \n",
       "2             0       1        0                  0  ...            1   \n",
       "3             1       1        1                  0  ...            0   \n",
       "4             1       1        1                  0  ...            0   \n",
       "\n",
       "   GenHlth  MentHlth  PhysHlth  DiffWalk  Sex  Age  Education  Income  \\\n",
       "0        4        18        15         1    0    8          3       2   \n",
       "1        2         0         0         0    0    6          5       0   \n",
       "2        4        30        30         1    0    8          3       7   \n",
       "3        1         0         0         0    0   10          2       5   \n",
       "4        1         3         0         0    0   10          4       3   \n",
       "\n",
       "   bmi_category  \n",
       "0             5  \n",
       "1             2  \n",
       "2             2  \n",
       "3             2  \n",
       "4             1  \n",
       "\n",
       "[5 rows x 21 columns]"
      ]
     },
     "execution_count": 14,
     "metadata": {},
     "output_type": "execute_result"
    }
   ],
   "source": [
    "X_engineered.head()"
   ]
  },
  {
   "cell_type": "markdown",
   "id": "541ef38e",
   "metadata": {},
   "source": [
    "**Create a final X/y dataset representing dropped duplicate observations, engineered BMI feature and high-cardinality encoded features to do the train/test split with test_size=0.20 followed by a 2nd split for a validation subset, and with stratification parameter set to True in both splits.**\n",
    "\n",
    "Note we will yield the following:\n",
    "60% train (0.8 * 0.8)\n",
    "20% validation (0.8 * 0.25)\n",
    "20% test\n",
    "\n",
    "**Stratification is critical for this dataset because the target variable (Diabetes_binary) is highly imbalanced—there are many more non-diabetic than diabetic cases.**\n",
    "\n",
    "- prevents random splitting that could result in training, validation, or test sets that do not accurately reflect true class proportions\n",
    "- more reliable model evaluation and generalization\n",
    "- ensures each subset maintains the same class distribution as the original data, \n",
    "- more meaningful performance metrics, especially for the minority class."
   ]
  },
  {
   "cell_type": "code",
   "execution_count": 15,
   "id": "039b4577",
   "metadata": {},
   "outputs": [],
   "source": [
    "X_final = X_engineered.copy()\n",
    "y_final = y_clean.copy()\n",
    "\n",
    "X_trainval, X_test, y_trainval, y_test = train_test_split(\n",
    "    X_final, y_final, test_size=0.2, stratify=y_final, random_state=42\n",
    ")\n",
    "\n",
    "# split the remaining data into training and validation sets (e.g., 80/20 of the remaining)\n",
    "X_train, X_val, y_train, y_val = train_test_split(\n",
    "    X_trainval, y_trainval, test_size=0.25, stratify=y_trainval, random_state=42\n",
    ")"
   ]
  },
  {
   "cell_type": "code",
   "execution_count": 16,
   "id": "5460e19d",
   "metadata": {},
   "outputs": [],
   "source": [
    "# 4. Apply SMOTE to the training data ONLY\n",
    "# This step is crucial for addressing class imbalance without data leakage.\n",
    "from imblearn.over_sampling import SMOTE \n",
    "smote = SMOTE(random_state=42)\n",
    "X_train_resampled, y_train_resampled = smote.fit_resample(X_train, y_train)"
   ]
  },
  {
   "cell_type": "markdown",
   "id": "6410656a",
   "metadata": {},
   "source": [
    "**Transform non-binary features and check the distribution after scaling**\n",
    "\n",
    "**Robust scaling was recommended because several features (such as BMI, Age, Education, and Income) have outliers or skewed distributions. Unlike standard scaling, RobustScaler uses the median and interquartile range (IQR) instead of the mean and standard deviation, making it less sensitive to extreme values. This helps ensure that outliers do not disproportionately influence the scaling, resulting in more stable and reliable feature values for modeling.**\n",
    "\n",
    "**Code check recommends no further scaling for the integer-encoded features**"
   ]
  },
  {
   "cell_type": "code",
   "execution_count": 17,
   "id": "25a17326",
   "metadata": {},
   "outputs": [],
   "source": [
    "# Feature transformations: Select continuous and ordinal columns (excluding binary and target)\n",
    "continuous_cols = ['MentHlth', 'PhysHlth']\n",
    "\n",
    "# Robust scaling to reduce outlier impact\n",
    "scaler = RobustScaler()\n",
    "\n",
    "# Replace original columns with transformed values in your dataframe\n",
    "X_train_resampled[continuous_cols] = scaler.fit_transform(X_train_resampled[continuous_cols])\n",
    "\n",
    "\n",
    "# Transform the validation and test data using the fitted scaler\n",
    "X_val[continuous_cols] = scaler.transform(X_val[continuous_cols])\n",
    "X_test[continuous_cols] = scaler.transform(X_test[continuous_cols])\n",
    "\n",
    "# Convert the scaled NumPy arrays back to DataFrames for easier handling\n",
    "X_train_scaled = pd.DataFrame(X_train_resampled, columns=X_train_resampled.columns)\n",
    "X_val_scaled = pd.DataFrame(X_val, columns=X_val.columns)\n",
    "X_test_scaled = pd.DataFrame(X_test, columns=X_test.columns)"
   ]
  },
  {
   "cell_type": "markdown",
   "id": "0c1e0168",
   "metadata": {},
   "source": [
    "**Summary statistics of scaled data compared to pre-scaled data and distribution plots for the scaled features:**"
   ]
  },
  {
   "cell_type": "code",
   "execution_count": 18,
   "id": "ae3a5d90",
   "metadata": {},
   "outputs": [
    {
     "name": "stdout",
     "output_type": "stream",
     "text": [
      "Scaled continuous features:\n",
      "            MentHlth       PhysHlth\n",
      "count  233252.000000  233252.000000\n",
      "mean        1.294628       0.852740\n",
      "std         2.759805       1.448567\n",
      "min         0.000000       0.000000\n",
      "25%         0.000000       0.000000\n",
      "50%         0.000000       0.000000\n",
      "75%         1.000000       1.000000\n",
      "max        10.000000       4.285714\n",
      "Original continuous features:\n",
      "            MentHlth       PhysHlth\n",
      "count  229474.000000  229474.000000\n",
      "mean        3.509866       4.681219\n",
      "std         7.717643       9.050877\n",
      "min         0.000000       0.000000\n",
      "25%         0.000000       0.000000\n",
      "50%         0.000000       0.000000\n",
      "75%         2.000000       4.000000\n",
      "max        30.000000      30.000000\n"
     ]
    }
   ],
   "source": [
    "print(\"Scaled continuous features:\")\n",
    "print(X_train_scaled[continuous_cols].describe())\n",
    "print(\"Original continuous features:\")\n",
    "print(df_clean[continuous_cols].describe())"
   ]
  },
  {
   "cell_type": "code",
   "execution_count": 19,
   "id": "547e1ad9",
   "metadata": {},
   "outputs": [
    {
     "data": {
      "image/png": "[encoded data removed]",
      "text/plain": [
       "<Figure size 640x480 with 1 Axes>"
      ]
     },
     "metadata": {},
     "output_type": "display_data"
    },
    {
     "data": {
      "image/png": "[encoded data removed]",
      "text/plain": [
       "<Figure size 640x480 with 1 Axes>"
      ]
     },
     "metadata": {},
     "output_type": "display_data"
    }
   ],
   "source": [
    "for col in continuous_cols:\n",
    "    plt.hist(data=X_train_scaled, x= col)\n",
    "    plt.title(f'Robust-scaled Distribution of {col}')\n",
    "    plt.xticks(rotation=0)\n",
    "    plt.show()"
   ]
  },
  {
   "cell_type": "markdown",
   "id": "6d903223",
   "metadata": {},
   "source": [
    "**Verify class distribution between subsets: train set should be balanced while the others should remain with the original proportions**"
   ]
  },
  {
   "cell_type": "code",
   "execution_count": 20,
   "id": "f6a14fe0",
   "metadata": {},
   "outputs": [
    {
     "name": "stdout",
     "output_type": "stream",
     "text": [
      "Train set class distribution:\n",
      "Diabetes_binary\n",
      "1    0.5\n",
      "0    0.5\n",
      "Name: proportion, dtype: float64\n",
      "\n",
      "Validation set class distribution:\n",
      "Diabetes_binary\n",
      "0    0.847042\n",
      "1    0.152958\n",
      "Name: proportion, dtype: float64\n",
      "\n",
      "Test set class distribution:\n",
      "Diabetes_binary\n",
      "0    0.847064\n",
      "1    0.152936\n",
      "Name: proportion, dtype: float64\n"
     ]
    }
   ],
   "source": [
    "print(\"Train set class distribution:\")\n",
    "print(y_train_resampled.value_counts(normalize=True))\n",
    "\n",
    "print(\"\\nValidation set class distribution:\")\n",
    "print(y_val.value_counts(normalize=True))\n",
    "\n",
    "print(\"\\nTest set class distribution:\")\n",
    "print(y_test.value_counts(normalize=True))"
   ]
  },
  {
   "cell_type": "markdown",
   "id": "748ee628",
   "metadata": {},
   "source": [
    "**Now we can prepare objects for pytorch models**\n",
    "\n",
    "**Batch size 64 was selected as it is a practical, widely used choice for tabular data, offering a good trade-off between speed, stability, and resource usage.**\n",
    "\n",
    "**We set shuffle=True for train_loader to ensure that the training data is randomly shuffled at the start of each epoch.**\n",
    "\n",
    "- Prevents the model from learning the order of the data, which could lead to overfitting or poor generalization\n",
    "- Improves convergence by exposing the model to a different data order each epoch, helping it learn more robust patterns\n",
    "\n",
    "**For the validation and test sets, shuffle=False is used because:**\n",
    "\n",
    "- Evaluation should be deterministic - to measure performance on the exact same data in the same order each time."
   ]
  },
  {
   "cell_type": "code",
   "execution_count": 21,
   "id": "5b59919c",
   "metadata": {},
   "outputs": [],
   "source": [
    "# Convert to torch tensors\n",
    "X_train_tensor = torch.tensor(X_train_scaled.values, dtype=torch.float32)\n",
    "# Change .squeeze() to .unsqueeze(1) to ensure the target tensor has shape (N, 1)\n",
    "y_train_tensor = torch.tensor(y_train_resampled.values, dtype=torch.float32).unsqueeze(1)\n",
    "X_test_tensor = torch.tensor(X_test_scaled.values, dtype=torch.float32)\n",
    "y_test_tensor = torch.tensor(y_test.values, dtype=torch.float32).unsqueeze(1)\n",
    "\n",
    "# Convert balanced validation set to torch tensors\n",
    "X_val_tensor = torch.tensor(X_val_scaled.values, dtype=torch.float32)\n",
    "y_val_tensor = torch.tensor(y_val.values, dtype=torch.float32).unsqueeze(1)\n",
    "\n",
    "# Create TensorDatasets\n",
    "train_dataset = TensorDataset(X_train_tensor, y_train_tensor)\n",
    "test_dataset = TensorDataset(X_test_tensor, y_test_tensor)\n",
    "val_dataset = TensorDataset(X_val_tensor, y_val_tensor)\n",
    "\n",
    "\n",
    "# Create DataLoaders\n",
    "train_loader = DataLoader(train_dataset, batch_size=64, shuffle=True)\n",
    "test_loader = DataLoader(test_dataset, batch_size=64, shuffle=False)\n",
    "val_loader = DataLoader(val_dataset, batch_size=64, shuffle=False)\n",
    "\n",
    "# Now train_loader and test_loader are ready for PyTorch models"
   ]
  },
  {
   "cell_type": "markdown",
   "id": "6d2d735d",
   "metadata": {},
   "source": [
    "**Retrieve a batch from training DataLoader**\n",
    "\n",
    "The shape of the batch is as expected with batch size of 64 and 21 features"
   ]
  },
  {
   "cell_type": "code",
   "execution_count": 22,
   "id": "5267bf3c",
   "metadata": {},
   "outputs": [
    {
     "name": "stdout",
     "output_type": "stream",
     "text": [
      "Features shape: torch.Size([64, 21])\n",
      "Labels shape: torch.Size([64, 1])\n"
     ]
    }
   ],
   "source": [
    "batch_X, batch_y = next(iter(train_loader))\n",
    "print(\"Features shape:\", batch_X.shape)\n",
    "print(\"Labels shape:\", batch_y.shape)"
   ]
  },
  {
   "cell_type": "markdown",
   "id": "9caa3551",
   "metadata": {},
   "source": [
    "## **NEXT STEPS**\n",
    "\n",
    "- Set up and test a Feed Forward Neural Network and tune hyperparameters."
   ]
  }
 ],
 "metadata": {
  "kernelspec": {
   "display_name": "venv",
   "language": "python",
   "name": "python3"
  },
  "language_info": {
   "codemirror_mode": {
    "name": "ipython",
    "version": 3
   },
   "file_extension": ".py",
   "mimetype": "text/x-python",
   "name": "python",
   "nbconvert_exporter": "python",
   "pygments_lexer": "ipython3",
   "version": "3.13.5"
  }
 },
 "nbformat": 4,
 "nbformat_minor": 5
}
